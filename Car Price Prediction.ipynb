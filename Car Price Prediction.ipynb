{
 "cells": [
  {
   "cell_type": "code",
   "execution_count": 117,
   "id": "5dbfbf47-bb5a-4a3c-bf21-9065cb589963",
   "metadata": {},
   "outputs": [],
   "source": [
    "import numpy as np\n",
    "import pandas as pd\n",
    "import matplotlib.pyplot as plt\n",
    "import seaborn as sns\n",
    "\n",
    "from sklearn.preprocessing import StandardScaler, OneHotEncoder, PowerTransformer, FunctionTransformer, MinMaxScaler\n",
    "from sklearn.model_selection import train_test_split\n",
    "from sklearn.linear_model import LinearRegression\n",
    "from sklearn.metrics import mean_squared_error, r2_score\n",
    "\n",
    "import warnings\n",
    "warnings.filterwarnings(\"ignore\")"
   ]
  },
  {
   "cell_type": "code",
   "execution_count": 2,
   "id": "a747c5fe-0540-4b19-ad54-0bd77792b96f",
   "metadata": {},
   "outputs": [],
   "source": [
    "df = pd.read_csv(r\"C:\\Users\\Soft\\Desktop\\Py\\Docs\\Australia Car Market Data\\old_cars_info.csv\")"
   ]
  },
  {
   "cell_type": "code",
   "execution_count": 3,
   "id": "838591ab-b89a-4a26-b497-49782a7375d2",
   "metadata": {},
   "outputs": [
    {
     "data": {
      "text/html": [
       "<div>\n",
       "<style scoped>\n",
       "    .dataframe tbody tr th:only-of-type {\n",
       "        vertical-align: middle;\n",
       "    }\n",
       "\n",
       "    .dataframe tbody tr th {\n",
       "        vertical-align: top;\n",
       "    }\n",
       "\n",
       "    .dataframe thead th {\n",
       "        text-align: right;\n",
       "    }\n",
       "</style>\n",
       "<table border=\"1\" class=\"dataframe\">\n",
       "  <thead>\n",
       "    <tr style=\"text-align: right;\">\n",
       "      <th></th>\n",
       "      <th>ID</th>\n",
       "      <th>Name</th>\n",
       "      <th>Price</th>\n",
       "      <th>Brand</th>\n",
       "      <th>Model</th>\n",
       "      <th>Variant</th>\n",
       "      <th>Series</th>\n",
       "      <th>Year</th>\n",
       "      <th>Kilometers</th>\n",
       "      <th>Type</th>\n",
       "      <th>Gearbox</th>\n",
       "      <th>Fuel</th>\n",
       "      <th>Status</th>\n",
       "      <th>CC</th>\n",
       "      <th>Color</th>\n",
       "      <th>Seating Capacity</th>\n",
       "    </tr>\n",
       "  </thead>\n",
       "  <tbody>\n",
       "    <tr>\n",
       "      <th>0</th>\n",
       "      <td>11530130</td>\n",
       "      <td>2010 Toyota Rukus Build 2 AZE151R</td>\n",
       "      <td>9999</td>\n",
       "      <td>Toyota</td>\n",
       "      <td>Rukus</td>\n",
       "      <td>Build 2</td>\n",
       "      <td>AZE151R</td>\n",
       "      <td>2010</td>\n",
       "      <td>263000</td>\n",
       "      <td>Wagon</td>\n",
       "      <td>Automatic</td>\n",
       "      <td>Unleaded Petrol</td>\n",
       "      <td>Used</td>\n",
       "      <td>2362</td>\n",
       "      <td>Grey</td>\n",
       "      <td>5</td>\n",
       "    </tr>\n",
       "    <tr>\n",
       "      <th>1</th>\n",
       "      <td>12190570</td>\n",
       "      <td>2021 Mercedes-Benz V 250 D Avantgarde MWB 447 ...</td>\n",
       "      <td>117990</td>\n",
       "      <td>Mercedes-Benz</td>\n",
       "      <td>V</td>\n",
       "      <td>250 D Avantgarde MWB</td>\n",
       "      <td>447 MY21</td>\n",
       "      <td>2021</td>\n",
       "      <td>19</td>\n",
       "      <td>Wagon</td>\n",
       "      <td>Automatic</td>\n",
       "      <td>Diesel</td>\n",
       "      <td>New In Stock</td>\n",
       "      <td>2143</td>\n",
       "      <td>Black</td>\n",
       "      <td>7</td>\n",
       "    </tr>\n",
       "    <tr>\n",
       "      <th>2</th>\n",
       "      <td>12321855</td>\n",
       "      <td>2021 Mercedes-Benz Valente 116 CDI MWB RWD 447...</td>\n",
       "      <td>79990</td>\n",
       "      <td>Mercedes-Benz</td>\n",
       "      <td>Valente</td>\n",
       "      <td>116 CDI MWB RWD</td>\n",
       "      <td>447 MY21</td>\n",
       "      <td>2021</td>\n",
       "      <td>24</td>\n",
       "      <td>Wagon</td>\n",
       "      <td>Automatic</td>\n",
       "      <td>Diesel</td>\n",
       "      <td>New In Stock</td>\n",
       "      <td>2143</td>\n",
       "      <td>Black</td>\n",
       "      <td>8</td>\n",
       "    </tr>\n",
       "    <tr>\n",
       "      <th>3</th>\n",
       "      <td>12346971</td>\n",
       "      <td>2010 Mercedes-Benz E250 CDI Avantgarde 207</td>\n",
       "      <td>34990</td>\n",
       "      <td>Mercedes-Benz</td>\n",
       "      <td>E250</td>\n",
       "      <td>CDI Avantgarde</td>\n",
       "      <td>207</td>\n",
       "      <td>2010</td>\n",
       "      <td>120579</td>\n",
       "      <td>Cabriolet</td>\n",
       "      <td>Automatic</td>\n",
       "      <td>Diesel</td>\n",
       "      <td>Used</td>\n",
       "      <td>2143</td>\n",
       "      <td>Black</td>\n",
       "      <td>4</td>\n",
       "    </tr>\n",
       "    <tr>\n",
       "      <th>4</th>\n",
       "      <td>12363884</td>\n",
       "      <td>2016 Holden Cruze CD JH MY16</td>\n",
       "      <td>15990</td>\n",
       "      <td>Holden</td>\n",
       "      <td>Cruze</td>\n",
       "      <td>CD</td>\n",
       "      <td>JH MY16</td>\n",
       "      <td>2016</td>\n",
       "      <td>72506</td>\n",
       "      <td>Sportswagon</td>\n",
       "      <td>Automatic</td>\n",
       "      <td>Unleaded Petrol</td>\n",
       "      <td>Used</td>\n",
       "      <td>1796</td>\n",
       "      <td>White</td>\n",
       "      <td>5</td>\n",
       "    </tr>\n",
       "  </tbody>\n",
       "</table>\n",
       "</div>"
      ],
      "text/plain": [
       "         ID                                               Name   Price  ...    CC  Color Seating Capacity\n",
       "0  11530130                  2010 Toyota Rukus Build 2 AZE151R    9999  ...  2362   Grey                5\n",
       "1  12190570  2021 Mercedes-Benz V 250 D Avantgarde MWB 447 ...  117990  ...  2143  Black                7\n",
       "2  12321855  2021 Mercedes-Benz Valente 116 CDI MWB RWD 447...   79990  ...  2143  Black                8\n",
       "3  12346971         2010 Mercedes-Benz E250 CDI Avantgarde 207   34990  ...  2143  Black                4\n",
       "4  12363884                       2016 Holden Cruze CD JH MY16   15990  ...  1796  White                5\n",
       "\n",
       "[5 rows x 16 columns]"
      ]
     },
     "execution_count": 3,
     "metadata": {},
     "output_type": "execute_result"
    }
   ],
   "source": [
    "df.head()"
   ]
  },
  {
   "cell_type": "code",
   "execution_count": 4,
   "id": "9c5d22f6-6c02-4102-b782-d443f903c207",
   "metadata": {},
   "outputs": [
    {
     "name": "stdout",
     "output_type": "stream",
     "text": [
      "<class 'pandas.core.frame.DataFrame'>\n",
      "RangeIndex: 17048 entries, 0 to 17047\n",
      "Data columns (total 16 columns):\n",
      " #   Column            Non-Null Count  Dtype \n",
      "---  ------            --------------  ----- \n",
      " 0   ID                17048 non-null  int64 \n",
      " 1   Name              17048 non-null  object\n",
      " 2   Price             17048 non-null  int64 \n",
      " 3   Brand             17048 non-null  object\n",
      " 4   Model             17048 non-null  object\n",
      " 5   Variant           17048 non-null  object\n",
      " 6   Series            17048 non-null  object\n",
      " 7   Year              17048 non-null  int64 \n",
      " 8   Kilometers        17048 non-null  int64 \n",
      " 9   Type              17048 non-null  object\n",
      " 10  Gearbox           17048 non-null  object\n",
      " 11  Fuel              17048 non-null  object\n",
      " 12  Status            17048 non-null  object\n",
      " 13  CC                17048 non-null  int64 \n",
      " 14  Color             17048 non-null  object\n",
      " 15  Seating Capacity  17048 non-null  int64 \n",
      "dtypes: int64(6), object(10)\n",
      "memory usage: 2.1+ MB\n"
     ]
    }
   ],
   "source": [
    "df.info()"
   ]
  },
  {
   "cell_type": "code",
   "execution_count": 5,
   "id": "7c501f32-1dde-43b3-b8a7-d389e3f8765a",
   "metadata": {},
   "outputs": [],
   "source": [
    "df.drop([\"ID\", \"Name\"], axis=1, inplace=True)"
   ]
  },
  {
   "cell_type": "code",
   "execution_count": 6,
   "id": "f6b37470-0690-4aa1-8ba5-f9b17fc656d1",
   "metadata": {},
   "outputs": [
    {
     "data": {
      "text/plain": [
       "65"
      ]
     },
     "execution_count": 6,
     "metadata": {},
     "output_type": "execute_result"
    }
   ],
   "source": [
    "df.duplicated().sum()"
   ]
  },
  {
   "cell_type": "code",
   "execution_count": 7,
   "id": "1736cb61-b8cd-45d2-86bf-7aa9870b2708",
   "metadata": {},
   "outputs": [],
   "source": [
    "df.drop_duplicates(inplace=True)"
   ]
  },
  {
   "cell_type": "code",
   "execution_count": 8,
   "id": "c790c60c-7176-471c-b94e-74ff051cf176",
   "metadata": {
    "collapsed": true,
    "jupyter": {
     "outputs_hidden": true
    },
    "scrolled": true
   },
   "outputs": [
    {
     "name": "stdout",
     "output_type": "stream",
     "text": [
      "<class 'pandas.core.frame.DataFrame'>\n",
      "Index: 16983 entries, 0 to 17047\n",
      "Data columns (total 14 columns):\n",
      " #   Column            Non-Null Count  Dtype \n",
      "---  ------            --------------  ----- \n",
      " 0   Price             16983 non-null  int64 \n",
      " 1   Brand             16983 non-null  object\n",
      " 2   Model             16983 non-null  object\n",
      " 3   Variant           16983 non-null  object\n",
      " 4   Series            16983 non-null  object\n",
      " 5   Year              16983 non-null  int64 \n",
      " 6   Kilometers        16983 non-null  int64 \n",
      " 7   Type              16983 non-null  object\n",
      " 8   Gearbox           16983 non-null  object\n",
      " 9   Fuel              16983 non-null  object\n",
      " 10  Status            16983 non-null  object\n",
      " 11  CC                16983 non-null  int64 \n",
      " 12  Color             16983 non-null  object\n",
      " 13  Seating Capacity  16983 non-null  int64 \n",
      "dtypes: int64(5), object(9)\n",
      "memory usage: 1.9+ MB\n"
     ]
    }
   ],
   "source": [
    "df.info()"
   ]
  },
  {
   "cell_type": "code",
   "execution_count": 9,
   "id": "d690aa72-1a37-47bc-9e14-0487b1e46150",
   "metadata": {},
   "outputs": [
    {
     "data": {
      "text/html": [
       "<div>\n",
       "<style scoped>\n",
       "    .dataframe tbody tr th:only-of-type {\n",
       "        vertical-align: middle;\n",
       "    }\n",
       "\n",
       "    .dataframe tbody tr th {\n",
       "        vertical-align: top;\n",
       "    }\n",
       "\n",
       "    .dataframe thead th {\n",
       "        text-align: right;\n",
       "    }\n",
       "</style>\n",
       "<table border=\"1\" class=\"dataframe\">\n",
       "  <thead>\n",
       "    <tr style=\"text-align: right;\">\n",
       "      <th></th>\n",
       "      <th>Price</th>\n",
       "      <th>Brand</th>\n",
       "      <th>Model</th>\n",
       "      <th>Variant</th>\n",
       "      <th>Series</th>\n",
       "      <th>Year</th>\n",
       "      <th>Kilometers</th>\n",
       "      <th>Type</th>\n",
       "      <th>Gearbox</th>\n",
       "      <th>Fuel</th>\n",
       "      <th>Status</th>\n",
       "      <th>CC</th>\n",
       "      <th>Color</th>\n",
       "      <th>Seating Capacity</th>\n",
       "    </tr>\n",
       "  </thead>\n",
       "  <tbody>\n",
       "    <tr>\n",
       "      <th>0</th>\n",
       "      <td>9999</td>\n",
       "      <td>Toyota</td>\n",
       "      <td>Rukus</td>\n",
       "      <td>Build 2</td>\n",
       "      <td>AZE151R</td>\n",
       "      <td>2010</td>\n",
       "      <td>263000</td>\n",
       "      <td>Wagon</td>\n",
       "      <td>Automatic</td>\n",
       "      <td>Unleaded Petrol</td>\n",
       "      <td>Used</td>\n",
       "      <td>2362</td>\n",
       "      <td>Grey</td>\n",
       "      <td>5</td>\n",
       "    </tr>\n",
       "    <tr>\n",
       "      <th>1</th>\n",
       "      <td>117990</td>\n",
       "      <td>Mercedes-Benz</td>\n",
       "      <td>V</td>\n",
       "      <td>250 D Avantgarde MWB</td>\n",
       "      <td>447 MY21</td>\n",
       "      <td>2021</td>\n",
       "      <td>19</td>\n",
       "      <td>Wagon</td>\n",
       "      <td>Automatic</td>\n",
       "      <td>Diesel</td>\n",
       "      <td>New In Stock</td>\n",
       "      <td>2143</td>\n",
       "      <td>Black</td>\n",
       "      <td>7</td>\n",
       "    </tr>\n",
       "    <tr>\n",
       "      <th>2</th>\n",
       "      <td>79990</td>\n",
       "      <td>Mercedes-Benz</td>\n",
       "      <td>Valente</td>\n",
       "      <td>116 CDI MWB RWD</td>\n",
       "      <td>447 MY21</td>\n",
       "      <td>2021</td>\n",
       "      <td>24</td>\n",
       "      <td>Wagon</td>\n",
       "      <td>Automatic</td>\n",
       "      <td>Diesel</td>\n",
       "      <td>New In Stock</td>\n",
       "      <td>2143</td>\n",
       "      <td>Black</td>\n",
       "      <td>8</td>\n",
       "    </tr>\n",
       "    <tr>\n",
       "      <th>3</th>\n",
       "      <td>34990</td>\n",
       "      <td>Mercedes-Benz</td>\n",
       "      <td>E250</td>\n",
       "      <td>CDI Avantgarde</td>\n",
       "      <td>207</td>\n",
       "      <td>2010</td>\n",
       "      <td>120579</td>\n",
       "      <td>Cabriolet</td>\n",
       "      <td>Automatic</td>\n",
       "      <td>Diesel</td>\n",
       "      <td>Used</td>\n",
       "      <td>2143</td>\n",
       "      <td>Black</td>\n",
       "      <td>4</td>\n",
       "    </tr>\n",
       "    <tr>\n",
       "      <th>4</th>\n",
       "      <td>15990</td>\n",
       "      <td>Holden</td>\n",
       "      <td>Cruze</td>\n",
       "      <td>CD</td>\n",
       "      <td>JH MY16</td>\n",
       "      <td>2016</td>\n",
       "      <td>72506</td>\n",
       "      <td>Sportswagon</td>\n",
       "      <td>Automatic</td>\n",
       "      <td>Unleaded Petrol</td>\n",
       "      <td>Used</td>\n",
       "      <td>1796</td>\n",
       "      <td>White</td>\n",
       "      <td>5</td>\n",
       "    </tr>\n",
       "  </tbody>\n",
       "</table>\n",
       "</div>"
      ],
      "text/plain": [
       "    Price          Brand    Model               Variant  ...         Status    CC  Color Seating Capacity\n",
       "0    9999         Toyota    Rukus               Build 2  ...           Used  2362   Grey                5\n",
       "1  117990  Mercedes-Benz        V  250 D Avantgarde MWB  ...   New In Stock  2143  Black                7\n",
       "2   79990  Mercedes-Benz  Valente       116 CDI MWB RWD  ...   New In Stock  2143  Black                8\n",
       "3   34990  Mercedes-Benz     E250        CDI Avantgarde  ...           Used  2143  Black                4\n",
       "4   15990         Holden    Cruze                    CD  ...           Used  1796  White                5\n",
       "\n",
       "[5 rows x 14 columns]"
      ]
     },
     "execution_count": 9,
     "metadata": {},
     "output_type": "execute_result"
    }
   ],
   "source": [
    "df.head()"
   ]
  },
  {
   "cell_type": "code",
   "execution_count": 16,
   "id": "432acd97-c6ee-4c56-afba-9299b819914b",
   "metadata": {},
   "outputs": [
    {
     "data": {
      "text/plain": [
       "count       16983.00\n",
       "mean      1990615.58\n",
       "std       1642639.40\n",
       "min         54150.00\n",
       "25%       1017992.92\n",
       "50%       1623958.50\n",
       "75%       2490358.50\n",
       "max      54095850.00\n",
       "Name: Price, dtype: float64"
      ]
     },
     "execution_count": 16,
     "metadata": {},
     "output_type": "execute_result"
    }
   ],
   "source": [
    "np.round((df[\"Price\"]*54.15).describe(), 2)"
   ]
  },
  {
   "cell_type": "code",
   "execution_count": 18,
   "id": "b1512609-4b97-4afb-a4f1-0f2735474b8b",
   "metadata": {
    "collapsed": true,
    "jupyter": {
     "outputs_hidden": true
    },
    "scrolled": true
   },
   "outputs": [
    {
     "data": {
      "image/png": "[encoded data removed]",
      "text/plain": [
       "<Figure size 640x480 with 1 Axes>"
      ]
     },
     "metadata": {},
     "output_type": "display_data"
    }
   ],
   "source": [
    "df[\"Price\"].plot.hist(bins=100)\n",
    "plt.show()"
   ]
  },
  {
   "cell_type": "code",
   "execution_count": 19,
   "id": "5e1a2c4e-4d91-4ab3-835c-c012ee19324e",
   "metadata": {
    "collapsed": true,
    "jupyter": {
     "outputs_hidden": true
    }
   },
   "outputs": [
    {
     "data": {
      "text/plain": [
       "<Axes: >"
      ]
     },
     "execution_count": 19,
     "metadata": {},
     "output_type": "execute_result"
    },
    {
     "data": {
      "image/png": "[encoded data removed]",
      "text/plain": [
       "<Figure size 640x480 with 1 Axes>"
      ]
     },
     "metadata": {},
     "output_type": "display_data"
    }
   ],
   "source": [
    "df[\"Price\"].plot.box(vert=False)"
   ]
  },
  {
   "cell_type": "code",
   "execution_count": 23,
   "id": "9a7c047c-89e7-41fe-8ed2-2edeb18e570e",
   "metadata": {},
   "outputs": [],
   "source": [
    "def outlier_count(col):\n",
    "    q1, q3 = df[col].quantile([0.25, 0.75])\n",
    "    iqr = q3 - q1\n",
    "    lower = q1 - (1.5 * iqr)\n",
    "    upper = q3 + (1.5 * iqr)\n",
    "    res = df.query(f\"{col} < {lower} | {col} > {upper}\")\n",
    "    return res"
   ]
  },
  {
   "cell_type": "code",
   "execution_count": 24,
   "id": "b3f4005d-6bd1-470f-a83c-14c9aa3297cd",
   "metadata": {
    "scrolled": true
   },
   "outputs": [
    {
     "data": {
      "text/html": [
       "<div>\n",
       "<style scoped>\n",
       "    .dataframe tbody tr th:only-of-type {\n",
       "        vertical-align: middle;\n",
       "    }\n",
       "\n",
       "    .dataframe tbody tr th {\n",
       "        vertical-align: top;\n",
       "    }\n",
       "\n",
       "    .dataframe thead th {\n",
       "        text-align: right;\n",
       "    }\n",
       "</style>\n",
       "<table border=\"1\" class=\"dataframe\">\n",
       "  <thead>\n",
       "    <tr style=\"text-align: right;\">\n",
       "      <th></th>\n",
       "      <th>Price</th>\n",
       "      <th>Brand</th>\n",
       "      <th>Model</th>\n",
       "      <th>Variant</th>\n",
       "      <th>Series</th>\n",
       "      <th>Year</th>\n",
       "      <th>Kilometers</th>\n",
       "      <th>Type</th>\n",
       "      <th>Gearbox</th>\n",
       "      <th>Fuel</th>\n",
       "      <th>Status</th>\n",
       "      <th>CC</th>\n",
       "      <th>Color</th>\n",
       "      <th>Seating Capacity</th>\n",
       "    </tr>\n",
       "  </thead>\n",
       "  <tbody>\n",
       "    <tr>\n",
       "      <th>1</th>\n",
       "      <td>117990</td>\n",
       "      <td>Mercedes-Benz</td>\n",
       "      <td>V</td>\n",
       "      <td>250 D Avantgarde MWB</td>\n",
       "      <td>447 MY21</td>\n",
       "      <td>2021</td>\n",
       "      <td>19</td>\n",
       "      <td>Wagon</td>\n",
       "      <td>Automatic</td>\n",
       "      <td>Diesel</td>\n",
       "      <td>New In Stock</td>\n",
       "      <td>2143</td>\n",
       "      <td>Black</td>\n",
       "      <td>7</td>\n",
       "    </tr>\n",
       "    <tr>\n",
       "      <th>48</th>\n",
       "      <td>119985</td>\n",
       "      <td>Toyota</td>\n",
       "      <td>Landcruiser</td>\n",
       "      <td>LC200 VX (4X4)</td>\n",
       "      <td>VDJ200R</td>\n",
       "      <td>2020</td>\n",
       "      <td>50943</td>\n",
       "      <td>Wagon</td>\n",
       "      <td>Automatic</td>\n",
       "      <td>Diesel</td>\n",
       "      <td>Used</td>\n",
       "      <td>4461</td>\n",
       "      <td>White</td>\n",
       "      <td>7</td>\n",
       "    </tr>\n",
       "    <tr>\n",
       "      <th>54</th>\n",
       "      <td>169990</td>\n",
       "      <td>Toyota</td>\n",
       "      <td>Landcruiser 70 Series</td>\n",
       "      <td>GXL</td>\n",
       "      <td>VDJ79R</td>\n",
       "      <td>2021</td>\n",
       "      <td>1008</td>\n",
       "      <td>Double Cab Chassis</td>\n",
       "      <td>Manual</td>\n",
       "      <td>Diesel</td>\n",
       "      <td>Used</td>\n",
       "      <td>4461</td>\n",
       "      <td>Blue</td>\n",
       "      <td>5</td>\n",
       "    </tr>\n",
       "    <tr>\n",
       "      <th>68</th>\n",
       "      <td>129900</td>\n",
       "      <td>Porsche</td>\n",
       "      <td>Boxster</td>\n",
       "      <td>Spyder</td>\n",
       "      <td>987 MY11</td>\n",
       "      <td>2010</td>\n",
       "      <td>66147</td>\n",
       "      <td>Roadster</td>\n",
       "      <td>Automatic</td>\n",
       "      <td>Premium Unleaded Petrol</td>\n",
       "      <td>Used</td>\n",
       "      <td>3436</td>\n",
       "      <td>Black</td>\n",
       "      <td>2</td>\n",
       "    </tr>\n",
       "    <tr>\n",
       "      <th>156</th>\n",
       "      <td>110990</td>\n",
       "      <td>Ram</td>\n",
       "      <td>1500</td>\n",
       "      <td>Warlock (black/Grey/HYD Blue)</td>\n",
       "      <td>MY20</td>\n",
       "      <td>2020</td>\n",
       "      <td>39969</td>\n",
       "      <td>Crew Cab Utility</td>\n",
       "      <td>Automatic</td>\n",
       "      <td>Unleaded Petrol</td>\n",
       "      <td>Used</td>\n",
       "      <td>5654</td>\n",
       "      <td>Grey</td>\n",
       "      <td>5</td>\n",
       "    </tr>\n",
       "    <tr>\n",
       "      <th>...</th>\n",
       "      <td>...</td>\n",
       "      <td>...</td>\n",
       "      <td>...</td>\n",
       "      <td>...</td>\n",
       "      <td>...</td>\n",
       "      <td>...</td>\n",
       "      <td>...</td>\n",
       "      <td>...</td>\n",
       "      <td>...</td>\n",
       "      <td>...</td>\n",
       "      <td>...</td>\n",
       "      <td>...</td>\n",
       "      <td>...</td>\n",
       "      <td>...</td>\n",
       "    </tr>\n",
       "    <tr>\n",
       "      <th>16908</th>\n",
       "      <td>89600</td>\n",
       "      <td>BMW</td>\n",
       "      <td>430I</td>\n",
       "      <td>M Sport</td>\n",
       "      <td>G22</td>\n",
       "      <td>2021</td>\n",
       "      <td>11338</td>\n",
       "      <td>Coupe</td>\n",
       "      <td>Automatic</td>\n",
       "      <td>Premium Unleaded Petrol</td>\n",
       "      <td>Used</td>\n",
       "      <td>1998</td>\n",
       "      <td>Black</td>\n",
       "      <td>4</td>\n",
       "    </tr>\n",
       "    <tr>\n",
       "      <th>16916</th>\n",
       "      <td>99800</td>\n",
       "      <td>Mercedes-Benz</td>\n",
       "      <td>A45</td>\n",
       "      <td>S 4Matic+</td>\n",
       "      <td>W177 MY21</td>\n",
       "      <td>2020</td>\n",
       "      <td>13802</td>\n",
       "      <td>Hatchback</td>\n",
       "      <td>Automatic</td>\n",
       "      <td>Premium Unleaded Petrol</td>\n",
       "      <td>Used</td>\n",
       "      <td>1991</td>\n",
       "      <td>White</td>\n",
       "      <td>5</td>\n",
       "    </tr>\n",
       "    <tr>\n",
       "      <th>16974</th>\n",
       "      <td>210800</td>\n",
       "      <td>BMW</td>\n",
       "      <td>X6</td>\n",
       "      <td>M Competition</td>\n",
       "      <td>F96</td>\n",
       "      <td>2021</td>\n",
       "      <td>18500</td>\n",
       "      <td>Wagon</td>\n",
       "      <td>Automatic</td>\n",
       "      <td>Premium Unleaded Petrol</td>\n",
       "      <td>Used</td>\n",
       "      <td>4395</td>\n",
       "      <td>Blue</td>\n",
       "      <td>5</td>\n",
       "    </tr>\n",
       "    <tr>\n",
       "      <th>16988</th>\n",
       "      <td>105000</td>\n",
       "      <td>Land Rover</td>\n",
       "      <td>Discovery</td>\n",
       "      <td>TD6 SE</td>\n",
       "      <td>MY17</td>\n",
       "      <td>2017</td>\n",
       "      <td>36000</td>\n",
       "      <td>Wagon</td>\n",
       "      <td>Automatic</td>\n",
       "      <td>Diesel</td>\n",
       "      <td>Used</td>\n",
       "      <td>2993</td>\n",
       "      <td>Orange</td>\n",
       "      <td>5</td>\n",
       "    </tr>\n",
       "    <tr>\n",
       "      <th>17025</th>\n",
       "      <td>89990</td>\n",
       "      <td>Volvo</td>\n",
       "      <td>XC90</td>\n",
       "      <td>D5 Inscription</td>\n",
       "      <td>256 MY19</td>\n",
       "      <td>2019</td>\n",
       "      <td>41644</td>\n",
       "      <td>Wagon</td>\n",
       "      <td>Automatic</td>\n",
       "      <td>Diesel</td>\n",
       "      <td>Used</td>\n",
       "      <td>1969</td>\n",
       "      <td>White</td>\n",
       "      <td>7</td>\n",
       "    </tr>\n",
       "  </tbody>\n",
       "</table>\n",
       "<p>804 rows × 14 columns</p>\n",
       "</div>"
      ],
      "text/plain": [
       "        Price          Brand                  Model  ...    CC   Color  Seating Capacity\n",
       "1      117990  Mercedes-Benz                      V  ...  2143   Black                 7\n",
       "48     119985         Toyota            Landcruiser  ...  4461   White                 7\n",
       "54     169990         Toyota  Landcruiser 70 Series  ...  4461    Blue                 5\n",
       "68     129900        Porsche                Boxster  ...  3436   Black                 2\n",
       "156    110990            Ram                   1500  ...  5654    Grey                 5\n",
       "...       ...            ...                    ...  ...   ...     ...               ...\n",
       "16908   89600            BMW                   430I  ...  1998   Black                 4\n",
       "16916   99800  Mercedes-Benz                    A45  ...  1991   White                 5\n",
       "16974  210800            BMW                     X6  ...  4395    Blue                 5\n",
       "16988  105000     Land Rover              Discovery  ...  2993  Orange                 5\n",
       "17025   89990          Volvo                   XC90  ...  1969   White                 7\n",
       "\n",
       "[804 rows x 14 columns]"
      ]
     },
     "execution_count": 24,
     "metadata": {},
     "output_type": "execute_result"
    }
   ],
   "source": [
    "outlier_count(\"Price\")"
   ]
  },
  {
   "cell_type": "code",
   "execution_count": 27,
   "id": "ffa5a092-9773-4d3d-a8a6-c9d62754ab92",
   "metadata": {
    "scrolled": true
   },
   "outputs": [
    {
     "data": {
      "text/plain": [
       "Brand\n",
       "Toyota             2750\n",
       "Holden             1500\n",
       "Ford               1490\n",
       "Mazda              1164\n",
       "Hyundai            1087\n",
       "Mitsubishi         1072\n",
       "Volkswagen         1012\n",
       "Nissan             1005\n",
       "Kia                 742\n",
       "Subaru              654\n",
       "Mercedes-Benz       623\n",
       "Audi                518\n",
       "BMW                 479\n",
       "Honda               412\n",
       "Jeep                379\n",
       "Land Rover          273\n",
       "Isuzu               267\n",
       "Lexus               180\n",
       "Volvo               160\n",
       "Suzuki              160\n",
       "Skoda               158\n",
       "Renault             150\n",
       "LDV                 116\n",
       "MG                   95\n",
       "Porsche              91\n",
       "Mini                 66\n",
       "Peugeot              45\n",
       "Chrysler             42\n",
       "Jaguar               38\n",
       "HSV                  37\n",
       "GWM                  28\n",
       "Great Wall           27\n",
       "Ram                  23\n",
       "Fiat                 17\n",
       "Dodge                14\n",
       "Citroen              13\n",
       "Alfa Romeo           11\n",
       "Ssangyong            11\n",
       "Infiniti              9\n",
       "Maserati              8\n",
       "Chevrolet             7\n",
       "Bentley               7\n",
       "Haval                 7\n",
       "Abarth                5\n",
       "Cupra                 5\n",
       "Foton                 4\n",
       "Opel                  4\n",
       "Lamborghini           3\n",
       "Aston Martin          2\n",
       "FPV                   2\n",
       "Saab                  2\n",
       "Chery                 2\n",
       "Genesis               1\n",
       "Mitsubishi Fuso       1\n",
       "Hino                  1\n",
       "Iveco                 1\n",
       "Mahindra              1\n",
       "Smart                 1\n",
       "Proton                1\n",
       "Name: count, dtype: int64"
      ]
     },
     "execution_count": 27,
     "metadata": {},
     "output_type": "execute_result"
    }
   ],
   "source": [
    "df[\"Brand\"].value_counts()"
   ]
  },
  {
   "cell_type": "code",
   "execution_count": 30,
   "id": "2d0fda36-63e1-4a72-9fc4-8b980722e444",
   "metadata": {},
   "outputs": [
    {
     "data": {
      "text/plain": [
       "['Toyota',\n",
       " 'Holden',\n",
       " 'Ford',\n",
       " 'Mazda',\n",
       " 'Hyundai',\n",
       " 'Mitsubishi',\n",
       " 'Volkswagen',\n",
       " 'Nissan',\n",
       " 'Kia']"
      ]
     },
     "execution_count": 30,
     "metadata": {},
     "output_type": "execute_result"
    }
   ],
   "source": [
    "df['Brand'].value_counts().head(9).index.tolist()"
   ]
  },
  {
   "cell_type": "code",
   "execution_count": 34,
   "id": "00bd9656-5699-49e6-b866-631ceed38d65",
   "metadata": {},
   "outputs": [],
   "source": [
    "df[\"Brand\"] = df[\"Brand\"].apply(lambda x: x if x in df['Brand'].value_counts().head(9)\\\n",
    "                                .index.tolist() else \"Other\")"
   ]
  },
  {
   "cell_type": "code",
   "execution_count": 35,
   "id": "ca6561e4-7cac-4d22-b776-cf35eda0d17c",
   "metadata": {
    "collapsed": true,
    "jupyter": {
     "outputs_hidden": true
    }
   },
   "outputs": [
    {
     "data": {
      "text/plain": [
       "Brand\n",
       "Other         5161\n",
       "Toyota        2750\n",
       "Holden        1500\n",
       "Ford          1490\n",
       "Mazda         1164\n",
       "Hyundai       1087\n",
       "Mitsubishi    1072\n",
       "Volkswagen    1012\n",
       "Nissan        1005\n",
       "Kia            742\n",
       "Name: count, dtype: int64"
      ]
     },
     "execution_count": 35,
     "metadata": {},
     "output_type": "execute_result"
    }
   ],
   "source": [
    "df[\"Brand\"].value_counts()"
   ]
  },
  {
   "cell_type": "code",
   "execution_count": 38,
   "id": "0929d978-b1b1-4d5f-9036-40a9270fcf80",
   "metadata": {
    "collapsed": true,
    "jupyter": {
     "outputs_hidden": true
    },
    "scrolled": true
   },
   "outputs": [
    {
     "data": {
      "text/plain": [
       "['Ranger',\n",
       " 'Hilux',\n",
       " 'Commodore',\n",
       " 'Triton',\n",
       " 'Corolla',\n",
       " 'Navara',\n",
       " 'RAV4',\n",
       " 'Colorado',\n",
       " '3']"
      ]
     },
     "execution_count": 38,
     "metadata": {},
     "output_type": "execute_result"
    }
   ],
   "source": [
    "df[\"Model\"].value_counts().head(9).index.tolist()"
   ]
  },
  {
   "cell_type": "code",
   "execution_count": 39,
   "id": "89582a39-10f2-410b-96e6-d63fa9cfed0e",
   "metadata": {},
   "outputs": [],
   "source": [
    "df[\"Model\"] = df[\"Model\"].apply(lambda x: x if x in df['Model'].value_counts().head(9)\\\n",
    "                                .index.tolist() else \"Other\")"
   ]
  },
  {
   "cell_type": "code",
   "execution_count": 41,
   "id": "248d3218-0019-4755-847d-e830bed757ae",
   "metadata": {
    "collapsed": true,
    "jupyter": {
     "outputs_hidden": true
    },
    "scrolled": true
   },
   "outputs": [
    {
     "data": {
      "text/plain": [
       "Model\n",
       "Other        13414\n",
       "Ranger         648\n",
       "Hilux          537\n",
       "Commodore      490\n",
       "Triton         368\n",
       "Corolla        355\n",
       "Navara         305\n",
       "RAV4           304\n",
       "Colorado       281\n",
       "3              281\n",
       "Name: count, dtype: int64"
      ]
     },
     "execution_count": 41,
     "metadata": {},
     "output_type": "execute_result"
    }
   ],
   "source": [
    "df[\"Model\"].value_counts()"
   ]
  },
  {
   "cell_type": "code",
   "execution_count": 44,
   "id": "e1a86f24-f93c-4804-b77a-57c4e616477f",
   "metadata": {},
   "outputs": [],
   "source": [
    "df.drop([\"Variant\", \"Series\"], axis=1, inplace=True)"
   ]
  },
  {
   "cell_type": "code",
   "execution_count": 45,
   "id": "33094bb8-9889-41bd-ad69-d186c6b12997",
   "metadata": {},
   "outputs": [
    {
     "data": {
      "text/html": [
       "<div>\n",
       "<style scoped>\n",
       "    .dataframe tbody tr th:only-of-type {\n",
       "        vertical-align: middle;\n",
       "    }\n",
       "\n",
       "    .dataframe tbody tr th {\n",
       "        vertical-align: top;\n",
       "    }\n",
       "\n",
       "    .dataframe thead th {\n",
       "        text-align: right;\n",
       "    }\n",
       "</style>\n",
       "<table border=\"1\" class=\"dataframe\">\n",
       "  <thead>\n",
       "    <tr style=\"text-align: right;\">\n",
       "      <th></th>\n",
       "      <th>Price</th>\n",
       "      <th>Brand</th>\n",
       "      <th>Model</th>\n",
       "      <th>Year</th>\n",
       "      <th>Kilometers</th>\n",
       "      <th>Type</th>\n",
       "      <th>Gearbox</th>\n",
       "      <th>Fuel</th>\n",
       "      <th>Status</th>\n",
       "      <th>CC</th>\n",
       "      <th>Color</th>\n",
       "      <th>Seating Capacity</th>\n",
       "    </tr>\n",
       "  </thead>\n",
       "  <tbody>\n",
       "    <tr>\n",
       "      <th>0</th>\n",
       "      <td>9999</td>\n",
       "      <td>Toyota</td>\n",
       "      <td>Other</td>\n",
       "      <td>2010</td>\n",
       "      <td>263000</td>\n",
       "      <td>Wagon</td>\n",
       "      <td>Automatic</td>\n",
       "      <td>Unleaded Petrol</td>\n",
       "      <td>Used</td>\n",
       "      <td>2362</td>\n",
       "      <td>Grey</td>\n",
       "      <td>5</td>\n",
       "    </tr>\n",
       "    <tr>\n",
       "      <th>1</th>\n",
       "      <td>117990</td>\n",
       "      <td>Other</td>\n",
       "      <td>Other</td>\n",
       "      <td>2021</td>\n",
       "      <td>19</td>\n",
       "      <td>Wagon</td>\n",
       "      <td>Automatic</td>\n",
       "      <td>Diesel</td>\n",
       "      <td>New In Stock</td>\n",
       "      <td>2143</td>\n",
       "      <td>Black</td>\n",
       "      <td>7</td>\n",
       "    </tr>\n",
       "    <tr>\n",
       "      <th>2</th>\n",
       "      <td>79990</td>\n",
       "      <td>Other</td>\n",
       "      <td>Other</td>\n",
       "      <td>2021</td>\n",
       "      <td>24</td>\n",
       "      <td>Wagon</td>\n",
       "      <td>Automatic</td>\n",
       "      <td>Diesel</td>\n",
       "      <td>New In Stock</td>\n",
       "      <td>2143</td>\n",
       "      <td>Black</td>\n",
       "      <td>8</td>\n",
       "    </tr>\n",
       "    <tr>\n",
       "      <th>3</th>\n",
       "      <td>34990</td>\n",
       "      <td>Other</td>\n",
       "      <td>Other</td>\n",
       "      <td>2010</td>\n",
       "      <td>120579</td>\n",
       "      <td>Cabriolet</td>\n",
       "      <td>Automatic</td>\n",
       "      <td>Diesel</td>\n",
       "      <td>Used</td>\n",
       "      <td>2143</td>\n",
       "      <td>Black</td>\n",
       "      <td>4</td>\n",
       "    </tr>\n",
       "    <tr>\n",
       "      <th>4</th>\n",
       "      <td>15990</td>\n",
       "      <td>Holden</td>\n",
       "      <td>Other</td>\n",
       "      <td>2016</td>\n",
       "      <td>72506</td>\n",
       "      <td>Sportswagon</td>\n",
       "      <td>Automatic</td>\n",
       "      <td>Unleaded Petrol</td>\n",
       "      <td>Used</td>\n",
       "      <td>1796</td>\n",
       "      <td>White</td>\n",
       "      <td>5</td>\n",
       "    </tr>\n",
       "  </tbody>\n",
       "</table>\n",
       "</div>"
      ],
      "text/plain": [
       "    Price   Brand  Model  Year  Kilometers  ...             Fuel         Status    CC  Color  Seating Capacity\n",
       "0    9999  Toyota  Other  2010      263000  ...  Unleaded Petrol           Used  2362   Grey                 5\n",
       "1  117990   Other  Other  2021          19  ...           Diesel   New In Stock  2143  Black                 7\n",
       "2   79990   Other  Other  2021          24  ...           Diesel   New In Stock  2143  Black                 8\n",
       "3   34990   Other  Other  2010      120579  ...           Diesel           Used  2143  Black                 4\n",
       "4   15990  Holden  Other  2016       72506  ...  Unleaded Petrol           Used  1796  White                 5\n",
       "\n",
       "[5 rows x 12 columns]"
      ]
     },
     "execution_count": 45,
     "metadata": {},
     "output_type": "execute_result"
    }
   ],
   "source": [
    "df.head()"
   ]
  },
  {
   "cell_type": "code",
   "execution_count": 47,
   "id": "cfa85afe-4f50-42bf-ade8-3cd29b74f349",
   "metadata": {
    "scrolled": true
   },
   "outputs": [
    {
     "data": {
      "text/plain": [
       "Year\n",
       "1989       2\n",
       "1990       2\n",
       "1991       2\n",
       "1992       1\n",
       "1993       4\n",
       "1994       3\n",
       "1995       7\n",
       "1996       9\n",
       "1997      10\n",
       "1998      16\n",
       "1999      15\n",
       "2000      40\n",
       "2001      45\n",
       "2002      74\n",
       "2003     117\n",
       "2004     139\n",
       "2005     186\n",
       "2006     225\n",
       "2007     327\n",
       "2008     359\n",
       "2009     391\n",
       "2010     553\n",
       "2011     586\n",
       "2012     802\n",
       "2013     946\n",
       "2014    1006\n",
       "2015    1206\n",
       "2016    1443\n",
       "2017    1812\n",
       "2018    1888\n",
       "2019    1621\n",
       "2020    1028\n",
       "2021    1004\n",
       "2022    1114\n",
       "Name: count, dtype: int64"
      ]
     },
     "execution_count": 47,
     "metadata": {},
     "output_type": "execute_result"
    }
   ],
   "source": [
    "df[\"Year\"].value_counts().sort_index()"
   ]
  },
  {
   "cell_type": "code",
   "execution_count": 59,
   "id": "5f50bd70-30af-419c-8ac5-b903357408e2",
   "metadata": {},
   "outputs": [],
   "source": [
    "df[\"Age\"] = 2025 - df[\"Year\"]"
   ]
  },
  {
   "cell_type": "code",
   "execution_count": 60,
   "id": "a184c6e9-ee62-40bd-b8ca-5ef6ee18fa36",
   "metadata": {},
   "outputs": [],
   "source": [
    "df[\"Age\"] = pd.cut(df[\"Age\"], bins=[2, 5, 10, 17, 26, 36])"
   ]
  },
  {
   "cell_type": "code",
   "execution_count": 61,
   "id": "93c68263-a2d2-4a2a-93e1-948b295e58c7",
   "metadata": {},
   "outputs": [
    {
     "data": {
      "text/html": [
       "<div>\n",
       "<style scoped>\n",
       "    .dataframe tbody tr th:only-of-type {\n",
       "        vertical-align: middle;\n",
       "    }\n",
       "\n",
       "    .dataframe tbody tr th {\n",
       "        vertical-align: top;\n",
       "    }\n",
       "\n",
       "    .dataframe thead th {\n",
       "        text-align: right;\n",
       "    }\n",
       "</style>\n",
       "<table border=\"1\" class=\"dataframe\">\n",
       "  <thead>\n",
       "    <tr style=\"text-align: right;\">\n",
       "      <th></th>\n",
       "      <th>Price</th>\n",
       "      <th>Brand</th>\n",
       "      <th>Model</th>\n",
       "      <th>Year</th>\n",
       "      <th>Kilometers</th>\n",
       "      <th>Type</th>\n",
       "      <th>Gearbox</th>\n",
       "      <th>Fuel</th>\n",
       "      <th>Status</th>\n",
       "      <th>CC</th>\n",
       "      <th>Color</th>\n",
       "      <th>Seating Capacity</th>\n",
       "      <th>Age</th>\n",
       "    </tr>\n",
       "  </thead>\n",
       "  <tbody>\n",
       "    <tr>\n",
       "      <th>0</th>\n",
       "      <td>9999</td>\n",
       "      <td>Toyota</td>\n",
       "      <td>Other</td>\n",
       "      <td>2010</td>\n",
       "      <td>263000</td>\n",
       "      <td>Wagon</td>\n",
       "      <td>Automatic</td>\n",
       "      <td>Unleaded Petrol</td>\n",
       "      <td>Used</td>\n",
       "      <td>2362</td>\n",
       "      <td>Grey</td>\n",
       "      <td>5</td>\n",
       "      <td>(10, 17]</td>\n",
       "    </tr>\n",
       "    <tr>\n",
       "      <th>1</th>\n",
       "      <td>117990</td>\n",
       "      <td>Other</td>\n",
       "      <td>Other</td>\n",
       "      <td>2021</td>\n",
       "      <td>19</td>\n",
       "      <td>Wagon</td>\n",
       "      <td>Automatic</td>\n",
       "      <td>Diesel</td>\n",
       "      <td>New In Stock</td>\n",
       "      <td>2143</td>\n",
       "      <td>Black</td>\n",
       "      <td>7</td>\n",
       "      <td>(2, 5]</td>\n",
       "    </tr>\n",
       "    <tr>\n",
       "      <th>2</th>\n",
       "      <td>79990</td>\n",
       "      <td>Other</td>\n",
       "      <td>Other</td>\n",
       "      <td>2021</td>\n",
       "      <td>24</td>\n",
       "      <td>Wagon</td>\n",
       "      <td>Automatic</td>\n",
       "      <td>Diesel</td>\n",
       "      <td>New In Stock</td>\n",
       "      <td>2143</td>\n",
       "      <td>Black</td>\n",
       "      <td>8</td>\n",
       "      <td>(2, 5]</td>\n",
       "    </tr>\n",
       "    <tr>\n",
       "      <th>3</th>\n",
       "      <td>34990</td>\n",
       "      <td>Other</td>\n",
       "      <td>Other</td>\n",
       "      <td>2010</td>\n",
       "      <td>120579</td>\n",
       "      <td>Cabriolet</td>\n",
       "      <td>Automatic</td>\n",
       "      <td>Diesel</td>\n",
       "      <td>Used</td>\n",
       "      <td>2143</td>\n",
       "      <td>Black</td>\n",
       "      <td>4</td>\n",
       "      <td>(10, 17]</td>\n",
       "    </tr>\n",
       "    <tr>\n",
       "      <th>4</th>\n",
       "      <td>15990</td>\n",
       "      <td>Holden</td>\n",
       "      <td>Other</td>\n",
       "      <td>2016</td>\n",
       "      <td>72506</td>\n",
       "      <td>Sportswagon</td>\n",
       "      <td>Automatic</td>\n",
       "      <td>Unleaded Petrol</td>\n",
       "      <td>Used</td>\n",
       "      <td>1796</td>\n",
       "      <td>White</td>\n",
       "      <td>5</td>\n",
       "      <td>(5, 10]</td>\n",
       "    </tr>\n",
       "  </tbody>\n",
       "</table>\n",
       "</div>"
      ],
      "text/plain": [
       "    Price   Brand  Model  Year  Kilometers  ...         Status    CC  Color Seating Capacity       Age\n",
       "0    9999  Toyota  Other  2010      263000  ...           Used  2362   Grey                5  (10, 17]\n",
       "1  117990   Other  Other  2021          19  ...   New In Stock  2143  Black                7    (2, 5]\n",
       "2   79990   Other  Other  2021          24  ...   New In Stock  2143  Black                8    (2, 5]\n",
       "3   34990   Other  Other  2010      120579  ...           Used  2143  Black                4  (10, 17]\n",
       "4   15990  Holden  Other  2016       72506  ...           Used  1796  White                5   (5, 10]\n",
       "\n",
       "[5 rows x 13 columns]"
      ]
     },
     "execution_count": 61,
     "metadata": {},
     "output_type": "execute_result"
    }
   ],
   "source": [
    "df.head()"
   ]
  },
  {
   "cell_type": "code",
   "execution_count": 62,
   "id": "0c0288dd-e7cf-48d3-951e-3e7ca54f4f5c",
   "metadata": {},
   "outputs": [],
   "source": [
    "df.drop(\"Year\", axis=1, inplace=True)"
   ]
  },
  {
   "cell_type": "code",
   "execution_count": 64,
   "id": "2228420e-9002-439b-b359-ea86259d1472",
   "metadata": {
    "collapsed": true,
    "jupyter": {
     "outputs_hidden": true
    }
   },
   "outputs": [
    {
     "data": {
      "text/plain": [
       "<Axes: ylabel='Frequency'>"
      ]
     },
     "execution_count": 64,
     "metadata": {},
     "output_type": "execute_result"
    },
    {
     "data": {
      "image/png": "[encoded data removed]",
      "text/plain": [
       "<Figure size 640x480 with 1 Axes>"
      ]
     },
     "metadata": {},
     "output_type": "display_data"
    }
   ],
   "source": [
    "df[\"Kilometers\"].plot.hist(bins=100)"
   ]
  },
  {
   "cell_type": "code",
   "execution_count": 66,
   "id": "b4f02d80-c8ac-4f94-b252-ca6dde585444",
   "metadata": {
    "collapsed": true,
    "jupyter": {
     "outputs_hidden": true
    },
    "scrolled": true
   },
   "outputs": [
    {
     "data": {
      "text/plain": [
       "<Axes: >"
      ]
     },
     "execution_count": 66,
     "metadata": {},
     "output_type": "execute_result"
    },
    {
     "data": {
      "image/png": "[encoded data removed]",
      "text/plain": [
       "<Figure size 640x480 with 1 Axes>"
      ]
     },
     "metadata": {},
     "output_type": "display_data"
    }
   ],
   "source": [
    "df[\"Kilometers\"].plot.box(vert=False)"
   ]
  },
  {
   "cell_type": "code",
   "execution_count": 77,
   "id": "bccef115-7443-4eb9-bbfe-d3af01fdca6f",
   "metadata": {},
   "outputs": [],
   "source": [
    "df = df.query(\"Kilometers < 500000\")"
   ]
  },
  {
   "cell_type": "code",
   "execution_count": 79,
   "id": "95d86f67-bcea-4644-935c-1801a269ac22",
   "metadata": {},
   "outputs": [
    {
     "data": {
      "text/html": [
       "<div>\n",
       "<style scoped>\n",
       "    .dataframe tbody tr th:only-of-type {\n",
       "        vertical-align: middle;\n",
       "    }\n",
       "\n",
       "    .dataframe tbody tr th {\n",
       "        vertical-align: top;\n",
       "    }\n",
       "\n",
       "    .dataframe thead th {\n",
       "        text-align: right;\n",
       "    }\n",
       "</style>\n",
       "<table border=\"1\" class=\"dataframe\">\n",
       "  <thead>\n",
       "    <tr style=\"text-align: right;\">\n",
       "      <th></th>\n",
       "      <th>Price</th>\n",
       "      <th>Brand</th>\n",
       "      <th>Model</th>\n",
       "      <th>Kilometers</th>\n",
       "      <th>Type</th>\n",
       "      <th>Gearbox</th>\n",
       "      <th>Fuel</th>\n",
       "      <th>Status</th>\n",
       "      <th>CC</th>\n",
       "      <th>Color</th>\n",
       "      <th>Seating Capacity</th>\n",
       "      <th>Age</th>\n",
       "    </tr>\n",
       "  </thead>\n",
       "  <tbody>\n",
       "    <tr>\n",
       "      <th>0</th>\n",
       "      <td>9999</td>\n",
       "      <td>Toyota</td>\n",
       "      <td>Other</td>\n",
       "      <td>263000</td>\n",
       "      <td>Wagon</td>\n",
       "      <td>Automatic</td>\n",
       "      <td>Unleaded Petrol</td>\n",
       "      <td>Used</td>\n",
       "      <td>2362</td>\n",
       "      <td>Grey</td>\n",
       "      <td>5</td>\n",
       "      <td>(10, 17]</td>\n",
       "    </tr>\n",
       "    <tr>\n",
       "      <th>1</th>\n",
       "      <td>117990</td>\n",
       "      <td>Other</td>\n",
       "      <td>Other</td>\n",
       "      <td>19</td>\n",
       "      <td>Wagon</td>\n",
       "      <td>Automatic</td>\n",
       "      <td>Diesel</td>\n",
       "      <td>New In Stock</td>\n",
       "      <td>2143</td>\n",
       "      <td>Black</td>\n",
       "      <td>7</td>\n",
       "      <td>(2, 5]</td>\n",
       "    </tr>\n",
       "    <tr>\n",
       "      <th>2</th>\n",
       "      <td>79990</td>\n",
       "      <td>Other</td>\n",
       "      <td>Other</td>\n",
       "      <td>24</td>\n",
       "      <td>Wagon</td>\n",
       "      <td>Automatic</td>\n",
       "      <td>Diesel</td>\n",
       "      <td>New In Stock</td>\n",
       "      <td>2143</td>\n",
       "      <td>Black</td>\n",
       "      <td>8</td>\n",
       "      <td>(2, 5]</td>\n",
       "    </tr>\n",
       "    <tr>\n",
       "      <th>3</th>\n",
       "      <td>34990</td>\n",
       "      <td>Other</td>\n",
       "      <td>Other</td>\n",
       "      <td>120579</td>\n",
       "      <td>Cabriolet</td>\n",
       "      <td>Automatic</td>\n",
       "      <td>Diesel</td>\n",
       "      <td>Used</td>\n",
       "      <td>2143</td>\n",
       "      <td>Black</td>\n",
       "      <td>4</td>\n",
       "      <td>(10, 17]</td>\n",
       "    </tr>\n",
       "    <tr>\n",
       "      <th>4</th>\n",
       "      <td>15990</td>\n",
       "      <td>Holden</td>\n",
       "      <td>Other</td>\n",
       "      <td>72506</td>\n",
       "      <td>Sportswagon</td>\n",
       "      <td>Automatic</td>\n",
       "      <td>Unleaded Petrol</td>\n",
       "      <td>Used</td>\n",
       "      <td>1796</td>\n",
       "      <td>White</td>\n",
       "      <td>5</td>\n",
       "      <td>(5, 10]</td>\n",
       "    </tr>\n",
       "  </tbody>\n",
       "</table>\n",
       "</div>"
      ],
      "text/plain": [
       "    Price   Brand  Model  Kilometers         Type  ...         Status    CC  Color  Seating Capacity       Age\n",
       "0    9999  Toyota  Other      263000        Wagon  ...           Used  2362   Grey                 5  (10, 17]\n",
       "1  117990   Other  Other          19        Wagon  ...   New In Stock  2143  Black                 7    (2, 5]\n",
       "2   79990   Other  Other          24        Wagon  ...   New In Stock  2143  Black                 8    (2, 5]\n",
       "3   34990   Other  Other      120579    Cabriolet  ...           Used  2143  Black                 4  (10, 17]\n",
       "4   15990  Holden  Other       72506  Sportswagon  ...           Used  1796  White                 5   (5, 10]\n",
       "\n",
       "[5 rows x 12 columns]"
      ]
     },
     "execution_count": 79,
     "metadata": {},
     "output_type": "execute_result"
    }
   ],
   "source": [
    "df.head()"
   ]
  },
  {
   "cell_type": "code",
   "execution_count": 81,
   "id": "808b72ce-8591-4cd5-a72c-5eba1bedf54f",
   "metadata": {
    "collapsed": true,
    "jupyter": {
     "outputs_hidden": true
    }
   },
   "outputs": [
    {
     "data": {
      "text/plain": [
       "Type\n",
       "Wagon                    7735\n",
       "Hatchback                2411\n",
       "Sedan                    2318\n",
       "Dual Cab Utility          655\n",
       "Coupe                     468\n",
       "Cab Chassis               424\n",
       "Double Cab Pick Up        422\n",
       "Dual Cab Pick-up          421\n",
       "Van                       380\n",
       "Crew Cab Pickup           268\n",
       "Crew Cab Utility          207\n",
       "Double Cab Utility        206\n",
       "Utility                   178\n",
       "Sportswagon               143\n",
       "Double Cab Chassis         95\n",
       "Crew Cab Chassis           77\n",
       "Dual Cab Chassis           71\n",
       "Convertible                44\n",
       "Sportback                  43\n",
       "Liftback                   39\n",
       "Fastback                   36\n",
       "Cabriolet                  35\n",
       "Softtop                    35\n",
       "Hardtop                    35\n",
       "Super Cab Utility          23\n",
       "Bus                        21\n",
       "Space Cab Chassis          21\n",
       "Super Cab Chassis          19\n",
       "X Cab Pickup               13\n",
       "Roadster                   13\n",
       "Saloon                     13\n",
       "Freestyle Cab Chassis      11\n",
       "Space Cab Utility          10\n",
       "X Cab Cab Chassis           8\n",
       "King Cab Pickup             8\n",
       "Space Cab Pickup            7\n",
       "Troop Carrier               6\n",
       "Crew Van                    5\n",
       "X Cab Utility               5\n",
       "Club Cab Chassis            5\n",
       "Leaf Cab Chassis            4\n",
       "Coach                       4\n",
       "Estate                      4\n",
       "Club Cab Utility            3\n",
       "Club Cab Pickup             3\n",
       "Freestyle Utility           3\n",
       "Coil Cab Chassis            3\n",
       "Blind Van                   2\n",
       "Pickup                      2\n",
       "Super Cab Pickup            2\n",
       "Crew Cab Van                1\n",
       "King Cab Pick Up            1\n",
       "Panel Van                   1\n",
       "Cab Chassis Tray            1\n",
       "Softback                    1\n",
       "King Cab Utility            1\n",
       "Name: count, dtype: int64"
      ]
     },
     "execution_count": 81,
     "metadata": {},
     "output_type": "execute_result"
    }
   ],
   "source": [
    "df[\"Type\"].value_counts()"
   ]
  },
  {
   "cell_type": "code",
   "execution_count": 82,
   "id": "bb870861-5e40-4d91-8d9a-456716ea31ec",
   "metadata": {},
   "outputs": [],
   "source": [
    "df[\"Type\"] = df[\"Type\"].apply(lambda x: x if x in df['Type'].value_counts().head(3)\\\n",
    "                                .index.tolist() else \"Other\")"
   ]
  },
  {
   "cell_type": "code",
   "execution_count": 83,
   "id": "c8cf5d9e-52b4-4e29-8b95-14c2560a6b48",
   "metadata": {},
   "outputs": [
    {
     "data": {
      "text/plain": [
       "Type\n",
       "Wagon        7735\n",
       "Other        4506\n",
       "Hatchback    2411\n",
       "Sedan        2318\n",
       "Name: count, dtype: int64"
      ]
     },
     "execution_count": 83,
     "metadata": {},
     "output_type": "execute_result"
    }
   ],
   "source": [
    "df[\"Type\"].value_counts()"
   ]
  },
  {
   "cell_type": "code",
   "execution_count": 84,
   "id": "85ff039b-6605-4ddd-b928-33f5faa4e91a",
   "metadata": {},
   "outputs": [
    {
     "data": {
      "text/plain": [
       "Gearbox\n",
       "Automatic    14511\n",
       "Manual        2435\n",
       "AWD             13\n",
       "Front            8\n",
       "Rear             3\n",
       "Name: count, dtype: int64"
      ]
     },
     "execution_count": 84,
     "metadata": {},
     "output_type": "execute_result"
    }
   ],
   "source": [
    "df[\"Gearbox\"].value_counts()"
   ]
  },
  {
   "cell_type": "code",
   "execution_count": 88,
   "id": "6566b539-245c-4229-ad81-e32f7639ed45",
   "metadata": {},
   "outputs": [],
   "source": [
    "df = df.query(\"Gearbox in ('Automatic', 'Manual')\")"
   ]
  },
  {
   "cell_type": "code",
   "execution_count": 90,
   "id": "874cd39c-4561-4c15-9134-af382e02494c",
   "metadata": {},
   "outputs": [
    {
     "data": {
      "text/plain": [
       "Gearbox\n",
       "Automatic    14511\n",
       "Manual        2435\n",
       "Name: count, dtype: int64"
      ]
     },
     "execution_count": 90,
     "metadata": {},
     "output_type": "execute_result"
    }
   ],
   "source": [
    "df[\"Gearbox\"].value_counts()"
   ]
  },
  {
   "cell_type": "code",
   "execution_count": 89,
   "id": "48f90698-ba3d-4e11-8acb-883677b4fb46",
   "metadata": {},
   "outputs": [
    {
     "data": {
      "text/html": [
       "<div>\n",
       "<style scoped>\n",
       "    .dataframe tbody tr th:only-of-type {\n",
       "        vertical-align: middle;\n",
       "    }\n",
       "\n",
       "    .dataframe tbody tr th {\n",
       "        vertical-align: top;\n",
       "    }\n",
       "\n",
       "    .dataframe thead th {\n",
       "        text-align: right;\n",
       "    }\n",
       "</style>\n",
       "<table border=\"1\" class=\"dataframe\">\n",
       "  <thead>\n",
       "    <tr style=\"text-align: right;\">\n",
       "      <th></th>\n",
       "      <th>Price</th>\n",
       "      <th>Brand</th>\n",
       "      <th>Model</th>\n",
       "      <th>Kilometers</th>\n",
       "      <th>Type</th>\n",
       "      <th>Gearbox</th>\n",
       "      <th>Fuel</th>\n",
       "      <th>Status</th>\n",
       "      <th>CC</th>\n",
       "      <th>Color</th>\n",
       "      <th>Seating Capacity</th>\n",
       "      <th>Age</th>\n",
       "    </tr>\n",
       "  </thead>\n",
       "  <tbody>\n",
       "    <tr>\n",
       "      <th>0</th>\n",
       "      <td>9999</td>\n",
       "      <td>Toyota</td>\n",
       "      <td>Other</td>\n",
       "      <td>263000</td>\n",
       "      <td>Wagon</td>\n",
       "      <td>Automatic</td>\n",
       "      <td>Unleaded Petrol</td>\n",
       "      <td>Used</td>\n",
       "      <td>2362</td>\n",
       "      <td>Grey</td>\n",
       "      <td>5</td>\n",
       "      <td>(10, 17]</td>\n",
       "    </tr>\n",
       "    <tr>\n",
       "      <th>1</th>\n",
       "      <td>117990</td>\n",
       "      <td>Other</td>\n",
       "      <td>Other</td>\n",
       "      <td>19</td>\n",
       "      <td>Wagon</td>\n",
       "      <td>Automatic</td>\n",
       "      <td>Diesel</td>\n",
       "      <td>New In Stock</td>\n",
       "      <td>2143</td>\n",
       "      <td>Black</td>\n",
       "      <td>7</td>\n",
       "      <td>(2, 5]</td>\n",
       "    </tr>\n",
       "    <tr>\n",
       "      <th>2</th>\n",
       "      <td>79990</td>\n",
       "      <td>Other</td>\n",
       "      <td>Other</td>\n",
       "      <td>24</td>\n",
       "      <td>Wagon</td>\n",
       "      <td>Automatic</td>\n",
       "      <td>Diesel</td>\n",
       "      <td>New In Stock</td>\n",
       "      <td>2143</td>\n",
       "      <td>Black</td>\n",
       "      <td>8</td>\n",
       "      <td>(2, 5]</td>\n",
       "    </tr>\n",
       "    <tr>\n",
       "      <th>3</th>\n",
       "      <td>34990</td>\n",
       "      <td>Other</td>\n",
       "      <td>Other</td>\n",
       "      <td>120579</td>\n",
       "      <td>Other</td>\n",
       "      <td>Automatic</td>\n",
       "      <td>Diesel</td>\n",
       "      <td>Used</td>\n",
       "      <td>2143</td>\n",
       "      <td>Black</td>\n",
       "      <td>4</td>\n",
       "      <td>(10, 17]</td>\n",
       "    </tr>\n",
       "    <tr>\n",
       "      <th>4</th>\n",
       "      <td>15990</td>\n",
       "      <td>Holden</td>\n",
       "      <td>Other</td>\n",
       "      <td>72506</td>\n",
       "      <td>Other</td>\n",
       "      <td>Automatic</td>\n",
       "      <td>Unleaded Petrol</td>\n",
       "      <td>Used</td>\n",
       "      <td>1796</td>\n",
       "      <td>White</td>\n",
       "      <td>5</td>\n",
       "      <td>(5, 10]</td>\n",
       "    </tr>\n",
       "  </tbody>\n",
       "</table>\n",
       "</div>"
      ],
      "text/plain": [
       "    Price   Brand  Model  Kilometers   Type  ...         Status    CC  Color  Seating Capacity       Age\n",
       "0    9999  Toyota  Other      263000  Wagon  ...           Used  2362   Grey                 5  (10, 17]\n",
       "1  117990   Other  Other          19  Wagon  ...   New In Stock  2143  Black                 7    (2, 5]\n",
       "2   79990   Other  Other          24  Wagon  ...   New In Stock  2143  Black                 8    (2, 5]\n",
       "3   34990   Other  Other      120579  Other  ...           Used  2143  Black                 4  (10, 17]\n",
       "4   15990  Holden  Other       72506  Other  ...           Used  1796  White                 5   (5, 10]\n",
       "\n",
       "[5 rows x 12 columns]"
      ]
     },
     "execution_count": 89,
     "metadata": {},
     "output_type": "execute_result"
    }
   ],
   "source": [
    "df.head()"
   ]
  },
  {
   "cell_type": "code",
   "execution_count": 91,
   "id": "e1706802-a67e-4363-9608-d9e7e78fe349",
   "metadata": {},
   "outputs": [
    {
     "data": {
      "text/plain": [
       "Fuel\n",
       "Unleaded Petrol              6980\n",
       "Diesel                       6057\n",
       "Premium Unleaded Petrol      3413\n",
       "Unleaded Petrol/Electric      253\n",
       "Premium Unleaded/Electric     186\n",
       "Liquid Petroleum Gas           39\n",
       "Diesel/Electric                18\n",
       "Name: count, dtype: int64"
      ]
     },
     "execution_count": 91,
     "metadata": {},
     "output_type": "execute_result"
    }
   ],
   "source": [
    "df[\"Fuel\"].value_counts()"
   ]
  },
  {
   "cell_type": "code",
   "execution_count": 94,
   "id": "5c694216-a402-4b87-91a0-8b06fd3b94cb",
   "metadata": {},
   "outputs": [],
   "source": [
    "df[\"Fuel\"] = df[\"Fuel\"].str.replace(\"Unleaded \", \"\")"
   ]
  },
  {
   "cell_type": "code",
   "execution_count": 95,
   "id": "744d9750-75e5-43cf-83cc-347ac862a5fb",
   "metadata": {
    "collapsed": true,
    "jupyter": {
     "outputs_hidden": true
    }
   },
   "outputs": [
    {
     "data": {
      "text/plain": [
       "Fuel\n",
       "Petrol                       6980\n",
       "Diesel                       6057\n",
       "Premium Petrol               3413\n",
       "Petrol/Electric               253\n",
       "Premium Unleaded/Electric     186\n",
       "Liquid Petroleum Gas           39\n",
       "Diesel/Electric                18\n",
       "Name: count, dtype: int64"
      ]
     },
     "execution_count": 95,
     "metadata": {},
     "output_type": "execute_result"
    }
   ],
   "source": [
    "df[\"Fuel\"].value_counts()"
   ]
  },
  {
   "cell_type": "code",
   "execution_count": 96,
   "id": "a02adb90-c0d0-499b-9721-48609e18abd3",
   "metadata": {},
   "outputs": [],
   "source": [
    "df[\"Fuel\"] = df[\"Fuel\"].apply(lambda x: x if x in df['Fuel'].value_counts().head(3)\\\n",
    "                                .index.tolist() else \"Other\")"
   ]
  },
  {
   "cell_type": "code",
   "execution_count": 97,
   "id": "80ad5957-5bbd-46e3-a72c-186c2bcd77f3",
   "metadata": {
    "collapsed": true,
    "jupyter": {
     "outputs_hidden": true
    }
   },
   "outputs": [
    {
     "data": {
      "text/plain": [
       "Fuel\n",
       "Petrol            6980\n",
       "Diesel            6057\n",
       "Premium Petrol    3413\n",
       "Other              496\n",
       "Name: count, dtype: int64"
      ]
     },
     "execution_count": 97,
     "metadata": {},
     "output_type": "execute_result"
    }
   ],
   "source": [
    "df[\"Fuel\"].value_counts()"
   ]
  },
  {
   "cell_type": "code",
   "execution_count": 98,
   "id": "6eafc7df-2722-4807-bd8e-486286995c06",
   "metadata": {
    "collapsed": true,
    "jupyter": {
     "outputs_hidden": true
    }
   },
   "outputs": [
    {
     "data": {
      "text/html": [
       "<div>\n",
       "<style scoped>\n",
       "    .dataframe tbody tr th:only-of-type {\n",
       "        vertical-align: middle;\n",
       "    }\n",
       "\n",
       "    .dataframe tbody tr th {\n",
       "        vertical-align: top;\n",
       "    }\n",
       "\n",
       "    .dataframe thead th {\n",
       "        text-align: right;\n",
       "    }\n",
       "</style>\n",
       "<table border=\"1\" class=\"dataframe\">\n",
       "  <thead>\n",
       "    <tr style=\"text-align: right;\">\n",
       "      <th></th>\n",
       "      <th>Price</th>\n",
       "      <th>Brand</th>\n",
       "      <th>Model</th>\n",
       "      <th>Kilometers</th>\n",
       "      <th>Type</th>\n",
       "      <th>Gearbox</th>\n",
       "      <th>Fuel</th>\n",
       "      <th>Status</th>\n",
       "      <th>CC</th>\n",
       "      <th>Color</th>\n",
       "      <th>Seating Capacity</th>\n",
       "      <th>Age</th>\n",
       "    </tr>\n",
       "  </thead>\n",
       "  <tbody>\n",
       "    <tr>\n",
       "      <th>0</th>\n",
       "      <td>9999</td>\n",
       "      <td>Toyota</td>\n",
       "      <td>Other</td>\n",
       "      <td>263000</td>\n",
       "      <td>Wagon</td>\n",
       "      <td>Automatic</td>\n",
       "      <td>Petrol</td>\n",
       "      <td>Used</td>\n",
       "      <td>2362</td>\n",
       "      <td>Grey</td>\n",
       "      <td>5</td>\n",
       "      <td>(10, 17]</td>\n",
       "    </tr>\n",
       "    <tr>\n",
       "      <th>1</th>\n",
       "      <td>117990</td>\n",
       "      <td>Other</td>\n",
       "      <td>Other</td>\n",
       "      <td>19</td>\n",
       "      <td>Wagon</td>\n",
       "      <td>Automatic</td>\n",
       "      <td>Diesel</td>\n",
       "      <td>New In Stock</td>\n",
       "      <td>2143</td>\n",
       "      <td>Black</td>\n",
       "      <td>7</td>\n",
       "      <td>(2, 5]</td>\n",
       "    </tr>\n",
       "    <tr>\n",
       "      <th>2</th>\n",
       "      <td>79990</td>\n",
       "      <td>Other</td>\n",
       "      <td>Other</td>\n",
       "      <td>24</td>\n",
       "      <td>Wagon</td>\n",
       "      <td>Automatic</td>\n",
       "      <td>Diesel</td>\n",
       "      <td>New In Stock</td>\n",
       "      <td>2143</td>\n",
       "      <td>Black</td>\n",
       "      <td>8</td>\n",
       "      <td>(2, 5]</td>\n",
       "    </tr>\n",
       "    <tr>\n",
       "      <th>3</th>\n",
       "      <td>34990</td>\n",
       "      <td>Other</td>\n",
       "      <td>Other</td>\n",
       "      <td>120579</td>\n",
       "      <td>Other</td>\n",
       "      <td>Automatic</td>\n",
       "      <td>Diesel</td>\n",
       "      <td>Used</td>\n",
       "      <td>2143</td>\n",
       "      <td>Black</td>\n",
       "      <td>4</td>\n",
       "      <td>(10, 17]</td>\n",
       "    </tr>\n",
       "    <tr>\n",
       "      <th>4</th>\n",
       "      <td>15990</td>\n",
       "      <td>Holden</td>\n",
       "      <td>Other</td>\n",
       "      <td>72506</td>\n",
       "      <td>Other</td>\n",
       "      <td>Automatic</td>\n",
       "      <td>Petrol</td>\n",
       "      <td>Used</td>\n",
       "      <td>1796</td>\n",
       "      <td>White</td>\n",
       "      <td>5</td>\n",
       "      <td>(5, 10]</td>\n",
       "    </tr>\n",
       "  </tbody>\n",
       "</table>\n",
       "</div>"
      ],
      "text/plain": [
       "    Price   Brand  Model  Kilometers   Type    Gearbox    Fuel         Status    CC  Color  Seating Capacity       Age\n",
       "0    9999  Toyota  Other      263000  Wagon  Automatic  Petrol           Used  2362   Grey                 5  (10, 17]\n",
       "1  117990   Other  Other          19  Wagon  Automatic  Diesel   New In Stock  2143  Black                 7    (2, 5]\n",
       "2   79990   Other  Other          24  Wagon  Automatic  Diesel   New In Stock  2143  Black                 8    (2, 5]\n",
       "3   34990   Other  Other      120579  Other  Automatic  Diesel           Used  2143  Black                 4  (10, 17]\n",
       "4   15990  Holden  Other       72506  Other  Automatic  Petrol           Used  1796  White                 5   (5, 10]"
      ]
     },
     "execution_count": 98,
     "metadata": {},
     "output_type": "execute_result"
    }
   ],
   "source": [
    "df.head()"
   ]
  },
  {
   "cell_type": "code",
   "execution_count": 99,
   "id": "b85f347d-be8f-4255-9728-9a4e7f73513c",
   "metadata": {},
   "outputs": [
    {
     "data": {
      "text/plain": [
       "Status\n",
       "Used            16239\n",
       "Demo              374\n",
       "New In Stock      333\n",
       "Name: count, dtype: int64"
      ]
     },
     "execution_count": 99,
     "metadata": {},
     "output_type": "execute_result"
    }
   ],
   "source": [
    "df[\"Status\"].value_counts()"
   ]
  },
  {
   "cell_type": "code",
   "execution_count": 101,
   "id": "afdb004c-be36-48f2-af66-a7a67ead51d5",
   "metadata": {},
   "outputs": [],
   "source": [
    "df[\"Status\"] = df[\"Status\"].str.replace(\" In Stock\", \"\")"
   ]
  },
  {
   "cell_type": "code",
   "execution_count": 102,
   "id": "aa12046e-f7ae-47d1-b3c1-3af73b863274",
   "metadata": {},
   "outputs": [
    {
     "data": {
      "text/html": [
       "<div>\n",
       "<style scoped>\n",
       "    .dataframe tbody tr th:only-of-type {\n",
       "        vertical-align: middle;\n",
       "    }\n",
       "\n",
       "    .dataframe tbody tr th {\n",
       "        vertical-align: top;\n",
       "    }\n",
       "\n",
       "    .dataframe thead th {\n",
       "        text-align: right;\n",
       "    }\n",
       "</style>\n",
       "<table border=\"1\" class=\"dataframe\">\n",
       "  <thead>\n",
       "    <tr style=\"text-align: right;\">\n",
       "      <th></th>\n",
       "      <th>Price</th>\n",
       "      <th>Brand</th>\n",
       "      <th>Model</th>\n",
       "      <th>Kilometers</th>\n",
       "      <th>Type</th>\n",
       "      <th>Gearbox</th>\n",
       "      <th>Fuel</th>\n",
       "      <th>Status</th>\n",
       "      <th>CC</th>\n",
       "      <th>Color</th>\n",
       "      <th>Seating Capacity</th>\n",
       "      <th>Age</th>\n",
       "    </tr>\n",
       "  </thead>\n",
       "  <tbody>\n",
       "    <tr>\n",
       "      <th>0</th>\n",
       "      <td>9999</td>\n",
       "      <td>Toyota</td>\n",
       "      <td>Other</td>\n",
       "      <td>263000</td>\n",
       "      <td>Wagon</td>\n",
       "      <td>Automatic</td>\n",
       "      <td>Petrol</td>\n",
       "      <td>Used</td>\n",
       "      <td>2362</td>\n",
       "      <td>Grey</td>\n",
       "      <td>5</td>\n",
       "      <td>(10, 17]</td>\n",
       "    </tr>\n",
       "    <tr>\n",
       "      <th>1</th>\n",
       "      <td>117990</td>\n",
       "      <td>Other</td>\n",
       "      <td>Other</td>\n",
       "      <td>19</td>\n",
       "      <td>Wagon</td>\n",
       "      <td>Automatic</td>\n",
       "      <td>Diesel</td>\n",
       "      <td>New</td>\n",
       "      <td>2143</td>\n",
       "      <td>Black</td>\n",
       "      <td>7</td>\n",
       "      <td>(2, 5]</td>\n",
       "    </tr>\n",
       "    <tr>\n",
       "      <th>2</th>\n",
       "      <td>79990</td>\n",
       "      <td>Other</td>\n",
       "      <td>Other</td>\n",
       "      <td>24</td>\n",
       "      <td>Wagon</td>\n",
       "      <td>Automatic</td>\n",
       "      <td>Diesel</td>\n",
       "      <td>New</td>\n",
       "      <td>2143</td>\n",
       "      <td>Black</td>\n",
       "      <td>8</td>\n",
       "      <td>(2, 5]</td>\n",
       "    </tr>\n",
       "    <tr>\n",
       "      <th>3</th>\n",
       "      <td>34990</td>\n",
       "      <td>Other</td>\n",
       "      <td>Other</td>\n",
       "      <td>120579</td>\n",
       "      <td>Other</td>\n",
       "      <td>Automatic</td>\n",
       "      <td>Diesel</td>\n",
       "      <td>Used</td>\n",
       "      <td>2143</td>\n",
       "      <td>Black</td>\n",
       "      <td>4</td>\n",
       "      <td>(10, 17]</td>\n",
       "    </tr>\n",
       "    <tr>\n",
       "      <th>4</th>\n",
       "      <td>15990</td>\n",
       "      <td>Holden</td>\n",
       "      <td>Other</td>\n",
       "      <td>72506</td>\n",
       "      <td>Other</td>\n",
       "      <td>Automatic</td>\n",
       "      <td>Petrol</td>\n",
       "      <td>Used</td>\n",
       "      <td>1796</td>\n",
       "      <td>White</td>\n",
       "      <td>5</td>\n",
       "      <td>(5, 10]</td>\n",
       "    </tr>\n",
       "  </tbody>\n",
       "</table>\n",
       "</div>"
      ],
      "text/plain": [
       "    Price   Brand  Model  Kilometers   Type    Gearbox    Fuel Status    CC  Color  Seating Capacity       Age\n",
       "0    9999  Toyota  Other      263000  Wagon  Automatic  Petrol   Used  2362   Grey                 5  (10, 17]\n",
       "1  117990   Other  Other          19  Wagon  Automatic  Diesel    New  2143  Black                 7    (2, 5]\n",
       "2   79990   Other  Other          24  Wagon  Automatic  Diesel    New  2143  Black                 8    (2, 5]\n",
       "3   34990   Other  Other      120579  Other  Automatic  Diesel   Used  2143  Black                 4  (10, 17]\n",
       "4   15990  Holden  Other       72506  Other  Automatic  Petrol   Used  1796  White                 5   (5, 10]"
      ]
     },
     "execution_count": 102,
     "metadata": {},
     "output_type": "execute_result"
    }
   ],
   "source": [
    "df.head()"
   ]
  },
  {
   "cell_type": "code",
   "execution_count": 103,
   "id": "094bc560-a7d1-424c-997f-0ea331b21b34",
   "metadata": {
    "collapsed": true,
    "jupyter": {
     "outputs_hidden": true
    },
    "scrolled": true
   },
   "outputs": [
    {
     "data": {
      "text/plain": [
       "count    16946.000000\n",
       "mean      2493.041249\n",
       "std        882.252113\n",
       "min        875.000000\n",
       "25%       1987.000000\n",
       "50%       2354.000000\n",
       "75%       2982.000000\n",
       "max       7300.000000\n",
       "Name: CC, dtype: float64"
      ]
     },
     "execution_count": 103,
     "metadata": {},
     "output_type": "execute_result"
    }
   ],
   "source": [
    "df[\"CC\"].describe()"
   ]
  },
  {
   "cell_type": "code",
   "execution_count": 105,
   "id": "d30d2e09-dfee-46e5-baca-c73f47a0f43b",
   "metadata": {
    "scrolled": true
   },
   "outputs": [
    {
     "data": {
      "text/plain": [
       "<Axes: ylabel='Frequency'>"
      ]
     },
     "execution_count": 105,
     "metadata": {},
     "output_type": "execute_result"
    },
    {
     "data": {
      "image/png": "[encoded data removed]",
      "text/plain": [
       "<Figure size 640x480 with 1 Axes>"
      ]
     },
     "metadata": {},
     "output_type": "display_data"
    }
   ],
   "source": [
    "df[\"CC\"].plot.hist(bins=50)"
   ]
  },
  {
   "cell_type": "code",
   "execution_count": 106,
   "id": "c094cde9-96d2-41c2-a0f0-2dfbf3ed0de6",
   "metadata": {
    "scrolled": true
   },
   "outputs": [
    {
     "data": {
      "text/plain": [
       "<Axes: >"
      ]
     },
     "execution_count": 106,
     "metadata": {},
     "output_type": "execute_result"
    },
    {
     "data": {
      "image/png": "[encoded data removed]",
      "text/plain": [
       "<Figure size 640x480 with 1 Axes>"
      ]
     },
     "metadata": {},
     "output_type": "display_data"
    }
   ],
   "source": [
    "df['CC'].plot.box()"
   ]
  },
  {
   "cell_type": "code",
   "execution_count": 108,
   "id": "32f626b4-abe4-45d4-95f1-c205d0a4f0a3",
   "metadata": {},
   "outputs": [
    {
     "data": {
      "text/plain": [
       "Color\n",
       "White     6136\n",
       "Silver    2448\n",
       "Grey      2418\n",
       "Black     1957\n",
       "Blue      1566\n",
       "Red       1157\n",
       "Gold       166\n",
       "Orange     155\n",
       "Green      138\n",
       "Brown      135\n",
       "Name: count, dtype: int64"
      ]
     },
     "execution_count": 108,
     "metadata": {},
     "output_type": "execute_result"
    }
   ],
   "source": [
    "df[\"Color\"].value_counts().head(10)"
   ]
  },
  {
   "cell_type": "code",
   "execution_count": 109,
   "id": "1e7e2872-f3d0-4319-8821-0f337851e7c0",
   "metadata": {},
   "outputs": [],
   "source": [
    "df[\"Color\"] = df[\"Color\"].apply(lambda x: x if x in df['Color'].value_counts().head(6)\\\n",
    "                                .index.tolist() else \"Other\")"
   ]
  },
  {
   "cell_type": "code",
   "execution_count": 110,
   "id": "dafe4ffa-3511-455e-b8e5-f978c8173cb5",
   "metadata": {},
   "outputs": [
    {
     "data": {
      "text/plain": [
       "Seating Capacity\n",
       "5     12747\n",
       "7      2170\n",
       "2       743\n",
       "4       648\n",
       "3       302\n",
       "8       292\n",
       "14       19\n",
       "6        18\n",
       "9         4\n",
       "11        3\n",
       "Name: count, dtype: int64"
      ]
     },
     "execution_count": 110,
     "metadata": {},
     "output_type": "execute_result"
    }
   ],
   "source": [
    "df[\"Seating Capacity\"].value_counts()"
   ]
  },
  {
   "cell_type": "code",
   "execution_count": 115,
   "id": "80b36adc-b3b1-4376-830b-0b3b983eb151",
   "metadata": {},
   "outputs": [],
   "source": [
    "df[\"Seating Capacity\"] = pd.cut(df[\"Seating Capacity\"], bins=[2, 4, 5, 7, 14])"
   ]
  },
  {
   "cell_type": "code",
   "execution_count": 116,
   "id": "2b356b46-c0ac-4ecb-ad0a-6529f4ff5741",
   "metadata": {},
   "outputs": [
    {
     "data": {
      "text/html": [
       "<div>\n",
       "<style scoped>\n",
       "    .dataframe tbody tr th:only-of-type {\n",
       "        vertical-align: middle;\n",
       "    }\n",
       "\n",
       "    .dataframe tbody tr th {\n",
       "        vertical-align: top;\n",
       "    }\n",
       "\n",
       "    .dataframe thead th {\n",
       "        text-align: right;\n",
       "    }\n",
       "</style>\n",
       "<table border=\"1\" class=\"dataframe\">\n",
       "  <thead>\n",
       "    <tr style=\"text-align: right;\">\n",
       "      <th></th>\n",
       "      <th>Price</th>\n",
       "      <th>Brand</th>\n",
       "      <th>Model</th>\n",
       "      <th>Kilometers</th>\n",
       "      <th>Type</th>\n",
       "      <th>Gearbox</th>\n",
       "      <th>Fuel</th>\n",
       "      <th>Status</th>\n",
       "      <th>CC</th>\n",
       "      <th>Color</th>\n",
       "      <th>Seating Capacity</th>\n",
       "      <th>Age</th>\n",
       "    </tr>\n",
       "  </thead>\n",
       "  <tbody>\n",
       "    <tr>\n",
       "      <th>0</th>\n",
       "      <td>9999</td>\n",
       "      <td>Toyota</td>\n",
       "      <td>Other</td>\n",
       "      <td>263000</td>\n",
       "      <td>Wagon</td>\n",
       "      <td>Automatic</td>\n",
       "      <td>Petrol</td>\n",
       "      <td>Used</td>\n",
       "      <td>2362</td>\n",
       "      <td>Grey</td>\n",
       "      <td>(4, 5]</td>\n",
       "      <td>(10, 17]</td>\n",
       "    </tr>\n",
       "    <tr>\n",
       "      <th>1</th>\n",
       "      <td>117990</td>\n",
       "      <td>Other</td>\n",
       "      <td>Other</td>\n",
       "      <td>19</td>\n",
       "      <td>Wagon</td>\n",
       "      <td>Automatic</td>\n",
       "      <td>Diesel</td>\n",
       "      <td>New</td>\n",
       "      <td>2143</td>\n",
       "      <td>Black</td>\n",
       "      <td>(5, 7]</td>\n",
       "      <td>(2, 5]</td>\n",
       "    </tr>\n",
       "    <tr>\n",
       "      <th>2</th>\n",
       "      <td>79990</td>\n",
       "      <td>Other</td>\n",
       "      <td>Other</td>\n",
       "      <td>24</td>\n",
       "      <td>Wagon</td>\n",
       "      <td>Automatic</td>\n",
       "      <td>Diesel</td>\n",
       "      <td>New</td>\n",
       "      <td>2143</td>\n",
       "      <td>Black</td>\n",
       "      <td>(7, 14]</td>\n",
       "      <td>(2, 5]</td>\n",
       "    </tr>\n",
       "    <tr>\n",
       "      <th>3</th>\n",
       "      <td>34990</td>\n",
       "      <td>Other</td>\n",
       "      <td>Other</td>\n",
       "      <td>120579</td>\n",
       "      <td>Other</td>\n",
       "      <td>Automatic</td>\n",
       "      <td>Diesel</td>\n",
       "      <td>Used</td>\n",
       "      <td>2143</td>\n",
       "      <td>Black</td>\n",
       "      <td>(2, 4]</td>\n",
       "      <td>(10, 17]</td>\n",
       "    </tr>\n",
       "    <tr>\n",
       "      <th>4</th>\n",
       "      <td>15990</td>\n",
       "      <td>Holden</td>\n",
       "      <td>Other</td>\n",
       "      <td>72506</td>\n",
       "      <td>Other</td>\n",
       "      <td>Automatic</td>\n",
       "      <td>Petrol</td>\n",
       "      <td>Used</td>\n",
       "      <td>1796</td>\n",
       "      <td>White</td>\n",
       "      <td>(4, 5]</td>\n",
       "      <td>(5, 10]</td>\n",
       "    </tr>\n",
       "  </tbody>\n",
       "</table>\n",
       "</div>"
      ],
      "text/plain": [
       "    Price   Brand  Model  Kilometers   Type    Gearbox    Fuel Status    CC  Color Seating Capacity       Age\n",
       "0    9999  Toyota  Other      263000  Wagon  Automatic  Petrol   Used  2362   Grey           (4, 5]  (10, 17]\n",
       "1  117990   Other  Other          19  Wagon  Automatic  Diesel    New  2143  Black           (5, 7]    (2, 5]\n",
       "2   79990   Other  Other          24  Wagon  Automatic  Diesel    New  2143  Black          (7, 14]    (2, 5]\n",
       "3   34990   Other  Other      120579  Other  Automatic  Diesel   Used  2143  Black           (2, 4]  (10, 17]\n",
       "4   15990  Holden  Other       72506  Other  Automatic  Petrol   Used  1796  White           (4, 5]   (5, 10]"
      ]
     },
     "execution_count": 116,
     "metadata": {},
     "output_type": "execute_result"
    }
   ],
   "source": [
    "df.head()"
   ]
  },
  {
   "cell_type": "code",
   "execution_count": 121,
   "id": "e2305849-3be2-481a-8f52-be5d5a2aecd2",
   "metadata": {},
   "outputs": [],
   "source": [
    "num_cols = df.describe().columns[1:].tolist()"
   ]
  },
  {
   "cell_type": "code",
   "execution_count": 123,
   "id": "f266c363-c0c8-4b68-ae8e-a02ae322b259",
   "metadata": {},
   "outputs": [
    {
     "data": {
      "text/plain": [
       "['Kilometers', 'CC']"
      ]
     },
     "execution_count": 123,
     "metadata": {},
     "output_type": "execute_result"
    }
   ],
   "source": [
    "num_cols"
   ]
  },
  {
   "cell_type": "code",
   "execution_count": 126,
   "id": "a194a4a8-aba2-4310-a85d-f2b5e3c0805c",
   "metadata": {},
   "outputs": [],
   "source": [
    "cat_col = [x for x in df.columns if x not in df.describe().columns]"
   ]
  },
  {
   "cell_type": "code",
   "execution_count": 127,
   "id": "7a1e003d-ecba-4381-8fac-693a4117d66f",
   "metadata": {
    "collapsed": true,
    "jupyter": {
     "outputs_hidden": true
    }
   },
   "outputs": [
    {
     "data": {
      "text/plain": [
       "['Brand',\n",
       " 'Model',\n",
       " 'Type',\n",
       " 'Gearbox',\n",
       " 'Fuel',\n",
       " 'Status',\n",
       " 'Color',\n",
       " 'Seating Capacity',\n",
       " 'Age']"
      ]
     },
     "execution_count": 127,
     "metadata": {},
     "output_type": "execute_result"
    }
   ],
   "source": [
    "cat_col"
   ]
  },
  {
   "cell_type": "code",
   "execution_count": 129,
   "id": "a3f52708-5f5d-4ce3-bb41-de80c881fc16",
   "metadata": {},
   "outputs": [],
   "source": [
    "df.reset_index(drop=True, inplace=True)"
   ]
  },
  {
   "cell_type": "code",
   "execution_count": 128,
   "id": "b641085e-670b-43a9-8d99-ffa074ac761d",
   "metadata": {},
   "outputs": [],
   "source": [
    "ohe = OneHotEncoder(drop=\"first\")"
   ]
  },
  {
   "cell_type": "code",
   "execution_count": 130,
   "id": "3ad17864-3d50-4bd7-9853-d69675a71c4b",
   "metadata": {},
   "outputs": [],
   "source": [
    "encoded = ohe.fit_transform(df[cat_col])"
   ]
  },
  {
   "cell_type": "code",
   "execution_count": 131,
   "id": "af0f9a4a-765c-45ef-bda1-56919f001abf",
   "metadata": {},
   "outputs": [
    {
     "data": {
      "text/plain": [
       "<Compressed Sparse Row sparse matrix of dtype 'float64'\n",
       "\twith 121364 stored elements and shape (16946, 41)>"
      ]
     },
     "execution_count": 131,
     "metadata": {},
     "output_type": "execute_result"
    }
   ],
   "source": [
    "encoded"
   ]
  },
  {
   "cell_type": "code",
   "execution_count": 132,
   "id": "c1fed803-6c80-4fc3-86f3-7ad62bbc3452",
   "metadata": {
    "scrolled": true
   },
   "outputs": [
    {
     "data": {
      "text/plain": [
       "array(['Brand_Holden', 'Brand_Hyundai', 'Brand_Kia', 'Brand_Mazda',\n",
       "       'Brand_Mitsubishi', 'Brand_Nissan', 'Brand_Other', 'Brand_Toyota',\n",
       "       'Brand_Volkswagen', 'Model_Colorado', 'Model_Commodore',\n",
       "       'Model_Corolla', 'Model_Hilux', 'Model_Navara', 'Model_Other',\n",
       "       'Model_RAV4', 'Model_Ranger', 'Model_Triton', 'Type_Other',\n",
       "       'Type_Sedan', 'Type_Wagon', 'Gearbox_Manual', 'Fuel_Other',\n",
       "       'Fuel_Petrol', 'Fuel_Premium Petrol', 'Status_ New',\n",
       "       'Status_ Used', 'Color_Blue', 'Color_Grey', 'Color_Other',\n",
       "       'Color_Red', 'Color_Silver', 'Color_White',\n",
       "       'Seating Capacity_(4.0, 5.0]', 'Seating Capacity_(5.0, 7.0]',\n",
       "       'Seating Capacity_(7.0, 14.0]', 'Seating Capacity_nan',\n",
       "       'Age_(5, 10]', 'Age_(10, 17]', 'Age_(17, 26]', 'Age_(26, 36]'],\n",
       "      dtype=object)"
      ]
     },
     "execution_count": 132,
     "metadata": {},
     "output_type": "execute_result"
    }
   ],
   "source": [
    "ohe.get_feature_names_out()"
   ]
  },
  {
   "cell_type": "code",
   "execution_count": 133,
   "id": "1e024e9a-2b7c-4f30-b0f9-aff71ab0ddfc",
   "metadata": {},
   "outputs": [],
   "source": [
    "encoded_df = pd.DataFrame(encoded.toarray(), columns=ohe.get_feature_names_out())"
   ]
  },
  {
   "cell_type": "code",
   "execution_count": 135,
   "id": "76c97800-d872-40a5-91fd-db89ef62db6a",
   "metadata": {},
   "outputs": [],
   "source": [
    "data = pd.concat([df.drop(cat_col, axis=1), encoded_df], axis=1)"
   ]
  },
  {
   "cell_type": "code",
   "execution_count": 136,
   "id": "1ad31865-8c61-4103-ae7e-c20fc717efe5",
   "metadata": {},
   "outputs": [],
   "source": [
    "scaler = StandardScaler()"
   ]
  },
  {
   "cell_type": "code",
   "execution_count": 137,
   "id": "ee91e2be-39ee-4e0c-a567-171ae0255e17",
   "metadata": {},
   "outputs": [],
   "source": [
    "data[num_cols] = scaler.fit_transform(data[num_cols])"
   ]
  },
  {
   "cell_type": "code",
   "execution_count": 138,
   "id": "ecd455d4-5e40-4174-b7c8-8dc26da5f5f1",
   "metadata": {
    "scrolled": true
   },
   "outputs": [
    {
     "data": {
      "text/html": [
       "<div>\n",
       "<style scoped>\n",
       "    .dataframe tbody tr th:only-of-type {\n",
       "        vertical-align: middle;\n",
       "    }\n",
       "\n",
       "    .dataframe tbody tr th {\n",
       "        vertical-align: top;\n",
       "    }\n",
       "\n",
       "    .dataframe thead th {\n",
       "        text-align: right;\n",
       "    }\n",
       "</style>\n",
       "<table border=\"1\" class=\"dataframe\">\n",
       "  <thead>\n",
       "    <tr style=\"text-align: right;\">\n",
       "      <th></th>\n",
       "      <th>Price</th>\n",
       "      <th>Kilometers</th>\n",
       "      <th>CC</th>\n",
       "      <th>Brand_Holden</th>\n",
       "      <th>Brand_Hyundai</th>\n",
       "      <th>Brand_Kia</th>\n",
       "      <th>Brand_Mazda</th>\n",
       "      <th>Brand_Mitsubishi</th>\n",
       "      <th>Brand_Nissan</th>\n",
       "      <th>Brand_Other</th>\n",
       "      <th>Brand_Toyota</th>\n",
       "      <th>Brand_Volkswagen</th>\n",
       "      <th>Model_Colorado</th>\n",
       "      <th>Model_Commodore</th>\n",
       "      <th>Model_Corolla</th>\n",
       "      <th>Model_Hilux</th>\n",
       "      <th>Model_Navara</th>\n",
       "      <th>Model_Other</th>\n",
       "      <th>Model_RAV4</th>\n",
       "      <th>Model_Ranger</th>\n",
       "      <th>Model_Triton</th>\n",
       "      <th>Type_Other</th>\n",
       "      <th>Type_Sedan</th>\n",
       "      <th>Type_Wagon</th>\n",
       "      <th>Gearbox_Manual</th>\n",
       "      <th>Fuel_Other</th>\n",
       "      <th>Fuel_Petrol</th>\n",
       "      <th>Fuel_Premium Petrol</th>\n",
       "      <th>Status_ New</th>\n",
       "      <th>Status_ Used</th>\n",
       "      <th>Color_Blue</th>\n",
       "      <th>Color_Grey</th>\n",
       "      <th>Color_Other</th>\n",
       "      <th>Color_Red</th>\n",
       "      <th>Color_Silver</th>\n",
       "      <th>Color_White</th>\n",
       "      <th>Seating Capacity_(4.0, 5.0]</th>\n",
       "      <th>Seating Capacity_(5.0, 7.0]</th>\n",
       "      <th>Seating Capacity_(7.0, 14.0]</th>\n",
       "      <th>Seating Capacity_nan</th>\n",
       "      <th>Age_(5, 10]</th>\n",
       "      <th>Age_(10, 17]</th>\n",
       "      <th>Age_(17, 26]</th>\n",
       "      <th>Age_(26, 36]</th>\n",
       "    </tr>\n",
       "  </thead>\n",
       "  <tbody>\n",
       "    <tr>\n",
       "      <th>0</th>\n",
       "      <td>9999</td>\n",
       "      <td>2.083439</td>\n",
       "      <td>-0.148535</td>\n",
       "      <td>0.0</td>\n",
       "      <td>0.0</td>\n",
       "      <td>0.0</td>\n",
       "      <td>0.0</td>\n",
       "      <td>0.0</td>\n",
       "      <td>0.0</td>\n",
       "      <td>0.0</td>\n",
       "      <td>1.0</td>\n",
       "      <td>0.0</td>\n",
       "      <td>0.0</td>\n",
       "      <td>0.0</td>\n",
       "      <td>0.0</td>\n",
       "      <td>0.0</td>\n",
       "      <td>0.0</td>\n",
       "      <td>1.0</td>\n",
       "      <td>0.0</td>\n",
       "      <td>0.0</td>\n",
       "      <td>0.0</td>\n",
       "      <td>0.0</td>\n",
       "      <td>0.0</td>\n",
       "      <td>1.0</td>\n",
       "      <td>0.0</td>\n",
       "      <td>0.0</td>\n",
       "      <td>1.0</td>\n",
       "      <td>0.0</td>\n",
       "      <td>0.0</td>\n",
       "      <td>1.0</td>\n",
       "      <td>0.0</td>\n",
       "      <td>1.0</td>\n",
       "      <td>0.0</td>\n",
       "      <td>0.0</td>\n",
       "      <td>0.0</td>\n",
       "      <td>0.0</td>\n",
       "      <td>1.0</td>\n",
       "      <td>0.0</td>\n",
       "      <td>0.0</td>\n",
       "      <td>0.0</td>\n",
       "      <td>0.0</td>\n",
       "      <td>1.0</td>\n",
       "      <td>0.0</td>\n",
       "      <td>0.0</td>\n",
       "    </tr>\n",
       "    <tr>\n",
       "      <th>1</th>\n",
       "      <td>117990</td>\n",
       "      <td>-1.342809</td>\n",
       "      <td>-0.396770</td>\n",
       "      <td>0.0</td>\n",
       "      <td>0.0</td>\n",
       "      <td>0.0</td>\n",
       "      <td>0.0</td>\n",
       "      <td>0.0</td>\n",
       "      <td>0.0</td>\n",
       "      <td>1.0</td>\n",
       "      <td>0.0</td>\n",
       "      <td>0.0</td>\n",
       "      <td>0.0</td>\n",
       "      <td>0.0</td>\n",
       "      <td>0.0</td>\n",
       "      <td>0.0</td>\n",
       "      <td>0.0</td>\n",
       "      <td>1.0</td>\n",
       "      <td>0.0</td>\n",
       "      <td>0.0</td>\n",
       "      <td>0.0</td>\n",
       "      <td>0.0</td>\n",
       "      <td>0.0</td>\n",
       "      <td>1.0</td>\n",
       "      <td>0.0</td>\n",
       "      <td>0.0</td>\n",
       "      <td>0.0</td>\n",
       "      <td>0.0</td>\n",
       "      <td>1.0</td>\n",
       "      <td>0.0</td>\n",
       "      <td>0.0</td>\n",
       "      <td>0.0</td>\n",
       "      <td>0.0</td>\n",
       "      <td>0.0</td>\n",
       "      <td>0.0</td>\n",
       "      <td>0.0</td>\n",
       "      <td>0.0</td>\n",
       "      <td>1.0</td>\n",
       "      <td>0.0</td>\n",
       "      <td>0.0</td>\n",
       "      <td>0.0</td>\n",
       "      <td>0.0</td>\n",
       "      <td>0.0</td>\n",
       "      <td>0.0</td>\n",
       "    </tr>\n",
       "    <tr>\n",
       "      <th>2</th>\n",
       "      <td>79990</td>\n",
       "      <td>-1.342744</td>\n",
       "      <td>-0.396770</td>\n",
       "      <td>0.0</td>\n",
       "      <td>0.0</td>\n",
       "      <td>0.0</td>\n",
       "      <td>0.0</td>\n",
       "      <td>0.0</td>\n",
       "      <td>0.0</td>\n",
       "      <td>1.0</td>\n",
       "      <td>0.0</td>\n",
       "      <td>0.0</td>\n",
       "      <td>0.0</td>\n",
       "      <td>0.0</td>\n",
       "      <td>0.0</td>\n",
       "      <td>0.0</td>\n",
       "      <td>0.0</td>\n",
       "      <td>1.0</td>\n",
       "      <td>0.0</td>\n",
       "      <td>0.0</td>\n",
       "      <td>0.0</td>\n",
       "      <td>0.0</td>\n",
       "      <td>0.0</td>\n",
       "      <td>1.0</td>\n",
       "      <td>0.0</td>\n",
       "      <td>0.0</td>\n",
       "      <td>0.0</td>\n",
       "      <td>0.0</td>\n",
       "      <td>1.0</td>\n",
       "      <td>0.0</td>\n",
       "      <td>0.0</td>\n",
       "      <td>0.0</td>\n",
       "      <td>0.0</td>\n",
       "      <td>0.0</td>\n",
       "      <td>0.0</td>\n",
       "      <td>0.0</td>\n",
       "      <td>0.0</td>\n",
       "      <td>0.0</td>\n",
       "      <td>1.0</td>\n",
       "      <td>0.0</td>\n",
       "      <td>0.0</td>\n",
       "      <td>0.0</td>\n",
       "      <td>0.0</td>\n",
       "      <td>0.0</td>\n",
       "    </tr>\n",
       "    <tr>\n",
       "      <th>3</th>\n",
       "      <td>34990</td>\n",
       "      <td>0.227907</td>\n",
       "      <td>-0.396770</td>\n",
       "      <td>0.0</td>\n",
       "      <td>0.0</td>\n",
       "      <td>0.0</td>\n",
       "      <td>0.0</td>\n",
       "      <td>0.0</td>\n",
       "      <td>0.0</td>\n",
       "      <td>1.0</td>\n",
       "      <td>0.0</td>\n",
       "      <td>0.0</td>\n",
       "      <td>0.0</td>\n",
       "      <td>0.0</td>\n",
       "      <td>0.0</td>\n",
       "      <td>0.0</td>\n",
       "      <td>0.0</td>\n",
       "      <td>1.0</td>\n",
       "      <td>0.0</td>\n",
       "      <td>0.0</td>\n",
       "      <td>0.0</td>\n",
       "      <td>1.0</td>\n",
       "      <td>0.0</td>\n",
       "      <td>0.0</td>\n",
       "      <td>0.0</td>\n",
       "      <td>0.0</td>\n",
       "      <td>0.0</td>\n",
       "      <td>0.0</td>\n",
       "      <td>0.0</td>\n",
       "      <td>1.0</td>\n",
       "      <td>0.0</td>\n",
       "      <td>0.0</td>\n",
       "      <td>0.0</td>\n",
       "      <td>0.0</td>\n",
       "      <td>0.0</td>\n",
       "      <td>0.0</td>\n",
       "      <td>0.0</td>\n",
       "      <td>0.0</td>\n",
       "      <td>0.0</td>\n",
       "      <td>0.0</td>\n",
       "      <td>0.0</td>\n",
       "      <td>1.0</td>\n",
       "      <td>0.0</td>\n",
       "      <td>0.0</td>\n",
       "    </tr>\n",
       "    <tr>\n",
       "      <th>4</th>\n",
       "      <td>15990</td>\n",
       "      <td>-0.398412</td>\n",
       "      <td>-0.790094</td>\n",
       "      <td>1.0</td>\n",
       "      <td>0.0</td>\n",
       "      <td>0.0</td>\n",
       "      <td>0.0</td>\n",
       "      <td>0.0</td>\n",
       "      <td>0.0</td>\n",
       "      <td>0.0</td>\n",
       "      <td>0.0</td>\n",
       "      <td>0.0</td>\n",
       "      <td>0.0</td>\n",
       "      <td>0.0</td>\n",
       "      <td>0.0</td>\n",
       "      <td>0.0</td>\n",
       "      <td>0.0</td>\n",
       "      <td>1.0</td>\n",
       "      <td>0.0</td>\n",
       "      <td>0.0</td>\n",
       "      <td>0.0</td>\n",
       "      <td>1.0</td>\n",
       "      <td>0.0</td>\n",
       "      <td>0.0</td>\n",
       "      <td>0.0</td>\n",
       "      <td>0.0</td>\n",
       "      <td>1.0</td>\n",
       "      <td>0.0</td>\n",
       "      <td>0.0</td>\n",
       "      <td>1.0</td>\n",
       "      <td>0.0</td>\n",
       "      <td>0.0</td>\n",
       "      <td>0.0</td>\n",
       "      <td>0.0</td>\n",
       "      <td>0.0</td>\n",
       "      <td>1.0</td>\n",
       "      <td>1.0</td>\n",
       "      <td>0.0</td>\n",
       "      <td>0.0</td>\n",
       "      <td>0.0</td>\n",
       "      <td>1.0</td>\n",
       "      <td>0.0</td>\n",
       "      <td>0.0</td>\n",
       "      <td>0.0</td>\n",
       "    </tr>\n",
       "    <tr>\n",
       "      <th>...</th>\n",
       "      <td>...</td>\n",
       "      <td>...</td>\n",
       "      <td>...</td>\n",
       "      <td>...</td>\n",
       "      <td>...</td>\n",
       "      <td>...</td>\n",
       "      <td>...</td>\n",
       "      <td>...</td>\n",
       "      <td>...</td>\n",
       "      <td>...</td>\n",
       "      <td>...</td>\n",
       "      <td>...</td>\n",
       "      <td>...</td>\n",
       "      <td>...</td>\n",
       "      <td>...</td>\n",
       "      <td>...</td>\n",
       "      <td>...</td>\n",
       "      <td>...</td>\n",
       "      <td>...</td>\n",
       "      <td>...</td>\n",
       "      <td>...</td>\n",
       "      <td>...</td>\n",
       "      <td>...</td>\n",
       "      <td>...</td>\n",
       "      <td>...</td>\n",
       "      <td>...</td>\n",
       "      <td>...</td>\n",
       "      <td>...</td>\n",
       "      <td>...</td>\n",
       "      <td>...</td>\n",
       "      <td>...</td>\n",
       "      <td>...</td>\n",
       "      <td>...</td>\n",
       "      <td>...</td>\n",
       "      <td>...</td>\n",
       "      <td>...</td>\n",
       "      <td>...</td>\n",
       "      <td>...</td>\n",
       "      <td>...</td>\n",
       "      <td>...</td>\n",
       "      <td>...</td>\n",
       "      <td>...</td>\n",
       "      <td>...</td>\n",
       "      <td>...</td>\n",
       "    </tr>\n",
       "    <tr>\n",
       "      <th>16941</th>\n",
       "      <td>4499</td>\n",
       "      <td>1.659244</td>\n",
       "      <td>1.471231</td>\n",
       "      <td>1.0</td>\n",
       "      <td>0.0</td>\n",
       "      <td>0.0</td>\n",
       "      <td>0.0</td>\n",
       "      <td>0.0</td>\n",
       "      <td>0.0</td>\n",
       "      <td>0.0</td>\n",
       "      <td>0.0</td>\n",
       "      <td>0.0</td>\n",
       "      <td>0.0</td>\n",
       "      <td>1.0</td>\n",
       "      <td>0.0</td>\n",
       "      <td>0.0</td>\n",
       "      <td>0.0</td>\n",
       "      <td>0.0</td>\n",
       "      <td>0.0</td>\n",
       "      <td>0.0</td>\n",
       "      <td>0.0</td>\n",
       "      <td>0.0</td>\n",
       "      <td>1.0</td>\n",
       "      <td>0.0</td>\n",
       "      <td>0.0</td>\n",
       "      <td>0.0</td>\n",
       "      <td>1.0</td>\n",
       "      <td>0.0</td>\n",
       "      <td>0.0</td>\n",
       "      <td>1.0</td>\n",
       "      <td>0.0</td>\n",
       "      <td>0.0</td>\n",
       "      <td>1.0</td>\n",
       "      <td>0.0</td>\n",
       "      <td>0.0</td>\n",
       "      <td>0.0</td>\n",
       "      <td>1.0</td>\n",
       "      <td>0.0</td>\n",
       "      <td>0.0</td>\n",
       "      <td>0.0</td>\n",
       "      <td>0.0</td>\n",
       "      <td>0.0</td>\n",
       "      <td>1.0</td>\n",
       "      <td>0.0</td>\n",
       "    </tr>\n",
       "    <tr>\n",
       "      <th>16942</th>\n",
       "      <td>4999</td>\n",
       "      <td>1.746170</td>\n",
       "      <td>-1.353441</td>\n",
       "      <td>0.0</td>\n",
       "      <td>0.0</td>\n",
       "      <td>0.0</td>\n",
       "      <td>0.0</td>\n",
       "      <td>0.0</td>\n",
       "      <td>0.0</td>\n",
       "      <td>0.0</td>\n",
       "      <td>1.0</td>\n",
       "      <td>0.0</td>\n",
       "      <td>0.0</td>\n",
       "      <td>0.0</td>\n",
       "      <td>0.0</td>\n",
       "      <td>0.0</td>\n",
       "      <td>0.0</td>\n",
       "      <td>1.0</td>\n",
       "      <td>0.0</td>\n",
       "      <td>0.0</td>\n",
       "      <td>0.0</td>\n",
       "      <td>0.0</td>\n",
       "      <td>0.0</td>\n",
       "      <td>0.0</td>\n",
       "      <td>1.0</td>\n",
       "      <td>0.0</td>\n",
       "      <td>1.0</td>\n",
       "      <td>0.0</td>\n",
       "      <td>0.0</td>\n",
       "      <td>1.0</td>\n",
       "      <td>0.0</td>\n",
       "      <td>0.0</td>\n",
       "      <td>1.0</td>\n",
       "      <td>0.0</td>\n",
       "      <td>0.0</td>\n",
       "      <td>0.0</td>\n",
       "      <td>1.0</td>\n",
       "      <td>0.0</td>\n",
       "      <td>0.0</td>\n",
       "      <td>0.0</td>\n",
       "      <td>0.0</td>\n",
       "      <td>1.0</td>\n",
       "      <td>0.0</td>\n",
       "      <td>0.0</td>\n",
       "    </tr>\n",
       "    <tr>\n",
       "      <th>16943</th>\n",
       "      <td>7999</td>\n",
       "      <td>1.767732</td>\n",
       "      <td>0.573502</td>\n",
       "      <td>1.0</td>\n",
       "      <td>0.0</td>\n",
       "      <td>0.0</td>\n",
       "      <td>0.0</td>\n",
       "      <td>0.0</td>\n",
       "      <td>0.0</td>\n",
       "      <td>0.0</td>\n",
       "      <td>0.0</td>\n",
       "      <td>0.0</td>\n",
       "      <td>0.0</td>\n",
       "      <td>0.0</td>\n",
       "      <td>0.0</td>\n",
       "      <td>0.0</td>\n",
       "      <td>0.0</td>\n",
       "      <td>1.0</td>\n",
       "      <td>0.0</td>\n",
       "      <td>0.0</td>\n",
       "      <td>0.0</td>\n",
       "      <td>0.0</td>\n",
       "      <td>0.0</td>\n",
       "      <td>1.0</td>\n",
       "      <td>0.0</td>\n",
       "      <td>0.0</td>\n",
       "      <td>0.0</td>\n",
       "      <td>0.0</td>\n",
       "      <td>0.0</td>\n",
       "      <td>1.0</td>\n",
       "      <td>0.0</td>\n",
       "      <td>0.0</td>\n",
       "      <td>1.0</td>\n",
       "      <td>0.0</td>\n",
       "      <td>0.0</td>\n",
       "      <td>0.0</td>\n",
       "      <td>0.0</td>\n",
       "      <td>1.0</td>\n",
       "      <td>0.0</td>\n",
       "      <td>0.0</td>\n",
       "      <td>0.0</td>\n",
       "      <td>0.0</td>\n",
       "      <td>1.0</td>\n",
       "      <td>0.0</td>\n",
       "    </tr>\n",
       "    <tr>\n",
       "      <th>16944</th>\n",
       "      <td>14000</td>\n",
       "      <td>-0.694238</td>\n",
       "      <td>-0.788960</td>\n",
       "      <td>0.0</td>\n",
       "      <td>1.0</td>\n",
       "      <td>0.0</td>\n",
       "      <td>0.0</td>\n",
       "      <td>0.0</td>\n",
       "      <td>0.0</td>\n",
       "      <td>0.0</td>\n",
       "      <td>0.0</td>\n",
       "      <td>0.0</td>\n",
       "      <td>0.0</td>\n",
       "      <td>0.0</td>\n",
       "      <td>0.0</td>\n",
       "      <td>0.0</td>\n",
       "      <td>0.0</td>\n",
       "      <td>1.0</td>\n",
       "      <td>0.0</td>\n",
       "      <td>0.0</td>\n",
       "      <td>0.0</td>\n",
       "      <td>0.0</td>\n",
       "      <td>0.0</td>\n",
       "      <td>0.0</td>\n",
       "      <td>1.0</td>\n",
       "      <td>0.0</td>\n",
       "      <td>1.0</td>\n",
       "      <td>0.0</td>\n",
       "      <td>0.0</td>\n",
       "      <td>1.0</td>\n",
       "      <td>1.0</td>\n",
       "      <td>0.0</td>\n",
       "      <td>0.0</td>\n",
       "      <td>0.0</td>\n",
       "      <td>0.0</td>\n",
       "      <td>0.0</td>\n",
       "      <td>1.0</td>\n",
       "      <td>0.0</td>\n",
       "      <td>0.0</td>\n",
       "      <td>0.0</td>\n",
       "      <td>1.0</td>\n",
       "      <td>0.0</td>\n",
       "      <td>0.0</td>\n",
       "      <td>0.0</td>\n",
       "    </tr>\n",
       "    <tr>\n",
       "      <th>16945</th>\n",
       "      <td>5999</td>\n",
       "      <td>1.989751</td>\n",
       "      <td>-0.148535</td>\n",
       "      <td>0.0</td>\n",
       "      <td>0.0</td>\n",
       "      <td>0.0</td>\n",
       "      <td>0.0</td>\n",
       "      <td>0.0</td>\n",
       "      <td>0.0</td>\n",
       "      <td>0.0</td>\n",
       "      <td>1.0</td>\n",
       "      <td>0.0</td>\n",
       "      <td>0.0</td>\n",
       "      <td>0.0</td>\n",
       "      <td>0.0</td>\n",
       "      <td>0.0</td>\n",
       "      <td>0.0</td>\n",
       "      <td>0.0</td>\n",
       "      <td>1.0</td>\n",
       "      <td>0.0</td>\n",
       "      <td>0.0</td>\n",
       "      <td>0.0</td>\n",
       "      <td>0.0</td>\n",
       "      <td>1.0</td>\n",
       "      <td>1.0</td>\n",
       "      <td>0.0</td>\n",
       "      <td>1.0</td>\n",
       "      <td>0.0</td>\n",
       "      <td>0.0</td>\n",
       "      <td>1.0</td>\n",
       "      <td>0.0</td>\n",
       "      <td>1.0</td>\n",
       "      <td>0.0</td>\n",
       "      <td>0.0</td>\n",
       "      <td>0.0</td>\n",
       "      <td>0.0</td>\n",
       "      <td>1.0</td>\n",
       "      <td>0.0</td>\n",
       "      <td>0.0</td>\n",
       "      <td>0.0</td>\n",
       "      <td>0.0</td>\n",
       "      <td>0.0</td>\n",
       "      <td>1.0</td>\n",
       "      <td>0.0</td>\n",
       "    </tr>\n",
       "  </tbody>\n",
       "</table>\n",
       "<p>16946 rows × 44 columns</p>\n",
       "</div>"
      ],
      "text/plain": [
       "        Price  Kilometers        CC  Brand_Holden  ...  Age_(5, 10]  Age_(10, 17]  Age_(17, 26]  Age_(26, 36]\n",
       "0        9999    2.083439 -0.148535           0.0  ...          0.0           1.0           0.0           0.0\n",
       "1      117990   -1.342809 -0.396770           0.0  ...          0.0           0.0           0.0           0.0\n",
       "2       79990   -1.342744 -0.396770           0.0  ...          0.0           0.0           0.0           0.0\n",
       "3       34990    0.227907 -0.396770           0.0  ...          0.0           1.0           0.0           0.0\n",
       "4       15990   -0.398412 -0.790094           1.0  ...          1.0           0.0           0.0           0.0\n",
       "...       ...         ...       ...           ...  ...          ...           ...           ...           ...\n",
       "16941    4499    1.659244  1.471231           1.0  ...          0.0           0.0           1.0           0.0\n",
       "16942    4999    1.746170 -1.353441           0.0  ...          0.0           1.0           0.0           0.0\n",
       "16943    7999    1.767732  0.573502           1.0  ...          0.0           0.0           1.0           0.0\n",
       "16944   14000   -0.694238 -0.788960           0.0  ...          1.0           0.0           0.0           0.0\n",
       "16945    5999    1.989751 -0.148535           0.0  ...          0.0           0.0           1.0           0.0\n",
       "\n",
       "[16946 rows x 44 columns]"
      ]
     },
     "execution_count": 138,
     "metadata": {},
     "output_type": "execute_result"
    }
   ],
   "source": [
    "data"
   ]
  },
  {
   "cell_type": "code",
   "execution_count": 139,
   "id": "a7e67c57-3b46-4474-86c0-85e55865913e",
   "metadata": {},
   "outputs": [],
   "source": [
    "minmax = MinMaxScaler()"
   ]
  },
  {
   "cell_type": "code",
   "execution_count": 142,
   "id": "1f53b85c-13bf-4b65-bf6a-a33c5ac622d6",
   "metadata": {},
   "outputs": [],
   "source": [
    "data[\"Price\"] = minmax.fit_transform(data[[\"Price\"]])"
   ]
  },
  {
   "cell_type": "code",
   "execution_count": 143,
   "id": "7b5de18a-eca2-445e-b35f-d7301397959b",
   "metadata": {},
   "outputs": [
    {
     "data": {
      "text/html": [
       "<div>\n",
       "<style scoped>\n",
       "    .dataframe tbody tr th:only-of-type {\n",
       "        vertical-align: middle;\n",
       "    }\n",
       "\n",
       "    .dataframe tbody tr th {\n",
       "        vertical-align: top;\n",
       "    }\n",
       "\n",
       "    .dataframe thead th {\n",
       "        text-align: right;\n",
       "    }\n",
       "</style>\n",
       "<table border=\"1\" class=\"dataframe\">\n",
       "  <thead>\n",
       "    <tr style=\"text-align: right;\">\n",
       "      <th></th>\n",
       "      <th>Price</th>\n",
       "      <th>Kilometers</th>\n",
       "      <th>CC</th>\n",
       "      <th>Brand_Holden</th>\n",
       "      <th>Brand_Hyundai</th>\n",
       "      <th>Brand_Kia</th>\n",
       "      <th>Brand_Mazda</th>\n",
       "      <th>Brand_Mitsubishi</th>\n",
       "      <th>Brand_Nissan</th>\n",
       "      <th>Brand_Other</th>\n",
       "      <th>Brand_Toyota</th>\n",
       "      <th>Brand_Volkswagen</th>\n",
       "      <th>Model_Colorado</th>\n",
       "      <th>Model_Commodore</th>\n",
       "      <th>Model_Corolla</th>\n",
       "      <th>Model_Hilux</th>\n",
       "      <th>Model_Navara</th>\n",
       "      <th>Model_Other</th>\n",
       "      <th>Model_RAV4</th>\n",
       "      <th>Model_Ranger</th>\n",
       "      <th>Model_Triton</th>\n",
       "      <th>Type_Other</th>\n",
       "      <th>Type_Sedan</th>\n",
       "      <th>Type_Wagon</th>\n",
       "      <th>Gearbox_Manual</th>\n",
       "      <th>Fuel_Other</th>\n",
       "      <th>Fuel_Petrol</th>\n",
       "      <th>Fuel_Premium Petrol</th>\n",
       "      <th>Status_ New</th>\n",
       "      <th>Status_ Used</th>\n",
       "      <th>Color_Blue</th>\n",
       "      <th>Color_Grey</th>\n",
       "      <th>Color_Other</th>\n",
       "      <th>Color_Red</th>\n",
       "      <th>Color_Silver</th>\n",
       "      <th>Color_White</th>\n",
       "      <th>Seating Capacity_(4.0, 5.0]</th>\n",
       "      <th>Seating Capacity_(5.0, 7.0]</th>\n",
       "      <th>Seating Capacity_(7.0, 14.0]</th>\n",
       "      <th>Seating Capacity_nan</th>\n",
       "      <th>Age_(5, 10]</th>\n",
       "      <th>Age_(10, 17]</th>\n",
       "      <th>Age_(17, 26]</th>\n",
       "      <th>Age_(26, 36]</th>\n",
       "    </tr>\n",
       "  </thead>\n",
       "  <tbody>\n",
       "    <tr>\n",
       "      <th>0</th>\n",
       "      <td>0.009017</td>\n",
       "      <td>2.083439</td>\n",
       "      <td>-0.148535</td>\n",
       "      <td>0.0</td>\n",
       "      <td>0.0</td>\n",
       "      <td>0.0</td>\n",
       "      <td>0.0</td>\n",
       "      <td>0.0</td>\n",
       "      <td>0.0</td>\n",
       "      <td>0.0</td>\n",
       "      <td>1.0</td>\n",
       "      <td>0.0</td>\n",
       "      <td>0.0</td>\n",
       "      <td>0.0</td>\n",
       "      <td>0.0</td>\n",
       "      <td>0.0</td>\n",
       "      <td>0.0</td>\n",
       "      <td>1.0</td>\n",
       "      <td>0.0</td>\n",
       "      <td>0.0</td>\n",
       "      <td>0.0</td>\n",
       "      <td>0.0</td>\n",
       "      <td>0.0</td>\n",
       "      <td>1.0</td>\n",
       "      <td>0.0</td>\n",
       "      <td>0.0</td>\n",
       "      <td>1.0</td>\n",
       "      <td>0.0</td>\n",
       "      <td>0.0</td>\n",
       "      <td>1.0</td>\n",
       "      <td>0.0</td>\n",
       "      <td>1.0</td>\n",
       "      <td>0.0</td>\n",
       "      <td>0.0</td>\n",
       "      <td>0.0</td>\n",
       "      <td>0.0</td>\n",
       "      <td>1.0</td>\n",
       "      <td>0.0</td>\n",
       "      <td>0.0</td>\n",
       "      <td>0.0</td>\n",
       "      <td>0.0</td>\n",
       "      <td>1.0</td>\n",
       "      <td>0.0</td>\n",
       "      <td>0.0</td>\n",
       "    </tr>\n",
       "    <tr>\n",
       "      <th>1</th>\n",
       "      <td>0.117224</td>\n",
       "      <td>-1.342809</td>\n",
       "      <td>-0.396770</td>\n",
       "      <td>0.0</td>\n",
       "      <td>0.0</td>\n",
       "      <td>0.0</td>\n",
       "      <td>0.0</td>\n",
       "      <td>0.0</td>\n",
       "      <td>0.0</td>\n",
       "      <td>1.0</td>\n",
       "      <td>0.0</td>\n",
       "      <td>0.0</td>\n",
       "      <td>0.0</td>\n",
       "      <td>0.0</td>\n",
       "      <td>0.0</td>\n",
       "      <td>0.0</td>\n",
       "      <td>0.0</td>\n",
       "      <td>1.0</td>\n",
       "      <td>0.0</td>\n",
       "      <td>0.0</td>\n",
       "      <td>0.0</td>\n",
       "      <td>0.0</td>\n",
       "      <td>0.0</td>\n",
       "      <td>1.0</td>\n",
       "      <td>0.0</td>\n",
       "      <td>0.0</td>\n",
       "      <td>0.0</td>\n",
       "      <td>0.0</td>\n",
       "      <td>1.0</td>\n",
       "      <td>0.0</td>\n",
       "      <td>0.0</td>\n",
       "      <td>0.0</td>\n",
       "      <td>0.0</td>\n",
       "      <td>0.0</td>\n",
       "      <td>0.0</td>\n",
       "      <td>0.0</td>\n",
       "      <td>0.0</td>\n",
       "      <td>1.0</td>\n",
       "      <td>0.0</td>\n",
       "      <td>0.0</td>\n",
       "      <td>0.0</td>\n",
       "      <td>0.0</td>\n",
       "      <td>0.0</td>\n",
       "      <td>0.0</td>\n",
       "    </tr>\n",
       "    <tr>\n",
       "      <th>2</th>\n",
       "      <td>0.079148</td>\n",
       "      <td>-1.342744</td>\n",
       "      <td>-0.396770</td>\n",
       "      <td>0.0</td>\n",
       "      <td>0.0</td>\n",
       "      <td>0.0</td>\n",
       "      <td>0.0</td>\n",
       "      <td>0.0</td>\n",
       "      <td>0.0</td>\n",
       "      <td>1.0</td>\n",
       "      <td>0.0</td>\n",
       "      <td>0.0</td>\n",
       "      <td>0.0</td>\n",
       "      <td>0.0</td>\n",
       "      <td>0.0</td>\n",
       "      <td>0.0</td>\n",
       "      <td>0.0</td>\n",
       "      <td>1.0</td>\n",
       "      <td>0.0</td>\n",
       "      <td>0.0</td>\n",
       "      <td>0.0</td>\n",
       "      <td>0.0</td>\n",
       "      <td>0.0</td>\n",
       "      <td>1.0</td>\n",
       "      <td>0.0</td>\n",
       "      <td>0.0</td>\n",
       "      <td>0.0</td>\n",
       "      <td>0.0</td>\n",
       "      <td>1.0</td>\n",
       "      <td>0.0</td>\n",
       "      <td>0.0</td>\n",
       "      <td>0.0</td>\n",
       "      <td>0.0</td>\n",
       "      <td>0.0</td>\n",
       "      <td>0.0</td>\n",
       "      <td>0.0</td>\n",
       "      <td>0.0</td>\n",
       "      <td>0.0</td>\n",
       "      <td>1.0</td>\n",
       "      <td>0.0</td>\n",
       "      <td>0.0</td>\n",
       "      <td>0.0</td>\n",
       "      <td>0.0</td>\n",
       "      <td>0.0</td>\n",
       "    </tr>\n",
       "    <tr>\n",
       "      <th>3</th>\n",
       "      <td>0.034058</td>\n",
       "      <td>0.227907</td>\n",
       "      <td>-0.396770</td>\n",
       "      <td>0.0</td>\n",
       "      <td>0.0</td>\n",
       "      <td>0.0</td>\n",
       "      <td>0.0</td>\n",
       "      <td>0.0</td>\n",
       "      <td>0.0</td>\n",
       "      <td>1.0</td>\n",
       "      <td>0.0</td>\n",
       "      <td>0.0</td>\n",
       "      <td>0.0</td>\n",
       "      <td>0.0</td>\n",
       "      <td>0.0</td>\n",
       "      <td>0.0</td>\n",
       "      <td>0.0</td>\n",
       "      <td>1.0</td>\n",
       "      <td>0.0</td>\n",
       "      <td>0.0</td>\n",
       "      <td>0.0</td>\n",
       "      <td>1.0</td>\n",
       "      <td>0.0</td>\n",
       "      <td>0.0</td>\n",
       "      <td>0.0</td>\n",
       "      <td>0.0</td>\n",
       "      <td>0.0</td>\n",
       "      <td>0.0</td>\n",
       "      <td>0.0</td>\n",
       "      <td>1.0</td>\n",
       "      <td>0.0</td>\n",
       "      <td>0.0</td>\n",
       "      <td>0.0</td>\n",
       "      <td>0.0</td>\n",
       "      <td>0.0</td>\n",
       "      <td>0.0</td>\n",
       "      <td>0.0</td>\n",
       "      <td>0.0</td>\n",
       "      <td>0.0</td>\n",
       "      <td>0.0</td>\n",
       "      <td>0.0</td>\n",
       "      <td>1.0</td>\n",
       "      <td>0.0</td>\n",
       "      <td>0.0</td>\n",
       "    </tr>\n",
       "    <tr>\n",
       "      <th>4</th>\n",
       "      <td>0.015020</td>\n",
       "      <td>-0.398412</td>\n",
       "      <td>-0.790094</td>\n",
       "      <td>1.0</td>\n",
       "      <td>0.0</td>\n",
       "      <td>0.0</td>\n",
       "      <td>0.0</td>\n",
       "      <td>0.0</td>\n",
       "      <td>0.0</td>\n",
       "      <td>0.0</td>\n",
       "      <td>0.0</td>\n",
       "      <td>0.0</td>\n",
       "      <td>0.0</td>\n",
       "      <td>0.0</td>\n",
       "      <td>0.0</td>\n",
       "      <td>0.0</td>\n",
       "      <td>0.0</td>\n",
       "      <td>1.0</td>\n",
       "      <td>0.0</td>\n",
       "      <td>0.0</td>\n",
       "      <td>0.0</td>\n",
       "      <td>1.0</td>\n",
       "      <td>0.0</td>\n",
       "      <td>0.0</td>\n",
       "      <td>0.0</td>\n",
       "      <td>0.0</td>\n",
       "      <td>1.0</td>\n",
       "      <td>0.0</td>\n",
       "      <td>0.0</td>\n",
       "      <td>1.0</td>\n",
       "      <td>0.0</td>\n",
       "      <td>0.0</td>\n",
       "      <td>0.0</td>\n",
       "      <td>0.0</td>\n",
       "      <td>0.0</td>\n",
       "      <td>1.0</td>\n",
       "      <td>1.0</td>\n",
       "      <td>0.0</td>\n",
       "      <td>0.0</td>\n",
       "      <td>0.0</td>\n",
       "      <td>1.0</td>\n",
       "      <td>0.0</td>\n",
       "      <td>0.0</td>\n",
       "      <td>0.0</td>\n",
       "    </tr>\n",
       "  </tbody>\n",
       "</table>\n",
       "</div>"
      ],
      "text/plain": [
       "      Price  Kilometers        CC  Brand_Holden  ...  Age_(5, 10]  Age_(10, 17]  Age_(17, 26]  Age_(26, 36]\n",
       "0  0.009017    2.083439 -0.148535           0.0  ...          0.0           1.0           0.0           0.0\n",
       "1  0.117224   -1.342809 -0.396770           0.0  ...          0.0           0.0           0.0           0.0\n",
       "2  0.079148   -1.342744 -0.396770           0.0  ...          0.0           0.0           0.0           0.0\n",
       "3  0.034058    0.227907 -0.396770           0.0  ...          0.0           1.0           0.0           0.0\n",
       "4  0.015020   -0.398412 -0.790094           1.0  ...          1.0           0.0           0.0           0.0\n",
       "\n",
       "[5 rows x 44 columns]"
      ]
     },
     "execution_count": 143,
     "metadata": {},
     "output_type": "execute_result"
    }
   ],
   "source": [
    "data.head()"
   ]
  },
  {
   "cell_type": "code",
   "execution_count": 144,
   "id": "7489264a-97db-47ff-b395-1ec5ed55a35c",
   "metadata": {},
   "outputs": [],
   "source": [
    "pwt = PowerTransformer(method=\"yeo-johnson\")"
   ]
  },
  {
   "cell_type": "code",
   "execution_count": 149,
   "id": "583bae03-12c4-4987-8b25-5d7f45d553fb",
   "metadata": {
    "collapsed": true,
    "jupyter": {
     "outputs_hidden": true
    }
   },
   "outputs": [
    {
     "data": {
      "image/png": "[encoded data removed]",
      "text/plain": [
       "<Figure size 640x480 with 1 Axes>"
      ]
     },
     "metadata": {},
     "output_type": "display_data"
    }
   ],
   "source": [
    "plt.hist(pwt.fit_transform(df[[\"Kilometers\"]]), bins=100)\n",
    "plt.show()"
   ]
  },
  {
   "cell_type": "code",
   "execution_count": 151,
   "id": "7be945b5-7d97-46b5-82a9-62fab6e98279",
   "metadata": {
    "collapsed": true,
    "jupyter": {
     "outputs_hidden": true
    }
   },
   "outputs": [
    {
     "data": {
      "image/png": "[encoded data removed]",
      "text/plain": [
       "<Figure size 640x480 with 1 Axes>"
      ]
     },
     "metadata": {},
     "output_type": "display_data"
    }
   ],
   "source": [
    "plt.hist(pwt.fit_transform(df[[\"CC\"]]), bins=30)\n",
    "plt.show()"
   ]
  },
  {
   "cell_type": "code",
   "execution_count": 153,
   "id": "971d7428-3cbe-43ec-aa95-d113dc9a1860",
   "metadata": {},
   "outputs": [],
   "source": [
    "data[num_cols] = pwt.fit_transform(df[num_cols])"
   ]
  },
  {
   "cell_type": "code",
   "execution_count": 154,
   "id": "c8f02bc4-bb6a-49f6-9922-40c5fd0d13bb",
   "metadata": {
    "collapsed": true,
    "jupyter": {
     "outputs_hidden": true
    }
   },
   "outputs": [
    {
     "data": {
      "image/png": "[encoded data removed]",
      "text/plain": [
       "<Figure size 640x480 with 1 Axes>"
      ]
     },
     "metadata": {},
     "output_type": "display_data"
    }
   ],
   "source": [
    "sns.histplot(data, x=\"Kilometers\", kde=True)\n",
    "plt.show()"
   ]
  },
  {
   "cell_type": "code",
   "execution_count": 155,
   "id": "a487c96d-fdad-46dd-a97b-8852f8f94a77",
   "metadata": {
    "collapsed": true,
    "jupyter": {
     "outputs_hidden": true
    }
   },
   "outputs": [
    {
     "data": {
      "image/png": "[encoded data removed]",
      "text/plain": [
       "<Figure size 640x480 with 1 Axes>"
      ]
     },
     "metadata": {},
     "output_type": "display_data"
    }
   ],
   "source": [
    "sns.histplot(data, x=\"CC\", kde=True)\n",
    "plt.show()"
   ]
  },
  {
   "cell_type": "code",
   "execution_count": 168,
   "id": "2132bfc0-bf7f-4ba9-bd27-b8adc3d8fa49",
   "metadata": {},
   "outputs": [
    {
     "data": {
      "text/plain": [
       "<Axes: >"
      ]
     },
     "execution_count": 168,
     "metadata": {},
     "output_type": "execute_result"
    },
    {
     "data": {
      "image/png": "[encoded data removed]",
      "text/plain": [
       "<Figure size 640x480 with 2 Axes>"
      ]
     },
     "metadata": {},
     "output_type": "display_data"
    }
   ],
   "source": [
    "sns.heatmap(np.array(data.corrwith(data[\"Price\"]).to_list()).reshape(-1, 1))"
   ]
  },
  {
   "cell_type": "code",
   "execution_count": null,
   "id": "298cc35c-9e6a-48b9-b6d1-1efba7664c13",
   "metadata": {},
   "outputs": [],
   "source": []
  }
 ],
 "metadata": {
  "kernelspec": {
   "display_name": "Python 3 (ipykernel)",
   "language": "python",
   "name": "python3"
  },
  "language_info": {
   "codemirror_mode": {
    "name": "ipython",
    "version": 3
   },
   "file_extension": ".py",
   "mimetype": "text/x-python",
   "name": "python",
   "nbconvert_exporter": "python",
   "pygments_lexer": "ipython3",
   "version": "3.11.9"
  },
  "widgets": {
   "application/vnd.jupyter.widget-state+json": {
    "state": {},
    "version_major": 2,
    "version_minor": 0
   }
  }
 },
 "nbformat": 4,
 "nbformat_minor": 5
}
