{
 "cells": [
  {
   "cell_type": "code",
   "execution_count": 1,
   "id": "643765aa-7a8a-4adb-b9a5-d9585f97a130",
   "metadata": {},
   "outputs": [],
   "source": [
    "import numpy as np\n",
    "import pandas as pd\n",
    "import matplotlib.pyplot as plt\n",
    "import seaborn as sns\n",
    "\n",
    "from sklearn.preprocessing import StandardScaler, OneHotEncoder, PowerTransformer, FunctionTransformer, MinMaxScaler\n",
    "from sklearn.model_selection import train_test_split\n",
    "from sklearn.linear_model import LinearRegression, Lasso, Ridge\n",
    "from sklearn.metrics import mean_squared_error, r2_score\n",
    "\n",
    "import warnings\n",
    "warnings.filterwarnings(\"ignore\")"
   ]
  },
  {
   "cell_type": "code",
   "execution_count": 2,
   "id": "00ea224e-076b-4a60-9d62-ce42b0cfc4c4",
   "metadata": {},
   "outputs": [],
   "source": [
    "df = pd.read_csv(r\"C:\\Users\\Abhishek\\Downloads\\Car Price Dataset.csv\")"
   ]
  },
  {
   "cell_type": "code",
   "execution_count": 3,
   "id": "4358f7d7-d762-431e-9beb-c908dc96443a",
   "metadata": {},
   "outputs": [
    {
     "data": {
      "text/html": [
       "<div>\n",
       "<style scoped>\n",
       "    .dataframe tbody tr th:only-of-type {\n",
       "        vertical-align: middle;\n",
       "    }\n",
       "\n",
       "    .dataframe tbody tr th {\n",
       "        vertical-align: top;\n",
       "    }\n",
       "\n",
       "    .dataframe thead th {\n",
       "        text-align: right;\n",
       "    }\n",
       "</style>\n",
       "<table border=\"1\" class=\"dataframe\">\n",
       "  <thead>\n",
       "    <tr style=\"text-align: right;\">\n",
       "      <th></th>\n",
       "      <th>ID</th>\n",
       "      <th>Name</th>\n",
       "      <th>Price</th>\n",
       "      <th>Brand</th>\n",
       "      <th>Model</th>\n",
       "      <th>Variant</th>\n",
       "      <th>Series</th>\n",
       "      <th>Year</th>\n",
       "      <th>Kilometers</th>\n",
       "      <th>Type</th>\n",
       "      <th>Gearbox</th>\n",
       "      <th>Fuel</th>\n",
       "      <th>Status</th>\n",
       "      <th>CC</th>\n",
       "      <th>Color</th>\n",
       "      <th>Seating Capacity</th>\n",
       "    </tr>\n",
       "  </thead>\n",
       "  <tbody>\n",
       "    <tr>\n",
       "      <th>0</th>\n",
       "      <td>11530130</td>\n",
       "      <td>2010 Toyota Rukus Build 2 AZE151R</td>\n",
       "      <td>9999</td>\n",
       "      <td>Toyota</td>\n",
       "      <td>Rukus</td>\n",
       "      <td>Build 2</td>\n",
       "      <td>AZE151R</td>\n",
       "      <td>2010</td>\n",
       "      <td>263000</td>\n",
       "      <td>Wagon</td>\n",
       "      <td>Automatic</td>\n",
       "      <td>Unleaded Petrol</td>\n",
       "      <td>Used</td>\n",
       "      <td>2362</td>\n",
       "      <td>Grey</td>\n",
       "      <td>5</td>\n",
       "    </tr>\n",
       "    <tr>\n",
       "      <th>1</th>\n",
       "      <td>12190570</td>\n",
       "      <td>2021 Mercedes-Benz V 250 D Avantgarde MWB 447 ...</td>\n",
       "      <td>117990</td>\n",
       "      <td>Mercedes-Benz</td>\n",
       "      <td>V</td>\n",
       "      <td>250 D Avantgarde MWB</td>\n",
       "      <td>447 MY21</td>\n",
       "      <td>2021</td>\n",
       "      <td>19</td>\n",
       "      <td>Wagon</td>\n",
       "      <td>Automatic</td>\n",
       "      <td>Diesel</td>\n",
       "      <td>New In Stock</td>\n",
       "      <td>2143</td>\n",
       "      <td>Black</td>\n",
       "      <td>7</td>\n",
       "    </tr>\n",
       "    <tr>\n",
       "      <th>2</th>\n",
       "      <td>12321855</td>\n",
       "      <td>2021 Mercedes-Benz Valente 116 CDI MWB RWD 447...</td>\n",
       "      <td>79990</td>\n",
       "      <td>Mercedes-Benz</td>\n",
       "      <td>Valente</td>\n",
       "      <td>116 CDI MWB RWD</td>\n",
       "      <td>447 MY21</td>\n",
       "      <td>2021</td>\n",
       "      <td>24</td>\n",
       "      <td>Wagon</td>\n",
       "      <td>Automatic</td>\n",
       "      <td>Diesel</td>\n",
       "      <td>New In Stock</td>\n",
       "      <td>2143</td>\n",
       "      <td>Black</td>\n",
       "      <td>8</td>\n",
       "    </tr>\n",
       "    <tr>\n",
       "      <th>3</th>\n",
       "      <td>12346971</td>\n",
       "      <td>2010 Mercedes-Benz E250 CDI Avantgarde 207</td>\n",
       "      <td>34990</td>\n",
       "      <td>Mercedes-Benz</td>\n",
       "      <td>E250</td>\n",
       "      <td>CDI Avantgarde</td>\n",
       "      <td>207</td>\n",
       "      <td>2010</td>\n",
       "      <td>120579</td>\n",
       "      <td>Cabriolet</td>\n",
       "      <td>Automatic</td>\n",
       "      <td>Diesel</td>\n",
       "      <td>Used</td>\n",
       "      <td>2143</td>\n",
       "      <td>Black</td>\n",
       "      <td>4</td>\n",
       "    </tr>\n",
       "    <tr>\n",
       "      <th>4</th>\n",
       "      <td>12363884</td>\n",
       "      <td>2016 Holden Cruze CD JH MY16</td>\n",
       "      <td>15990</td>\n",
       "      <td>Holden</td>\n",
       "      <td>Cruze</td>\n",
       "      <td>CD</td>\n",
       "      <td>JH MY16</td>\n",
       "      <td>2016</td>\n",
       "      <td>72506</td>\n",
       "      <td>Sportswagon</td>\n",
       "      <td>Automatic</td>\n",
       "      <td>Unleaded Petrol</td>\n",
       "      <td>Used</td>\n",
       "      <td>1796</td>\n",
       "      <td>White</td>\n",
       "      <td>5</td>\n",
       "    </tr>\n",
       "  </tbody>\n",
       "</table>\n",
       "</div>"
      ],
      "text/plain": [
       "         ID                                               Name   Price  \\\n",
       "0  11530130                  2010 Toyota Rukus Build 2 AZE151R    9999   \n",
       "1  12190570  2021 Mercedes-Benz V 250 D Avantgarde MWB 447 ...  117990   \n",
       "2  12321855  2021 Mercedes-Benz Valente 116 CDI MWB RWD 447...   79990   \n",
       "3  12346971         2010 Mercedes-Benz E250 CDI Avantgarde 207   34990   \n",
       "4  12363884                       2016 Holden Cruze CD JH MY16   15990   \n",
       "\n",
       "           Brand    Model               Variant    Series  Year  Kilometers  \\\n",
       "0         Toyota    Rukus               Build 2   AZE151R  2010      263000   \n",
       "1  Mercedes-Benz        V  250 D Avantgarde MWB  447 MY21  2021          19   \n",
       "2  Mercedes-Benz  Valente       116 CDI MWB RWD  447 MY21  2021          24   \n",
       "3  Mercedes-Benz     E250        CDI Avantgarde       207  2010      120579   \n",
       "4         Holden    Cruze                    CD   JH MY16  2016       72506   \n",
       "\n",
       "          Type    Gearbox             Fuel         Status    CC  Color  \\\n",
       "0        Wagon  Automatic  Unleaded Petrol           Used  2362   Grey   \n",
       "1        Wagon  Automatic           Diesel   New In Stock  2143  Black   \n",
       "2        Wagon  Automatic           Diesel   New In Stock  2143  Black   \n",
       "3    Cabriolet  Automatic           Diesel           Used  2143  Black   \n",
       "4  Sportswagon  Automatic  Unleaded Petrol           Used  1796  White   \n",
       "\n",
       "   Seating Capacity  \n",
       "0                 5  \n",
       "1                 7  \n",
       "2                 8  \n",
       "3                 4  \n",
       "4                 5  "
      ]
     },
     "execution_count": 3,
     "metadata": {},
     "output_type": "execute_result"
    }
   ],
   "source": [
    "df.head()"
   ]
  },
  {
   "cell_type": "code",
   "execution_count": 4,
   "id": "d66454cf-5ac4-4357-8837-9b1892c1895f",
   "metadata": {},
   "outputs": [
    {
     "name": "stdout",
     "output_type": "stream",
     "text": [
      "<class 'pandas.core.frame.DataFrame'>\n",
      "RangeIndex: 17048 entries, 0 to 17047\n",
      "Data columns (total 16 columns):\n",
      " #   Column            Non-Null Count  Dtype \n",
      "---  ------            --------------  ----- \n",
      " 0   ID                17048 non-null  int64 \n",
      " 1   Name              17048 non-null  object\n",
      " 2   Price             17048 non-null  int64 \n",
      " 3   Brand             17048 non-null  object\n",
      " 4   Model             17048 non-null  object\n",
      " 5   Variant           17048 non-null  object\n",
      " 6   Series            17048 non-null  object\n",
      " 7   Year              17048 non-null  int64 \n",
      " 8   Kilometers        17048 non-null  int64 \n",
      " 9   Type              17048 non-null  object\n",
      " 10  Gearbox           17048 non-null  object\n",
      " 11  Fuel              17048 non-null  object\n",
      " 12  Status            17048 non-null  object\n",
      " 13  CC                17048 non-null  int64 \n",
      " 14  Color             17048 non-null  object\n",
      " 15  Seating Capacity  17048 non-null  int64 \n",
      "dtypes: int64(6), object(10)\n",
      "memory usage: 2.1+ MB\n"
     ]
    }
   ],
   "source": [
    "df.info()"
   ]
  },
  {
   "cell_type": "code",
   "execution_count": 5,
   "id": "13bdd1bc-5608-40b0-b991-fd4586df5f1f",
   "metadata": {},
   "outputs": [],
   "source": [
    "df.drop([\"ID\",\"Name\"], axis=1, inplace=True)"
   ]
  },
  {
   "cell_type": "code",
   "execution_count": 6,
   "id": "73d78f43-1110-493c-afcd-f985f31a2f36",
   "metadata": {},
   "outputs": [
    {
     "data": {
      "text/plain": [
       "np.int64(65)"
      ]
     },
     "execution_count": 6,
     "metadata": {},
     "output_type": "execute_result"
    }
   ],
   "source": [
    "df.duplicated().sum()"
   ]
  },
  {
   "cell_type": "code",
   "execution_count": 7,
   "id": "47ec325b-371e-49c5-99a1-adfb4348218d",
   "metadata": {},
   "outputs": [],
   "source": [
    "df.drop_duplicates(inplace=True)"
   ]
  },
  {
   "cell_type": "code",
   "execution_count": 8,
   "id": "bc9965f9-b4dd-4425-a38d-241f8a2988c0",
   "metadata": {},
   "outputs": [
    {
     "name": "stdout",
     "output_type": "stream",
     "text": [
      "<class 'pandas.core.frame.DataFrame'>\n",
      "Index: 16983 entries, 0 to 17047\n",
      "Data columns (total 14 columns):\n",
      " #   Column            Non-Null Count  Dtype \n",
      "---  ------            --------------  ----- \n",
      " 0   Price             16983 non-null  int64 \n",
      " 1   Brand             16983 non-null  object\n",
      " 2   Model             16983 non-null  object\n",
      " 3   Variant           16983 non-null  object\n",
      " 4   Series            16983 non-null  object\n",
      " 5   Year              16983 non-null  int64 \n",
      " 6   Kilometers        16983 non-null  int64 \n",
      " 7   Type              16983 non-null  object\n",
      " 8   Gearbox           16983 non-null  object\n",
      " 9   Fuel              16983 non-null  object\n",
      " 10  Status            16983 non-null  object\n",
      " 11  CC                16983 non-null  int64 \n",
      " 12  Color             16983 non-null  object\n",
      " 13  Seating Capacity  16983 non-null  int64 \n",
      "dtypes: int64(5), object(9)\n",
      "memory usage: 1.9+ MB\n"
     ]
    }
   ],
   "source": [
    "df.info()"
   ]
  },
  {
   "cell_type": "code",
   "execution_count": 9,
   "id": "b8daf105-881f-4480-9eb8-a6eacd07adbb",
   "metadata": {},
   "outputs": [
    {
     "data": {
      "text/html": [
       "<div>\n",
       "<style scoped>\n",
       "    .dataframe tbody tr th:only-of-type {\n",
       "        vertical-align: middle;\n",
       "    }\n",
       "\n",
       "    .dataframe tbody tr th {\n",
       "        vertical-align: top;\n",
       "    }\n",
       "\n",
       "    .dataframe thead th {\n",
       "        text-align: right;\n",
       "    }\n",
       "</style>\n",
       "<table border=\"1\" class=\"dataframe\">\n",
       "  <thead>\n",
       "    <tr style=\"text-align: right;\">\n",
       "      <th></th>\n",
       "      <th>Price</th>\n",
       "      <th>Brand</th>\n",
       "      <th>Model</th>\n",
       "      <th>Variant</th>\n",
       "      <th>Series</th>\n",
       "      <th>Year</th>\n",
       "      <th>Kilometers</th>\n",
       "      <th>Type</th>\n",
       "      <th>Gearbox</th>\n",
       "      <th>Fuel</th>\n",
       "      <th>Status</th>\n",
       "      <th>CC</th>\n",
       "      <th>Color</th>\n",
       "      <th>Seating Capacity</th>\n",
       "    </tr>\n",
       "  </thead>\n",
       "  <tbody>\n",
       "    <tr>\n",
       "      <th>0</th>\n",
       "      <td>9999</td>\n",
       "      <td>Toyota</td>\n",
       "      <td>Rukus</td>\n",
       "      <td>Build 2</td>\n",
       "      <td>AZE151R</td>\n",
       "      <td>2010</td>\n",
       "      <td>263000</td>\n",
       "      <td>Wagon</td>\n",
       "      <td>Automatic</td>\n",
       "      <td>Unleaded Petrol</td>\n",
       "      <td>Used</td>\n",
       "      <td>2362</td>\n",
       "      <td>Grey</td>\n",
       "      <td>5</td>\n",
       "    </tr>\n",
       "    <tr>\n",
       "      <th>1</th>\n",
       "      <td>117990</td>\n",
       "      <td>Mercedes-Benz</td>\n",
       "      <td>V</td>\n",
       "      <td>250 D Avantgarde MWB</td>\n",
       "      <td>447 MY21</td>\n",
       "      <td>2021</td>\n",
       "      <td>19</td>\n",
       "      <td>Wagon</td>\n",
       "      <td>Automatic</td>\n",
       "      <td>Diesel</td>\n",
       "      <td>New In Stock</td>\n",
       "      <td>2143</td>\n",
       "      <td>Black</td>\n",
       "      <td>7</td>\n",
       "    </tr>\n",
       "    <tr>\n",
       "      <th>2</th>\n",
       "      <td>79990</td>\n",
       "      <td>Mercedes-Benz</td>\n",
       "      <td>Valente</td>\n",
       "      <td>116 CDI MWB RWD</td>\n",
       "      <td>447 MY21</td>\n",
       "      <td>2021</td>\n",
       "      <td>24</td>\n",
       "      <td>Wagon</td>\n",
       "      <td>Automatic</td>\n",
       "      <td>Diesel</td>\n",
       "      <td>New In Stock</td>\n",
       "      <td>2143</td>\n",
       "      <td>Black</td>\n",
       "      <td>8</td>\n",
       "    </tr>\n",
       "    <tr>\n",
       "      <th>3</th>\n",
       "      <td>34990</td>\n",
       "      <td>Mercedes-Benz</td>\n",
       "      <td>E250</td>\n",
       "      <td>CDI Avantgarde</td>\n",
       "      <td>207</td>\n",
       "      <td>2010</td>\n",
       "      <td>120579</td>\n",
       "      <td>Cabriolet</td>\n",
       "      <td>Automatic</td>\n",
       "      <td>Diesel</td>\n",
       "      <td>Used</td>\n",
       "      <td>2143</td>\n",
       "      <td>Black</td>\n",
       "      <td>4</td>\n",
       "    </tr>\n",
       "    <tr>\n",
       "      <th>4</th>\n",
       "      <td>15990</td>\n",
       "      <td>Holden</td>\n",
       "      <td>Cruze</td>\n",
       "      <td>CD</td>\n",
       "      <td>JH MY16</td>\n",
       "      <td>2016</td>\n",
       "      <td>72506</td>\n",
       "      <td>Sportswagon</td>\n",
       "      <td>Automatic</td>\n",
       "      <td>Unleaded Petrol</td>\n",
       "      <td>Used</td>\n",
       "      <td>1796</td>\n",
       "      <td>White</td>\n",
       "      <td>5</td>\n",
       "    </tr>\n",
       "  </tbody>\n",
       "</table>\n",
       "</div>"
      ],
      "text/plain": [
       "    Price          Brand    Model               Variant    Series  Year  \\\n",
       "0    9999         Toyota    Rukus               Build 2   AZE151R  2010   \n",
       "1  117990  Mercedes-Benz        V  250 D Avantgarde MWB  447 MY21  2021   \n",
       "2   79990  Mercedes-Benz  Valente       116 CDI MWB RWD  447 MY21  2021   \n",
       "3   34990  Mercedes-Benz     E250        CDI Avantgarde       207  2010   \n",
       "4   15990         Holden    Cruze                    CD   JH MY16  2016   \n",
       "\n",
       "   Kilometers         Type    Gearbox             Fuel         Status    CC  \\\n",
       "0      263000        Wagon  Automatic  Unleaded Petrol           Used  2362   \n",
       "1          19        Wagon  Automatic           Diesel   New In Stock  2143   \n",
       "2          24        Wagon  Automatic           Diesel   New In Stock  2143   \n",
       "3      120579    Cabriolet  Automatic           Diesel           Used  2143   \n",
       "4       72506  Sportswagon  Automatic  Unleaded Petrol           Used  1796   \n",
       "\n",
       "   Color  Seating Capacity  \n",
       "0   Grey                 5  \n",
       "1  Black                 7  \n",
       "2  Black                 8  \n",
       "3  Black                 4  \n",
       "4  White                 5  "
      ]
     },
     "execution_count": 9,
     "metadata": {},
     "output_type": "execute_result"
    }
   ],
   "source": [
    "df.head()"
   ]
  },
  {
   "cell_type": "code",
   "execution_count": 10,
   "id": "ed4c1ad7-e8a4-4225-a767-26c10e7ee56c",
   "metadata": {},
   "outputs": [
    {
     "data": {
      "text/plain": [
       "count     16983.000000\n",
       "mean      36761.137255\n",
       "std       30334.984257\n",
       "min        1000.000000\n",
       "25%       18799.500000\n",
       "50%       29990.000000\n",
       "75%       45990.000000\n",
       "max      999000.000000\n",
       "Name: Price, dtype: float64"
      ]
     },
     "execution_count": 10,
     "metadata": {},
     "output_type": "execute_result"
    }
   ],
   "source": [
    "df[\"Price\"].describe()"
   ]
  },
  {
   "cell_type": "code",
   "execution_count": 11,
   "id": "4f5c543b-4a92-419b-b999-b7b88eb761c8",
   "metadata": {},
   "outputs": [
    {
     "data": {
      "text/plain": [
       "count       16983.00\n",
       "mean      1990615.58\n",
       "std       1642639.40\n",
       "min         54150.00\n",
       "25%       1017992.92\n",
       "50%       1623958.50\n",
       "75%       2490358.50\n",
       "max      54095850.00\n",
       "Name: Price, dtype: float64"
      ]
     },
     "execution_count": 11,
     "metadata": {},
     "output_type": "execute_result"
    }
   ],
   "source": [
    "np.round((df[\"Price\"]*54.15).describe(), 2)"
   ]
  },
  {
   "cell_type": "code",
   "execution_count": 12,
   "id": "eec63ddb-d440-4e5f-82bd-3a44415e7a89",
   "metadata": {},
   "outputs": [
    {
     "data": {
      "image/png": "[encoded data removed]",
      "text/plain": [
       "<Figure size 640x480 with 1 Axes>"
      ]
     },
     "metadata": {},
     "output_type": "display_data"
    }
   ],
   "source": [
    "df[\"Price\"].plot.hist(bins=100)\n",
    "plt.show()"
   ]
  },
  {
   "cell_type": "code",
   "execution_count": 13,
   "id": "151ab211-82f7-4a9b-8334-6f7c5af0e6e1",
   "metadata": {},
   "outputs": [
    {
     "data": {
      "text/plain": [
       "<Axes: >"
      ]
     },
     "execution_count": 13,
     "metadata": {},
     "output_type": "execute_result"
    },
    {
     "data": {
      "image/png": "[encoded data removed]",
      "text/plain": [
       "<Figure size 640x480 with 1 Axes>"
      ]
     },
     "metadata": {},
     "output_type": "display_data"
    }
   ],
   "source": [
    "df[\"Price\"].plot.box(vert=False)"
   ]
  },
  {
   "cell_type": "code",
   "execution_count": 14,
   "id": "8ca2665b-9c7f-41a4-b087-ddeea2218b51",
   "metadata": {},
   "outputs": [],
   "source": [
    "def outlier_count(col):\n",
    "    q1, q3 = df[col].quantile([0.25, 0.75])\n",
    "    iqr = q3 - q1\n",
    "    lower = q1 - (1.5 * iqr)\n",
    "    upper = q3 + (1.5 * iqr)\n",
    "    res = df.query(f\"{col} < {lower} | {col} > {upper}\")\n",
    "    return res"
   ]
  },
  {
   "cell_type": "code",
   "execution_count": 15,
   "id": "05a3b762-fd4a-4713-9323-50c47b5b5037",
   "metadata": {},
   "outputs": [
    {
     "data": {
      "text/html": [
       "<div>\n",
       "<style scoped>\n",
       "    .dataframe tbody tr th:only-of-type {\n",
       "        vertical-align: middle;\n",
       "    }\n",
       "\n",
       "    .dataframe tbody tr th {\n",
       "        vertical-align: top;\n",
       "    }\n",
       "\n",
       "    .dataframe thead th {\n",
       "        text-align: right;\n",
       "    }\n",
       "</style>\n",
       "<table border=\"1\" class=\"dataframe\">\n",
       "  <thead>\n",
       "    <tr style=\"text-align: right;\">\n",
       "      <th></th>\n",
       "      <th>Price</th>\n",
       "      <th>Brand</th>\n",
       "      <th>Model</th>\n",
       "      <th>Variant</th>\n",
       "      <th>Series</th>\n",
       "      <th>Year</th>\n",
       "      <th>Kilometers</th>\n",
       "      <th>Type</th>\n",
       "      <th>Gearbox</th>\n",
       "      <th>Fuel</th>\n",
       "      <th>Status</th>\n",
       "      <th>CC</th>\n",
       "      <th>Color</th>\n",
       "      <th>Seating Capacity</th>\n",
       "    </tr>\n",
       "  </thead>\n",
       "  <tbody>\n",
       "    <tr>\n",
       "      <th>1</th>\n",
       "      <td>117990</td>\n",
       "      <td>Mercedes-Benz</td>\n",
       "      <td>V</td>\n",
       "      <td>250 D Avantgarde MWB</td>\n",
       "      <td>447 MY21</td>\n",
       "      <td>2021</td>\n",
       "      <td>19</td>\n",
       "      <td>Wagon</td>\n",
       "      <td>Automatic</td>\n",
       "      <td>Diesel</td>\n",
       "      <td>New In Stock</td>\n",
       "      <td>2143</td>\n",
       "      <td>Black</td>\n",
       "      <td>7</td>\n",
       "    </tr>\n",
       "    <tr>\n",
       "      <th>48</th>\n",
       "      <td>119985</td>\n",
       "      <td>Toyota</td>\n",
       "      <td>Landcruiser</td>\n",
       "      <td>LC200 VX (4X4)</td>\n",
       "      <td>VDJ200R</td>\n",
       "      <td>2020</td>\n",
       "      <td>50943</td>\n",
       "      <td>Wagon</td>\n",
       "      <td>Automatic</td>\n",
       "      <td>Diesel</td>\n",
       "      <td>Used</td>\n",
       "      <td>4461</td>\n",
       "      <td>White</td>\n",
       "      <td>7</td>\n",
       "    </tr>\n",
       "    <tr>\n",
       "      <th>54</th>\n",
       "      <td>169990</td>\n",
       "      <td>Toyota</td>\n",
       "      <td>Landcruiser 70 Series</td>\n",
       "      <td>GXL</td>\n",
       "      <td>VDJ79R</td>\n",
       "      <td>2021</td>\n",
       "      <td>1008</td>\n",
       "      <td>Double Cab Chassis</td>\n",
       "      <td>Manual</td>\n",
       "      <td>Diesel</td>\n",
       "      <td>Used</td>\n",
       "      <td>4461</td>\n",
       "      <td>Blue</td>\n",
       "      <td>5</td>\n",
       "    </tr>\n",
       "    <tr>\n",
       "      <th>68</th>\n",
       "      <td>129900</td>\n",
       "      <td>Porsche</td>\n",
       "      <td>Boxster</td>\n",
       "      <td>Spyder</td>\n",
       "      <td>987 MY11</td>\n",
       "      <td>2010</td>\n",
       "      <td>66147</td>\n",
       "      <td>Roadster</td>\n",
       "      <td>Automatic</td>\n",
       "      <td>Premium Unleaded Petrol</td>\n",
       "      <td>Used</td>\n",
       "      <td>3436</td>\n",
       "      <td>Black</td>\n",
       "      <td>2</td>\n",
       "    </tr>\n",
       "    <tr>\n",
       "      <th>156</th>\n",
       "      <td>110990</td>\n",
       "      <td>Ram</td>\n",
       "      <td>1500</td>\n",
       "      <td>Warlock (black/Grey/HYD Blue)</td>\n",
       "      <td>MY20</td>\n",
       "      <td>2020</td>\n",
       "      <td>39969</td>\n",
       "      <td>Crew Cab Utility</td>\n",
       "      <td>Automatic</td>\n",
       "      <td>Unleaded Petrol</td>\n",
       "      <td>Used</td>\n",
       "      <td>5654</td>\n",
       "      <td>Grey</td>\n",
       "      <td>5</td>\n",
       "    </tr>\n",
       "    <tr>\n",
       "      <th>...</th>\n",
       "      <td>...</td>\n",
       "      <td>...</td>\n",
       "      <td>...</td>\n",
       "      <td>...</td>\n",
       "      <td>...</td>\n",
       "      <td>...</td>\n",
       "      <td>...</td>\n",
       "      <td>...</td>\n",
       "      <td>...</td>\n",
       "      <td>...</td>\n",
       "      <td>...</td>\n",
       "      <td>...</td>\n",
       "      <td>...</td>\n",
       "      <td>...</td>\n",
       "    </tr>\n",
       "    <tr>\n",
       "      <th>16908</th>\n",
       "      <td>89600</td>\n",
       "      <td>BMW</td>\n",
       "      <td>430I</td>\n",
       "      <td>M Sport</td>\n",
       "      <td>G22</td>\n",
       "      <td>2021</td>\n",
       "      <td>11338</td>\n",
       "      <td>Coupe</td>\n",
       "      <td>Automatic</td>\n",
       "      <td>Premium Unleaded Petrol</td>\n",
       "      <td>Used</td>\n",
       "      <td>1998</td>\n",
       "      <td>Black</td>\n",
       "      <td>4</td>\n",
       "    </tr>\n",
       "    <tr>\n",
       "      <th>16916</th>\n",
       "      <td>99800</td>\n",
       "      <td>Mercedes-Benz</td>\n",
       "      <td>A45</td>\n",
       "      <td>S 4Matic+</td>\n",
       "      <td>W177 MY21</td>\n",
       "      <td>2020</td>\n",
       "      <td>13802</td>\n",
       "      <td>Hatchback</td>\n",
       "      <td>Automatic</td>\n",
       "      <td>Premium Unleaded Petrol</td>\n",
       "      <td>Used</td>\n",
       "      <td>1991</td>\n",
       "      <td>White</td>\n",
       "      <td>5</td>\n",
       "    </tr>\n",
       "    <tr>\n",
       "      <th>16974</th>\n",
       "      <td>210800</td>\n",
       "      <td>BMW</td>\n",
       "      <td>X6</td>\n",
       "      <td>M Competition</td>\n",
       "      <td>F96</td>\n",
       "      <td>2021</td>\n",
       "      <td>18500</td>\n",
       "      <td>Wagon</td>\n",
       "      <td>Automatic</td>\n",
       "      <td>Premium Unleaded Petrol</td>\n",
       "      <td>Used</td>\n",
       "      <td>4395</td>\n",
       "      <td>Blue</td>\n",
       "      <td>5</td>\n",
       "    </tr>\n",
       "    <tr>\n",
       "      <th>16988</th>\n",
       "      <td>105000</td>\n",
       "      <td>Land Rover</td>\n",
       "      <td>Discovery</td>\n",
       "      <td>TD6 SE</td>\n",
       "      <td>MY17</td>\n",
       "      <td>2017</td>\n",
       "      <td>36000</td>\n",
       "      <td>Wagon</td>\n",
       "      <td>Automatic</td>\n",
       "      <td>Diesel</td>\n",
       "      <td>Used</td>\n",
       "      <td>2993</td>\n",
       "      <td>Orange</td>\n",
       "      <td>5</td>\n",
       "    </tr>\n",
       "    <tr>\n",
       "      <th>17025</th>\n",
       "      <td>89990</td>\n",
       "      <td>Volvo</td>\n",
       "      <td>XC90</td>\n",
       "      <td>D5 Inscription</td>\n",
       "      <td>256 MY19</td>\n",
       "      <td>2019</td>\n",
       "      <td>41644</td>\n",
       "      <td>Wagon</td>\n",
       "      <td>Automatic</td>\n",
       "      <td>Diesel</td>\n",
       "      <td>Used</td>\n",
       "      <td>1969</td>\n",
       "      <td>White</td>\n",
       "      <td>7</td>\n",
       "    </tr>\n",
       "  </tbody>\n",
       "</table>\n",
       "<p>804 rows × 14 columns</p>\n",
       "</div>"
      ],
      "text/plain": [
       "        Price          Brand                  Model  \\\n",
       "1      117990  Mercedes-Benz                      V   \n",
       "48     119985         Toyota            Landcruiser   \n",
       "54     169990         Toyota  Landcruiser 70 Series   \n",
       "68     129900        Porsche                Boxster   \n",
       "156    110990            Ram                   1500   \n",
       "...       ...            ...                    ...   \n",
       "16908   89600            BMW                   430I   \n",
       "16916   99800  Mercedes-Benz                    A45   \n",
       "16974  210800            BMW                     X6   \n",
       "16988  105000     Land Rover              Discovery   \n",
       "17025   89990          Volvo                   XC90   \n",
       "\n",
       "                             Variant     Series  Year  Kilometers  \\\n",
       "1               250 D Avantgarde MWB   447 MY21  2021          19   \n",
       "48                    LC200 VX (4X4)    VDJ200R  2020       50943   \n",
       "54                               GXL     VDJ79R  2021        1008   \n",
       "68                            Spyder   987 MY11  2010       66147   \n",
       "156    Warlock (black/Grey/HYD Blue)       MY20  2020       39969   \n",
       "...                              ...        ...   ...         ...   \n",
       "16908                        M Sport        G22  2021       11338   \n",
       "16916                      S 4Matic+  W177 MY21  2020       13802   \n",
       "16974                  M Competition        F96  2021       18500   \n",
       "16988                         TD6 SE       MY17  2017       36000   \n",
       "17025                 D5 Inscription   256 MY19  2019       41644   \n",
       "\n",
       "                     Type    Gearbox                     Fuel         Status  \\\n",
       "1                   Wagon  Automatic                   Diesel   New In Stock   \n",
       "48                  Wagon  Automatic                   Diesel           Used   \n",
       "54     Double Cab Chassis     Manual                   Diesel           Used   \n",
       "68               Roadster  Automatic  Premium Unleaded Petrol           Used   \n",
       "156      Crew Cab Utility  Automatic          Unleaded Petrol           Used   \n",
       "...                   ...        ...                      ...            ...   \n",
       "16908               Coupe  Automatic  Premium Unleaded Petrol           Used   \n",
       "16916           Hatchback  Automatic  Premium Unleaded Petrol           Used   \n",
       "16974               Wagon  Automatic  Premium Unleaded Petrol           Used   \n",
       "16988               Wagon  Automatic                   Diesel           Used   \n",
       "17025               Wagon  Automatic                   Diesel           Used   \n",
       "\n",
       "         CC   Color  Seating Capacity  \n",
       "1      2143   Black                 7  \n",
       "48     4461   White                 7  \n",
       "54     4461    Blue                 5  \n",
       "68     3436   Black                 2  \n",
       "156    5654    Grey                 5  \n",
       "...     ...     ...               ...  \n",
       "16908  1998   Black                 4  \n",
       "16916  1991   White                 5  \n",
       "16974  4395    Blue                 5  \n",
       "16988  2993  Orange                 5  \n",
       "17025  1969   White                 7  \n",
       "\n",
       "[804 rows x 14 columns]"
      ]
     },
     "execution_count": 15,
     "metadata": {},
     "output_type": "execute_result"
    }
   ],
   "source": [
    "outlier_count(\"Price\")"
   ]
  },
  {
   "cell_type": "code",
   "execution_count": 16,
   "id": "4652773b-9169-449d-a26f-103e64d5741a",
   "metadata": {},
   "outputs": [
    {
     "data": {
      "text/plain": [
       "Brand\n",
       "Toyota             2750\n",
       "Holden             1500\n",
       "Ford               1490\n",
       "Mazda              1164\n",
       "Hyundai            1087\n",
       "Mitsubishi         1072\n",
       "Volkswagen         1012\n",
       "Nissan             1005\n",
       "Kia                 742\n",
       "Subaru              654\n",
       "Mercedes-Benz       623\n",
       "Audi                518\n",
       "BMW                 479\n",
       "Honda               412\n",
       "Jeep                379\n",
       "Land Rover          273\n",
       "Isuzu               267\n",
       "Lexus               180\n",
       "Volvo               160\n",
       "Suzuki              160\n",
       "Skoda               158\n",
       "Renault             150\n",
       "LDV                 116\n",
       "MG                   95\n",
       "Porsche              91\n",
       "Mini                 66\n",
       "Peugeot              45\n",
       "Chrysler             42\n",
       "Jaguar               38\n",
       "HSV                  37\n",
       "GWM                  28\n",
       "Great Wall           27\n",
       "Ram                  23\n",
       "Fiat                 17\n",
       "Dodge                14\n",
       "Citroen              13\n",
       "Ssangyong            11\n",
       "Alfa Romeo           11\n",
       "Infiniti              9\n",
       "Maserati              8\n",
       "Haval                 7\n",
       "Bentley               7\n",
       "Chevrolet             7\n",
       "Cupra                 5\n",
       "Abarth                5\n",
       "Opel                  4\n",
       "Foton                 4\n",
       "Lamborghini           3\n",
       "Aston Martin          2\n",
       "Chery                 2\n",
       "FPV                   2\n",
       "Saab                  2\n",
       "Hino                  1\n",
       "Mitsubishi Fuso       1\n",
       "Genesis               1\n",
       "Iveco                 1\n",
       "Mahindra              1\n",
       "Smart                 1\n",
       "Proton                1\n",
       "Name: count, dtype: int64"
      ]
     },
     "execution_count": 16,
     "metadata": {},
     "output_type": "execute_result"
    }
   ],
   "source": [
    "df[\"Brand\"].value_counts()"
   ]
  },
  {
   "cell_type": "code",
   "execution_count": 17,
   "id": "a5720b71-f183-43bd-be8f-d4a8fe0cfb67",
   "metadata": {},
   "outputs": [
    {
     "data": {
      "text/plain": [
       "['Toyota',\n",
       " 'Holden',\n",
       " 'Ford',\n",
       " 'Mazda',\n",
       " 'Hyundai',\n",
       " 'Mitsubishi',\n",
       " 'Volkswagen',\n",
       " 'Nissan',\n",
       " 'Kia']"
      ]
     },
     "execution_count": 17,
     "metadata": {},
     "output_type": "execute_result"
    }
   ],
   "source": [
    "df['Brand'].value_counts().head(9).index.tolist()"
   ]
  },
  {
   "cell_type": "code",
   "execution_count": 18,
   "id": "4fa8b1ee-a721-49ad-80c7-fa7646f8035a",
   "metadata": {},
   "outputs": [],
   "source": [
    "df[\"Brand\"] = df[\"Brand\"].apply(lambda x: x if x in df['Brand'].value_counts().head(9)\\\n",
    "                               .index.tolist() else \"Other\")"
   ]
  },
  {
   "cell_type": "code",
   "execution_count": 19,
   "id": "90223a34-1474-4dfc-a0f9-7e12d8e0b1cf",
   "metadata": {},
   "outputs": [
    {
     "data": {
      "text/plain": [
       "Brand\n",
       "Other         5161\n",
       "Toyota        2750\n",
       "Holden        1500\n",
       "Ford          1490\n",
       "Mazda         1164\n",
       "Hyundai       1087\n",
       "Mitsubishi    1072\n",
       "Volkswagen    1012\n",
       "Nissan        1005\n",
       "Kia            742\n",
       "Name: count, dtype: int64"
      ]
     },
     "execution_count": 19,
     "metadata": {},
     "output_type": "execute_result"
    }
   ],
   "source": [
    "df[\"Brand\"].value_counts()"
   ]
  },
  {
   "cell_type": "code",
   "execution_count": 20,
   "id": "a061e513-da90-426b-996b-a45a58ed089e",
   "metadata": {},
   "outputs": [
    {
     "data": {
      "text/plain": [
       "['Ranger',\n",
       " 'Hilux',\n",
       " 'Commodore',\n",
       " 'Triton',\n",
       " 'Corolla',\n",
       " 'Navara',\n",
       " 'RAV4',\n",
       " 'Colorado',\n",
       " '3']"
      ]
     },
     "execution_count": 20,
     "metadata": {},
     "output_type": "execute_result"
    }
   ],
   "source": [
    "df[\"Model\"].value_counts().head(9). index.tolist()"
   ]
  },
  {
   "cell_type": "code",
   "execution_count": 21,
   "id": "b4dd7b59-c122-4156-bb49-f0751b696fa8",
   "metadata": {},
   "outputs": [],
   "source": [
    "df[\"Model\"] = df[\"Model\"].apply(lambda x: x if x in df['Model'].value_counts().head(9)\\\n",
    "                               .index.tolist() else \"Other\")"
   ]
  },
  {
   "cell_type": "code",
   "execution_count": 22,
   "id": "0ac3ecda-b30d-4c7e-b8a2-b0a36f4f1789",
   "metadata": {},
   "outputs": [
    {
     "data": {
      "text/plain": [
       "Model\n",
       "Other        13414\n",
       "Ranger         648\n",
       "Hilux          537\n",
       "Commodore      490\n",
       "Triton         368\n",
       "Corolla        355\n",
       "Navara         305\n",
       "RAV4           304\n",
       "Colorado       281\n",
       "3              281\n",
       "Name: count, dtype: int64"
      ]
     },
     "execution_count": 22,
     "metadata": {},
     "output_type": "execute_result"
    }
   ],
   "source": [
    "df[\"Model\"].value_counts()"
   ]
  },
  {
   "cell_type": "code",
   "execution_count": 23,
   "id": "d9f5937f-7887-4b96-a222-f9fc2b3257f2",
   "metadata": {},
   "outputs": [],
   "source": [
    "df.drop([\"Variant\", \"Series\"], axis=1, inplace=True)"
   ]
  },
  {
   "cell_type": "code",
   "execution_count": 24,
   "id": "0f47c9ec-8cd7-454e-b84c-ce7faea36332",
   "metadata": {},
   "outputs": [
    {
     "data": {
      "text/html": [
       "<div>\n",
       "<style scoped>\n",
       "    .dataframe tbody tr th:only-of-type {\n",
       "        vertical-align: middle;\n",
       "    }\n",
       "\n",
       "    .dataframe tbody tr th {\n",
       "        vertical-align: top;\n",
       "    }\n",
       "\n",
       "    .dataframe thead th {\n",
       "        text-align: right;\n",
       "    }\n",
       "</style>\n",
       "<table border=\"1\" class=\"dataframe\">\n",
       "  <thead>\n",
       "    <tr style=\"text-align: right;\">\n",
       "      <th></th>\n",
       "      <th>Price</th>\n",
       "      <th>Brand</th>\n",
       "      <th>Model</th>\n",
       "      <th>Year</th>\n",
       "      <th>Kilometers</th>\n",
       "      <th>Type</th>\n",
       "      <th>Gearbox</th>\n",
       "      <th>Fuel</th>\n",
       "      <th>Status</th>\n",
       "      <th>CC</th>\n",
       "      <th>Color</th>\n",
       "      <th>Seating Capacity</th>\n",
       "    </tr>\n",
       "  </thead>\n",
       "  <tbody>\n",
       "    <tr>\n",
       "      <th>0</th>\n",
       "      <td>9999</td>\n",
       "      <td>Toyota</td>\n",
       "      <td>Other</td>\n",
       "      <td>2010</td>\n",
       "      <td>263000</td>\n",
       "      <td>Wagon</td>\n",
       "      <td>Automatic</td>\n",
       "      <td>Unleaded Petrol</td>\n",
       "      <td>Used</td>\n",
       "      <td>2362</td>\n",
       "      <td>Grey</td>\n",
       "      <td>5</td>\n",
       "    </tr>\n",
       "    <tr>\n",
       "      <th>1</th>\n",
       "      <td>117990</td>\n",
       "      <td>Other</td>\n",
       "      <td>Other</td>\n",
       "      <td>2021</td>\n",
       "      <td>19</td>\n",
       "      <td>Wagon</td>\n",
       "      <td>Automatic</td>\n",
       "      <td>Diesel</td>\n",
       "      <td>New In Stock</td>\n",
       "      <td>2143</td>\n",
       "      <td>Black</td>\n",
       "      <td>7</td>\n",
       "    </tr>\n",
       "    <tr>\n",
       "      <th>2</th>\n",
       "      <td>79990</td>\n",
       "      <td>Other</td>\n",
       "      <td>Other</td>\n",
       "      <td>2021</td>\n",
       "      <td>24</td>\n",
       "      <td>Wagon</td>\n",
       "      <td>Automatic</td>\n",
       "      <td>Diesel</td>\n",
       "      <td>New In Stock</td>\n",
       "      <td>2143</td>\n",
       "      <td>Black</td>\n",
       "      <td>8</td>\n",
       "    </tr>\n",
       "    <tr>\n",
       "      <th>3</th>\n",
       "      <td>34990</td>\n",
       "      <td>Other</td>\n",
       "      <td>Other</td>\n",
       "      <td>2010</td>\n",
       "      <td>120579</td>\n",
       "      <td>Cabriolet</td>\n",
       "      <td>Automatic</td>\n",
       "      <td>Diesel</td>\n",
       "      <td>Used</td>\n",
       "      <td>2143</td>\n",
       "      <td>Black</td>\n",
       "      <td>4</td>\n",
       "    </tr>\n",
       "    <tr>\n",
       "      <th>4</th>\n",
       "      <td>15990</td>\n",
       "      <td>Holden</td>\n",
       "      <td>Other</td>\n",
       "      <td>2016</td>\n",
       "      <td>72506</td>\n",
       "      <td>Sportswagon</td>\n",
       "      <td>Automatic</td>\n",
       "      <td>Unleaded Petrol</td>\n",
       "      <td>Used</td>\n",
       "      <td>1796</td>\n",
       "      <td>White</td>\n",
       "      <td>5</td>\n",
       "    </tr>\n",
       "  </tbody>\n",
       "</table>\n",
       "</div>"
      ],
      "text/plain": [
       "    Price   Brand  Model  Year  Kilometers         Type    Gearbox  \\\n",
       "0    9999  Toyota  Other  2010      263000        Wagon  Automatic   \n",
       "1  117990   Other  Other  2021          19        Wagon  Automatic   \n",
       "2   79990   Other  Other  2021          24        Wagon  Automatic   \n",
       "3   34990   Other  Other  2010      120579    Cabriolet  Automatic   \n",
       "4   15990  Holden  Other  2016       72506  Sportswagon  Automatic   \n",
       "\n",
       "              Fuel         Status    CC  Color  Seating Capacity  \n",
       "0  Unleaded Petrol           Used  2362   Grey                 5  \n",
       "1           Diesel   New In Stock  2143  Black                 7  \n",
       "2           Diesel   New In Stock  2143  Black                 8  \n",
       "3           Diesel           Used  2143  Black                 4  \n",
       "4  Unleaded Petrol           Used  1796  White                 5  "
      ]
     },
     "execution_count": 24,
     "metadata": {},
     "output_type": "execute_result"
    }
   ],
   "source": [
    "df.head()"
   ]
  },
  {
   "cell_type": "code",
   "execution_count": 25,
   "id": "e2cf35d8-8b1a-4532-ad23-c1965d8ca68e",
   "metadata": {},
   "outputs": [
    {
     "data": {
      "text/plain": [
       "Year\n",
       "1989       2\n",
       "1990       2\n",
       "1991       2\n",
       "1992       1\n",
       "1993       4\n",
       "1994       3\n",
       "1995       7\n",
       "1996       9\n",
       "1997      10\n",
       "1998      16\n",
       "1999      15\n",
       "2000      40\n",
       "2001      45\n",
       "2002      74\n",
       "2003     117\n",
       "2004     139\n",
       "2005     186\n",
       "2006     225\n",
       "2007     327\n",
       "2008     359\n",
       "2009     391\n",
       "2010     553\n",
       "2011     586\n",
       "2012     802\n",
       "2013     946\n",
       "2014    1006\n",
       "2015    1206\n",
       "2016    1443\n",
       "2017    1812\n",
       "2018    1888\n",
       "2019    1621\n",
       "2020    1028\n",
       "2021    1004\n",
       "2022    1114\n",
       "Name: count, dtype: int64"
      ]
     },
     "execution_count": 25,
     "metadata": {},
     "output_type": "execute_result"
    }
   ],
   "source": [
    "df[\"Year\"].value_counts().sort_index()"
   ]
  },
  {
   "cell_type": "code",
   "execution_count": 26,
   "id": "f9c7cb09-a777-441d-9ce6-6400d484bb23",
   "metadata": {},
   "outputs": [],
   "source": [
    "df[\"Age\"] = 2025 - df[\"Year\"]"
   ]
  },
  {
   "cell_type": "code",
   "execution_count": 27,
   "id": "c85b6e6b-09b2-4fde-9086-9aff9fe7d1d6",
   "metadata": {},
   "outputs": [],
   "source": [
    "df[\"Age\"] = pd.cut(df[\"Age\"], bins=[2,5,10,17,26,36])"
   ]
  },
  {
   "cell_type": "code",
   "execution_count": 28,
   "id": "800b7e3d-2632-4722-8af9-70522c9918a9",
   "metadata": {},
   "outputs": [
    {
     "data": {
      "text/html": [
       "<div>\n",
       "<style scoped>\n",
       "    .dataframe tbody tr th:only-of-type {\n",
       "        vertical-align: middle;\n",
       "    }\n",
       "\n",
       "    .dataframe tbody tr th {\n",
       "        vertical-align: top;\n",
       "    }\n",
       "\n",
       "    .dataframe thead th {\n",
       "        text-align: right;\n",
       "    }\n",
       "</style>\n",
       "<table border=\"1\" class=\"dataframe\">\n",
       "  <thead>\n",
       "    <tr style=\"text-align: right;\">\n",
       "      <th></th>\n",
       "      <th>Price</th>\n",
       "      <th>Brand</th>\n",
       "      <th>Model</th>\n",
       "      <th>Year</th>\n",
       "      <th>Kilometers</th>\n",
       "      <th>Type</th>\n",
       "      <th>Gearbox</th>\n",
       "      <th>Fuel</th>\n",
       "      <th>Status</th>\n",
       "      <th>CC</th>\n",
       "      <th>Color</th>\n",
       "      <th>Seating Capacity</th>\n",
       "      <th>Age</th>\n",
       "    </tr>\n",
       "  </thead>\n",
       "  <tbody>\n",
       "    <tr>\n",
       "      <th>0</th>\n",
       "      <td>9999</td>\n",
       "      <td>Toyota</td>\n",
       "      <td>Other</td>\n",
       "      <td>2010</td>\n",
       "      <td>263000</td>\n",
       "      <td>Wagon</td>\n",
       "      <td>Automatic</td>\n",
       "      <td>Unleaded Petrol</td>\n",
       "      <td>Used</td>\n",
       "      <td>2362</td>\n",
       "      <td>Grey</td>\n",
       "      <td>5</td>\n",
       "      <td>(10, 17]</td>\n",
       "    </tr>\n",
       "    <tr>\n",
       "      <th>1</th>\n",
       "      <td>117990</td>\n",
       "      <td>Other</td>\n",
       "      <td>Other</td>\n",
       "      <td>2021</td>\n",
       "      <td>19</td>\n",
       "      <td>Wagon</td>\n",
       "      <td>Automatic</td>\n",
       "      <td>Diesel</td>\n",
       "      <td>New In Stock</td>\n",
       "      <td>2143</td>\n",
       "      <td>Black</td>\n",
       "      <td>7</td>\n",
       "      <td>(2, 5]</td>\n",
       "    </tr>\n",
       "    <tr>\n",
       "      <th>2</th>\n",
       "      <td>79990</td>\n",
       "      <td>Other</td>\n",
       "      <td>Other</td>\n",
       "      <td>2021</td>\n",
       "      <td>24</td>\n",
       "      <td>Wagon</td>\n",
       "      <td>Automatic</td>\n",
       "      <td>Diesel</td>\n",
       "      <td>New In Stock</td>\n",
       "      <td>2143</td>\n",
       "      <td>Black</td>\n",
       "      <td>8</td>\n",
       "      <td>(2, 5]</td>\n",
       "    </tr>\n",
       "    <tr>\n",
       "      <th>3</th>\n",
       "      <td>34990</td>\n",
       "      <td>Other</td>\n",
       "      <td>Other</td>\n",
       "      <td>2010</td>\n",
       "      <td>120579</td>\n",
       "      <td>Cabriolet</td>\n",
       "      <td>Automatic</td>\n",
       "      <td>Diesel</td>\n",
       "      <td>Used</td>\n",
       "      <td>2143</td>\n",
       "      <td>Black</td>\n",
       "      <td>4</td>\n",
       "      <td>(10, 17]</td>\n",
       "    </tr>\n",
       "    <tr>\n",
       "      <th>4</th>\n",
       "      <td>15990</td>\n",
       "      <td>Holden</td>\n",
       "      <td>Other</td>\n",
       "      <td>2016</td>\n",
       "      <td>72506</td>\n",
       "      <td>Sportswagon</td>\n",
       "      <td>Automatic</td>\n",
       "      <td>Unleaded Petrol</td>\n",
       "      <td>Used</td>\n",
       "      <td>1796</td>\n",
       "      <td>White</td>\n",
       "      <td>5</td>\n",
       "      <td>(5, 10]</td>\n",
       "    </tr>\n",
       "  </tbody>\n",
       "</table>\n",
       "</div>"
      ],
      "text/plain": [
       "    Price   Brand  Model  Year  Kilometers         Type    Gearbox  \\\n",
       "0    9999  Toyota  Other  2010      263000        Wagon  Automatic   \n",
       "1  117990   Other  Other  2021          19        Wagon  Automatic   \n",
       "2   79990   Other  Other  2021          24        Wagon  Automatic   \n",
       "3   34990   Other  Other  2010      120579    Cabriolet  Automatic   \n",
       "4   15990  Holden  Other  2016       72506  Sportswagon  Automatic   \n",
       "\n",
       "              Fuel         Status    CC  Color  Seating Capacity       Age  \n",
       "0  Unleaded Petrol           Used  2362   Grey                 5  (10, 17]  \n",
       "1           Diesel   New In Stock  2143  Black                 7    (2, 5]  \n",
       "2           Diesel   New In Stock  2143  Black                 8    (2, 5]  \n",
       "3           Diesel           Used  2143  Black                 4  (10, 17]  \n",
       "4  Unleaded Petrol           Used  1796  White                 5   (5, 10]  "
      ]
     },
     "execution_count": 28,
     "metadata": {},
     "output_type": "execute_result"
    }
   ],
   "source": [
    "df.head()"
   ]
  },
  {
   "cell_type": "code",
   "execution_count": 29,
   "id": "d19c7b81-0a3a-44e0-a59b-bd5373e8907a",
   "metadata": {},
   "outputs": [],
   "source": [
    "df.drop(\"Year\", axis=1, inplace=True)"
   ]
  },
  {
   "cell_type": "code",
   "execution_count": 30,
   "id": "b50fef98-f29e-445d-9d76-a3a81be7d5ff",
   "metadata": {},
   "outputs": [
    {
     "data": {
      "text/plain": [
       "<Axes: ylabel='Frequency'>"
      ]
     },
     "execution_count": 30,
     "metadata": {},
     "output_type": "execute_result"
    },
    {
     "data": {
      "image/png": "[encoded data removed]",
      "text/plain": [
       "<Figure size 640x480 with 1 Axes>"
      ]
     },
     "metadata": {},
     "output_type": "display_data"
    }
   ],
   "source": [
    "df[\"Kilometers\"].plot.hist(bins=100)"
   ]
  },
  {
   "cell_type": "code",
   "execution_count": 31,
   "id": "08ae950b-6b9b-40b1-946c-25cf59749347",
   "metadata": {},
   "outputs": [
    {
     "data": {
      "text/plain": [
       "<Axes: >"
      ]
     },
     "execution_count": 31,
     "metadata": {},
     "output_type": "execute_result"
    },
    {
     "data": {
      "image/png": "[encoded data removed]",
      "text/plain": [
       "<Figure size 640x480 with 1 Axes>"
      ]
     },
     "metadata": {},
     "output_type": "display_data"
    }
   ],
   "source": [
    "df[\"Kilometers\"].plot.box(vert=False)"
   ]
  },
  {
   "cell_type": "code",
   "execution_count": 32,
   "id": "3fde4ed2-f1a9-4741-8105-e23ad59f5259",
   "metadata": {},
   "outputs": [],
   "source": [
    "df = df.query(\"Kilometers < 500000\")"
   ]
  },
  {
   "cell_type": "code",
   "execution_count": 33,
   "id": "c82a1d71-8668-4e32-8d48-39f5f012ba94",
   "metadata": {},
   "outputs": [
    {
     "data": {
      "text/html": [
       "<div>\n",
       "<style scoped>\n",
       "    .dataframe tbody tr th:only-of-type {\n",
       "        vertical-align: middle;\n",
       "    }\n",
       "\n",
       "    .dataframe tbody tr th {\n",
       "        vertical-align: top;\n",
       "    }\n",
       "\n",
       "    .dataframe thead th {\n",
       "        text-align: right;\n",
       "    }\n",
       "</style>\n",
       "<table border=\"1\" class=\"dataframe\">\n",
       "  <thead>\n",
       "    <tr style=\"text-align: right;\">\n",
       "      <th></th>\n",
       "      <th>Price</th>\n",
       "      <th>Brand</th>\n",
       "      <th>Model</th>\n",
       "      <th>Kilometers</th>\n",
       "      <th>Type</th>\n",
       "      <th>Gearbox</th>\n",
       "      <th>Fuel</th>\n",
       "      <th>Status</th>\n",
       "      <th>CC</th>\n",
       "      <th>Color</th>\n",
       "      <th>Seating Capacity</th>\n",
       "      <th>Age</th>\n",
       "    </tr>\n",
       "  </thead>\n",
       "  <tbody>\n",
       "    <tr>\n",
       "      <th>0</th>\n",
       "      <td>9999</td>\n",
       "      <td>Toyota</td>\n",
       "      <td>Other</td>\n",
       "      <td>263000</td>\n",
       "      <td>Wagon</td>\n",
       "      <td>Automatic</td>\n",
       "      <td>Unleaded Petrol</td>\n",
       "      <td>Used</td>\n",
       "      <td>2362</td>\n",
       "      <td>Grey</td>\n",
       "      <td>5</td>\n",
       "      <td>(10, 17]</td>\n",
       "    </tr>\n",
       "    <tr>\n",
       "      <th>1</th>\n",
       "      <td>117990</td>\n",
       "      <td>Other</td>\n",
       "      <td>Other</td>\n",
       "      <td>19</td>\n",
       "      <td>Wagon</td>\n",
       "      <td>Automatic</td>\n",
       "      <td>Diesel</td>\n",
       "      <td>New In Stock</td>\n",
       "      <td>2143</td>\n",
       "      <td>Black</td>\n",
       "      <td>7</td>\n",
       "      <td>(2, 5]</td>\n",
       "    </tr>\n",
       "    <tr>\n",
       "      <th>2</th>\n",
       "      <td>79990</td>\n",
       "      <td>Other</td>\n",
       "      <td>Other</td>\n",
       "      <td>24</td>\n",
       "      <td>Wagon</td>\n",
       "      <td>Automatic</td>\n",
       "      <td>Diesel</td>\n",
       "      <td>New In Stock</td>\n",
       "      <td>2143</td>\n",
       "      <td>Black</td>\n",
       "      <td>8</td>\n",
       "      <td>(2, 5]</td>\n",
       "    </tr>\n",
       "    <tr>\n",
       "      <th>3</th>\n",
       "      <td>34990</td>\n",
       "      <td>Other</td>\n",
       "      <td>Other</td>\n",
       "      <td>120579</td>\n",
       "      <td>Cabriolet</td>\n",
       "      <td>Automatic</td>\n",
       "      <td>Diesel</td>\n",
       "      <td>Used</td>\n",
       "      <td>2143</td>\n",
       "      <td>Black</td>\n",
       "      <td>4</td>\n",
       "      <td>(10, 17]</td>\n",
       "    </tr>\n",
       "    <tr>\n",
       "      <th>4</th>\n",
       "      <td>15990</td>\n",
       "      <td>Holden</td>\n",
       "      <td>Other</td>\n",
       "      <td>72506</td>\n",
       "      <td>Sportswagon</td>\n",
       "      <td>Automatic</td>\n",
       "      <td>Unleaded Petrol</td>\n",
       "      <td>Used</td>\n",
       "      <td>1796</td>\n",
       "      <td>White</td>\n",
       "      <td>5</td>\n",
       "      <td>(5, 10]</td>\n",
       "    </tr>\n",
       "  </tbody>\n",
       "</table>\n",
       "</div>"
      ],
      "text/plain": [
       "    Price   Brand  Model  Kilometers         Type    Gearbox             Fuel  \\\n",
       "0    9999  Toyota  Other      263000        Wagon  Automatic  Unleaded Petrol   \n",
       "1  117990   Other  Other          19        Wagon  Automatic           Diesel   \n",
       "2   79990   Other  Other          24        Wagon  Automatic           Diesel   \n",
       "3   34990   Other  Other      120579    Cabriolet  Automatic           Diesel   \n",
       "4   15990  Holden  Other       72506  Sportswagon  Automatic  Unleaded Petrol   \n",
       "\n",
       "          Status    CC  Color  Seating Capacity       Age  \n",
       "0           Used  2362   Grey                 5  (10, 17]  \n",
       "1   New In Stock  2143  Black                 7    (2, 5]  \n",
       "2   New In Stock  2143  Black                 8    (2, 5]  \n",
       "3           Used  2143  Black                 4  (10, 17]  \n",
       "4           Used  1796  White                 5   (5, 10]  "
      ]
     },
     "execution_count": 33,
     "metadata": {},
     "output_type": "execute_result"
    }
   ],
   "source": [
    "df.head()"
   ]
  },
  {
   "cell_type": "code",
   "execution_count": 34,
   "id": "278e3cb2-a3ab-4e99-8e1b-1d74fac31a4e",
   "metadata": {},
   "outputs": [
    {
     "data": {
      "text/plain": [
       "Type\n",
       "Wagon                    7735\n",
       "Hatchback                2411\n",
       "Sedan                    2318\n",
       "Dual Cab Utility          655\n",
       "Coupe                     468\n",
       "Cab Chassis               424\n",
       "Double Cab Pick Up        422\n",
       "Dual Cab Pick-up          421\n",
       "Van                       380\n",
       "Crew Cab Pickup           268\n",
       "Crew Cab Utility          207\n",
       "Double Cab Utility        206\n",
       "Utility                   178\n",
       "Sportswagon               143\n",
       "Double Cab Chassis         95\n",
       "Crew Cab Chassis           77\n",
       "Dual Cab Chassis           71\n",
       "Convertible                44\n",
       "Sportback                  43\n",
       "Liftback                   39\n",
       "Fastback                   36\n",
       "Hardtop                    35\n",
       "Softtop                    35\n",
       "Cabriolet                  35\n",
       "Super Cab Utility          23\n",
       "Bus                        21\n",
       "Space Cab Chassis          21\n",
       "Super Cab Chassis          19\n",
       "X Cab Pickup               13\n",
       "Saloon                     13\n",
       "Roadster                   13\n",
       "Freestyle Cab Chassis      11\n",
       "Space Cab Utility          10\n",
       "King Cab Pickup             8\n",
       "X Cab Cab Chassis           8\n",
       "Space Cab Pickup            7\n",
       "Troop Carrier               6\n",
       "X Cab Utility               5\n",
       "Crew Van                    5\n",
       "Club Cab Chassis            5\n",
       "Coach                       4\n",
       "Leaf Cab Chassis            4\n",
       "Estate                      4\n",
       "Freestyle Utility           3\n",
       "Club Cab Pickup             3\n",
       "Coil Cab Chassis            3\n",
       "Club Cab Utility            3\n",
       "Super Cab Pickup            2\n",
       "Pickup                      2\n",
       "Blind Van                   2\n",
       "Crew Cab Van                1\n",
       "Panel Van                   1\n",
       "King Cab Pick Up            1\n",
       "Cab Chassis Tray            1\n",
       "Softback                    1\n",
       "King Cab Utility            1\n",
       "Name: count, dtype: int64"
      ]
     },
     "execution_count": 34,
     "metadata": {},
     "output_type": "execute_result"
    }
   ],
   "source": [
    "df[\"Type\"].value_counts()"
   ]
  },
  {
   "cell_type": "code",
   "execution_count": 35,
   "id": "9713c10e-9a8d-4685-8eea-95e29986d5eb",
   "metadata": {},
   "outputs": [],
   "source": [
    "df[\"Type\"] = df[\"Type\"].apply(lambda x: x if x in df['Type'].value_counts().head(3)\\\n",
    "                                .index.tolist() else \"Other\")"
   ]
  },
  {
   "cell_type": "code",
   "execution_count": 36,
   "id": "ce0e43cc-11cc-42ae-92fa-66f47bc996d2",
   "metadata": {},
   "outputs": [
    {
     "data": {
      "text/plain": [
       "Type\n",
       "Wagon        7735\n",
       "Other        4506\n",
       "Hatchback    2411\n",
       "Sedan        2318\n",
       "Name: count, dtype: int64"
      ]
     },
     "execution_count": 36,
     "metadata": {},
     "output_type": "execute_result"
    }
   ],
   "source": [
    "df[\"Type\"].value_counts()"
   ]
  },
  {
   "cell_type": "code",
   "execution_count": 37,
   "id": "195f173d-609b-4dc6-80fb-8b61873a6bf2",
   "metadata": {},
   "outputs": [
    {
     "data": {
      "text/plain": [
       "Gearbox\n",
       "Automatic    14511\n",
       "Manual        2435\n",
       "AWD             13\n",
       "Front            8\n",
       "Rear             3\n",
       "Name: count, dtype: int64"
      ]
     },
     "execution_count": 37,
     "metadata": {},
     "output_type": "execute_result"
    }
   ],
   "source": [
    "df[\"Gearbox\"].value_counts()"
   ]
  },
  {
   "cell_type": "code",
   "execution_count": 38,
   "id": "fd7b130d-0e12-4d1c-88c4-e2b9aa031f91",
   "metadata": {},
   "outputs": [],
   "source": [
    "df = df.query(\"Gearbox in ('Automatice', 'Manual')\")"
   ]
  },
  {
   "cell_type": "code",
   "execution_count": 39,
   "id": "de093209-005b-4e36-8863-6b8d550b41fe",
   "metadata": {},
   "outputs": [
    {
     "data": {
      "text/plain": [
       "Gearbox\n",
       "Manual    2435\n",
       "Name: count, dtype: int64"
      ]
     },
     "execution_count": 39,
     "metadata": {},
     "output_type": "execute_result"
    }
   ],
   "source": [
    "df[\"Gearbox\"].value_counts()"
   ]
  },
  {
   "cell_type": "code",
   "execution_count": 40,
   "id": "0acc67da-8fe9-4df3-b0b4-1cbf438958af",
   "metadata": {},
   "outputs": [
    {
     "data": {
      "text/html": [
       "<div>\n",
       "<style scoped>\n",
       "    .dataframe tbody tr th:only-of-type {\n",
       "        vertical-align: middle;\n",
       "    }\n",
       "\n",
       "    .dataframe tbody tr th {\n",
       "        vertical-align: top;\n",
       "    }\n",
       "\n",
       "    .dataframe thead th {\n",
       "        text-align: right;\n",
       "    }\n",
       "</style>\n",
       "<table border=\"1\" class=\"dataframe\">\n",
       "  <thead>\n",
       "    <tr style=\"text-align: right;\">\n",
       "      <th></th>\n",
       "      <th>Price</th>\n",
       "      <th>Brand</th>\n",
       "      <th>Model</th>\n",
       "      <th>Kilometers</th>\n",
       "      <th>Type</th>\n",
       "      <th>Gearbox</th>\n",
       "      <th>Fuel</th>\n",
       "      <th>Status</th>\n",
       "      <th>CC</th>\n",
       "      <th>Color</th>\n",
       "      <th>Seating Capacity</th>\n",
       "      <th>Age</th>\n",
       "    </tr>\n",
       "  </thead>\n",
       "  <tbody>\n",
       "    <tr>\n",
       "      <th>10</th>\n",
       "      <td>15490</td>\n",
       "      <td>Other</td>\n",
       "      <td>Other</td>\n",
       "      <td>231907</td>\n",
       "      <td>Other</td>\n",
       "      <td>Manual</td>\n",
       "      <td>Diesel</td>\n",
       "      <td>Used</td>\n",
       "      <td>2999</td>\n",
       "      <td>White</td>\n",
       "      <td>2</td>\n",
       "      <td>(5, 10]</td>\n",
       "    </tr>\n",
       "    <tr>\n",
       "      <th>11</th>\n",
       "      <td>12490</td>\n",
       "      <td>Ford</td>\n",
       "      <td>Other</td>\n",
       "      <td>64109</td>\n",
       "      <td>Hatchback</td>\n",
       "      <td>Manual</td>\n",
       "      <td>Unleaded Petrol</td>\n",
       "      <td>Used</td>\n",
       "      <td>1596</td>\n",
       "      <td>Black</td>\n",
       "      <td>5</td>\n",
       "      <td>(10, 17]</td>\n",
       "    </tr>\n",
       "    <tr>\n",
       "      <th>21</th>\n",
       "      <td>7000</td>\n",
       "      <td>Mazda</td>\n",
       "      <td>Other</td>\n",
       "      <td>77000</td>\n",
       "      <td>Hatchback</td>\n",
       "      <td>Manual</td>\n",
       "      <td>Unleaded Petrol</td>\n",
       "      <td>Used</td>\n",
       "      <td>1498</td>\n",
       "      <td>Blue</td>\n",
       "      <td>5</td>\n",
       "      <td>(10, 17]</td>\n",
       "    </tr>\n",
       "    <tr>\n",
       "      <th>27</th>\n",
       "      <td>38980</td>\n",
       "      <td>Nissan</td>\n",
       "      <td>Other</td>\n",
       "      <td>282190</td>\n",
       "      <td>Wagon</td>\n",
       "      <td>Manual</td>\n",
       "      <td>Diesel</td>\n",
       "      <td>Used</td>\n",
       "      <td>4169</td>\n",
       "      <td>Gold</td>\n",
       "      <td>7</td>\n",
       "      <td>(17, 26]</td>\n",
       "    </tr>\n",
       "    <tr>\n",
       "      <th>29</th>\n",
       "      <td>18990</td>\n",
       "      <td>Toyota</td>\n",
       "      <td>Other</td>\n",
       "      <td>383514</td>\n",
       "      <td>Wagon</td>\n",
       "      <td>Manual</td>\n",
       "      <td>Diesel</td>\n",
       "      <td>Used</td>\n",
       "      <td>2982</td>\n",
       "      <td>White</td>\n",
       "      <td>8</td>\n",
       "      <td>(17, 26]</td>\n",
       "    </tr>\n",
       "  </tbody>\n",
       "</table>\n",
       "</div>"
      ],
      "text/plain": [
       "    Price   Brand  Model  Kilometers       Type Gearbox             Fuel  \\\n",
       "10  15490   Other  Other      231907      Other  Manual           Diesel   \n",
       "11  12490    Ford  Other       64109  Hatchback  Manual  Unleaded Petrol   \n",
       "21   7000   Mazda  Other       77000  Hatchback  Manual  Unleaded Petrol   \n",
       "27  38980  Nissan  Other      282190      Wagon  Manual           Diesel   \n",
       "29  18990  Toyota  Other      383514      Wagon  Manual           Diesel   \n",
       "\n",
       "   Status    CC  Color  Seating Capacity       Age  \n",
       "10   Used  2999  White                 2   (5, 10]  \n",
       "11   Used  1596  Black                 5  (10, 17]  \n",
       "21   Used  1498   Blue                 5  (10, 17]  \n",
       "27   Used  4169   Gold                 7  (17, 26]  \n",
       "29   Used  2982  White                 8  (17, 26]  "
      ]
     },
     "execution_count": 40,
     "metadata": {},
     "output_type": "execute_result"
    }
   ],
   "source": [
    "df.head()"
   ]
  },
  {
   "cell_type": "code",
   "execution_count": 41,
   "id": "1b1d432e-916a-4a28-869d-891105d617d2",
   "metadata": {},
   "outputs": [
    {
     "data": {
      "text/plain": [
       "Fuel\n",
       "Diesel                     1130\n",
       "Unleaded Petrol             904\n",
       "Premium Unleaded Petrol     401\n",
       "Name: count, dtype: int64"
      ]
     },
     "execution_count": 41,
     "metadata": {},
     "output_type": "execute_result"
    }
   ],
   "source": [
    "df[\"Fuel\"].value_counts()"
   ]
  },
  {
   "cell_type": "code",
   "execution_count": 42,
   "id": "9edb1fd1-7891-4b60-b0aa-212e01ff278b",
   "metadata": {},
   "outputs": [],
   "source": [
    "df[\"Fuel\"] = df[\"Fuel\"].str.replace(\"Unleaded \", \"\")"
   ]
  },
  {
   "cell_type": "code",
   "execution_count": 43,
   "id": "586cfd01-9387-49b4-9e5d-7f20b40e5923",
   "metadata": {},
   "outputs": [
    {
     "data": {
      "text/plain": [
       "Fuel\n",
       "Diesel            1130\n",
       "Petrol             904\n",
       "Premium Petrol     401\n",
       "Name: count, dtype: int64"
      ]
     },
     "execution_count": 43,
     "metadata": {},
     "output_type": "execute_result"
    }
   ],
   "source": [
    "df[\"Fuel\"].value_counts()"
   ]
  },
  {
   "cell_type": "code",
   "execution_count": 44,
   "id": "a27f57ae-cbb2-4fd8-978e-9bb132138719",
   "metadata": {},
   "outputs": [],
   "source": [
    "df[\"Fuel\"] = df[\"Fuel\"].apply(lambda x: x if x in df['Fuel'].value_counts().head(3)\\\n",
    "                                .index.tolist() else \"Other\")"
   ]
  },
  {
   "cell_type": "code",
   "execution_count": 45,
   "id": "65fa77c9-b6dc-4b86-9bf9-ccca2b709e83",
   "metadata": {},
   "outputs": [
    {
     "data": {
      "text/plain": [
       "Fuel\n",
       "Diesel            1130\n",
       "Petrol             904\n",
       "Premium Petrol     401\n",
       "Name: count, dtype: int64"
      ]
     },
     "execution_count": 45,
     "metadata": {},
     "output_type": "execute_result"
    }
   ],
   "source": [
    "df[\"Fuel\"].value_counts()"
   ]
  },
  {
   "cell_type": "code",
   "execution_count": 46,
   "id": "1095155a-4ab0-4ae6-bf7f-b95627aa004e",
   "metadata": {},
   "outputs": [
    {
     "data": {
      "text/html": [
       "<div>\n",
       "<style scoped>\n",
       "    .dataframe tbody tr th:only-of-type {\n",
       "        vertical-align: middle;\n",
       "    }\n",
       "\n",
       "    .dataframe tbody tr th {\n",
       "        vertical-align: top;\n",
       "    }\n",
       "\n",
       "    .dataframe thead th {\n",
       "        text-align: right;\n",
       "    }\n",
       "</style>\n",
       "<table border=\"1\" class=\"dataframe\">\n",
       "  <thead>\n",
       "    <tr style=\"text-align: right;\">\n",
       "      <th></th>\n",
       "      <th>Price</th>\n",
       "      <th>Brand</th>\n",
       "      <th>Model</th>\n",
       "      <th>Kilometers</th>\n",
       "      <th>Type</th>\n",
       "      <th>Gearbox</th>\n",
       "      <th>Fuel</th>\n",
       "      <th>Status</th>\n",
       "      <th>CC</th>\n",
       "      <th>Color</th>\n",
       "      <th>Seating Capacity</th>\n",
       "      <th>Age</th>\n",
       "    </tr>\n",
       "  </thead>\n",
       "  <tbody>\n",
       "    <tr>\n",
       "      <th>10</th>\n",
       "      <td>15490</td>\n",
       "      <td>Other</td>\n",
       "      <td>Other</td>\n",
       "      <td>231907</td>\n",
       "      <td>Other</td>\n",
       "      <td>Manual</td>\n",
       "      <td>Diesel</td>\n",
       "      <td>Used</td>\n",
       "      <td>2999</td>\n",
       "      <td>White</td>\n",
       "      <td>2</td>\n",
       "      <td>(5, 10]</td>\n",
       "    </tr>\n",
       "    <tr>\n",
       "      <th>11</th>\n",
       "      <td>12490</td>\n",
       "      <td>Ford</td>\n",
       "      <td>Other</td>\n",
       "      <td>64109</td>\n",
       "      <td>Hatchback</td>\n",
       "      <td>Manual</td>\n",
       "      <td>Petrol</td>\n",
       "      <td>Used</td>\n",
       "      <td>1596</td>\n",
       "      <td>Black</td>\n",
       "      <td>5</td>\n",
       "      <td>(10, 17]</td>\n",
       "    </tr>\n",
       "    <tr>\n",
       "      <th>21</th>\n",
       "      <td>7000</td>\n",
       "      <td>Mazda</td>\n",
       "      <td>Other</td>\n",
       "      <td>77000</td>\n",
       "      <td>Hatchback</td>\n",
       "      <td>Manual</td>\n",
       "      <td>Petrol</td>\n",
       "      <td>Used</td>\n",
       "      <td>1498</td>\n",
       "      <td>Blue</td>\n",
       "      <td>5</td>\n",
       "      <td>(10, 17]</td>\n",
       "    </tr>\n",
       "    <tr>\n",
       "      <th>27</th>\n",
       "      <td>38980</td>\n",
       "      <td>Nissan</td>\n",
       "      <td>Other</td>\n",
       "      <td>282190</td>\n",
       "      <td>Wagon</td>\n",
       "      <td>Manual</td>\n",
       "      <td>Diesel</td>\n",
       "      <td>Used</td>\n",
       "      <td>4169</td>\n",
       "      <td>Gold</td>\n",
       "      <td>7</td>\n",
       "      <td>(17, 26]</td>\n",
       "    </tr>\n",
       "    <tr>\n",
       "      <th>29</th>\n",
       "      <td>18990</td>\n",
       "      <td>Toyota</td>\n",
       "      <td>Other</td>\n",
       "      <td>383514</td>\n",
       "      <td>Wagon</td>\n",
       "      <td>Manual</td>\n",
       "      <td>Diesel</td>\n",
       "      <td>Used</td>\n",
       "      <td>2982</td>\n",
       "      <td>White</td>\n",
       "      <td>8</td>\n",
       "      <td>(17, 26]</td>\n",
       "    </tr>\n",
       "  </tbody>\n",
       "</table>\n",
       "</div>"
      ],
      "text/plain": [
       "    Price   Brand  Model  Kilometers       Type Gearbox    Fuel Status    CC  \\\n",
       "10  15490   Other  Other      231907      Other  Manual  Diesel   Used  2999   \n",
       "11  12490    Ford  Other       64109  Hatchback  Manual  Petrol   Used  1596   \n",
       "21   7000   Mazda  Other       77000  Hatchback  Manual  Petrol   Used  1498   \n",
       "27  38980  Nissan  Other      282190      Wagon  Manual  Diesel   Used  4169   \n",
       "29  18990  Toyota  Other      383514      Wagon  Manual  Diesel   Used  2982   \n",
       "\n",
       "    Color  Seating Capacity       Age  \n",
       "10  White                 2   (5, 10]  \n",
       "11  Black                 5  (10, 17]  \n",
       "21   Blue                 5  (10, 17]  \n",
       "27   Gold                 7  (17, 26]  \n",
       "29  White                 8  (17, 26]  "
      ]
     },
     "execution_count": 46,
     "metadata": {},
     "output_type": "execute_result"
    }
   ],
   "source": [
    "df.head()"
   ]
  },
  {
   "cell_type": "code",
   "execution_count": 47,
   "id": "16198761-9b4d-4134-b1cf-f0c9e5ed8689",
   "metadata": {},
   "outputs": [
    {
     "data": {
      "text/plain": [
       "Status\n",
       "Used            2403\n",
       "New In Stock      20\n",
       "Demo              12\n",
       "Name: count, dtype: int64"
      ]
     },
     "execution_count": 47,
     "metadata": {},
     "output_type": "execute_result"
    }
   ],
   "source": [
    "df[\"Status\"].value_counts()"
   ]
  },
  {
   "cell_type": "code",
   "execution_count": 48,
   "id": "4f2aa614-8269-4da4-936e-def77a836c42",
   "metadata": {},
   "outputs": [],
   "source": [
    "df[\"Status\"] = df[\"Status\"].str.replace(\" In Stock\", \"\")"
   ]
  },
  {
   "cell_type": "code",
   "execution_count": 49,
   "id": "a366ecd8-12cf-4d51-ac33-576b33fd643e",
   "metadata": {},
   "outputs": [
    {
     "data": {
      "text/html": [
       "<div>\n",
       "<style scoped>\n",
       "    .dataframe tbody tr th:only-of-type {\n",
       "        vertical-align: middle;\n",
       "    }\n",
       "\n",
       "    .dataframe tbody tr th {\n",
       "        vertical-align: top;\n",
       "    }\n",
       "\n",
       "    .dataframe thead th {\n",
       "        text-align: right;\n",
       "    }\n",
       "</style>\n",
       "<table border=\"1\" class=\"dataframe\">\n",
       "  <thead>\n",
       "    <tr style=\"text-align: right;\">\n",
       "      <th></th>\n",
       "      <th>Price</th>\n",
       "      <th>Brand</th>\n",
       "      <th>Model</th>\n",
       "      <th>Kilometers</th>\n",
       "      <th>Type</th>\n",
       "      <th>Gearbox</th>\n",
       "      <th>Fuel</th>\n",
       "      <th>Status</th>\n",
       "      <th>CC</th>\n",
       "      <th>Color</th>\n",
       "      <th>Seating Capacity</th>\n",
       "      <th>Age</th>\n",
       "    </tr>\n",
       "  </thead>\n",
       "  <tbody>\n",
       "    <tr>\n",
       "      <th>10</th>\n",
       "      <td>15490</td>\n",
       "      <td>Other</td>\n",
       "      <td>Other</td>\n",
       "      <td>231907</td>\n",
       "      <td>Other</td>\n",
       "      <td>Manual</td>\n",
       "      <td>Diesel</td>\n",
       "      <td>Used</td>\n",
       "      <td>2999</td>\n",
       "      <td>White</td>\n",
       "      <td>2</td>\n",
       "      <td>(5, 10]</td>\n",
       "    </tr>\n",
       "    <tr>\n",
       "      <th>11</th>\n",
       "      <td>12490</td>\n",
       "      <td>Ford</td>\n",
       "      <td>Other</td>\n",
       "      <td>64109</td>\n",
       "      <td>Hatchback</td>\n",
       "      <td>Manual</td>\n",
       "      <td>Petrol</td>\n",
       "      <td>Used</td>\n",
       "      <td>1596</td>\n",
       "      <td>Black</td>\n",
       "      <td>5</td>\n",
       "      <td>(10, 17]</td>\n",
       "    </tr>\n",
       "    <tr>\n",
       "      <th>21</th>\n",
       "      <td>7000</td>\n",
       "      <td>Mazda</td>\n",
       "      <td>Other</td>\n",
       "      <td>77000</td>\n",
       "      <td>Hatchback</td>\n",
       "      <td>Manual</td>\n",
       "      <td>Petrol</td>\n",
       "      <td>Used</td>\n",
       "      <td>1498</td>\n",
       "      <td>Blue</td>\n",
       "      <td>5</td>\n",
       "      <td>(10, 17]</td>\n",
       "    </tr>\n",
       "    <tr>\n",
       "      <th>27</th>\n",
       "      <td>38980</td>\n",
       "      <td>Nissan</td>\n",
       "      <td>Other</td>\n",
       "      <td>282190</td>\n",
       "      <td>Wagon</td>\n",
       "      <td>Manual</td>\n",
       "      <td>Diesel</td>\n",
       "      <td>Used</td>\n",
       "      <td>4169</td>\n",
       "      <td>Gold</td>\n",
       "      <td>7</td>\n",
       "      <td>(17, 26]</td>\n",
       "    </tr>\n",
       "    <tr>\n",
       "      <th>29</th>\n",
       "      <td>18990</td>\n",
       "      <td>Toyota</td>\n",
       "      <td>Other</td>\n",
       "      <td>383514</td>\n",
       "      <td>Wagon</td>\n",
       "      <td>Manual</td>\n",
       "      <td>Diesel</td>\n",
       "      <td>Used</td>\n",
       "      <td>2982</td>\n",
       "      <td>White</td>\n",
       "      <td>8</td>\n",
       "      <td>(17, 26]</td>\n",
       "    </tr>\n",
       "  </tbody>\n",
       "</table>\n",
       "</div>"
      ],
      "text/plain": [
       "    Price   Brand  Model  Kilometers       Type Gearbox    Fuel Status    CC  \\\n",
       "10  15490   Other  Other      231907      Other  Manual  Diesel   Used  2999   \n",
       "11  12490    Ford  Other       64109  Hatchback  Manual  Petrol   Used  1596   \n",
       "21   7000   Mazda  Other       77000  Hatchback  Manual  Petrol   Used  1498   \n",
       "27  38980  Nissan  Other      282190      Wagon  Manual  Diesel   Used  4169   \n",
       "29  18990  Toyota  Other      383514      Wagon  Manual  Diesel   Used  2982   \n",
       "\n",
       "    Color  Seating Capacity       Age  \n",
       "10  White                 2   (5, 10]  \n",
       "11  Black                 5  (10, 17]  \n",
       "21   Blue                 5  (10, 17]  \n",
       "27   Gold                 7  (17, 26]  \n",
       "29  White                 8  (17, 26]  "
      ]
     },
     "execution_count": 49,
     "metadata": {},
     "output_type": "execute_result"
    }
   ],
   "source": [
    "df.head()"
   ]
  },
  {
   "cell_type": "code",
   "execution_count": 50,
   "id": "d04d9f4f-f12a-437e-9d64-193fde2877a1",
   "metadata": {},
   "outputs": [
    {
     "data": {
      "text/plain": [
       "count    2435.000000\n",
       "mean     2589.062423\n",
       "std      1007.445987\n",
       "min       898.000000\n",
       "25%      1994.000000\n",
       "50%      2440.000000\n",
       "75%      2982.000000\n",
       "max      6200.000000\n",
       "Name: CC, dtype: float64"
      ]
     },
     "execution_count": 50,
     "metadata": {},
     "output_type": "execute_result"
    }
   ],
   "source": [
    "df[\"CC\"].describe()"
   ]
  },
  {
   "cell_type": "code",
   "execution_count": 51,
   "id": "440bdd03-1da8-4944-ada7-06dd3b2ab02d",
   "metadata": {},
   "outputs": [
    {
     "data": {
      "text/plain": [
       "<Axes: ylabel='Frequency'>"
      ]
     },
     "execution_count": 51,
     "metadata": {},
     "output_type": "execute_result"
    },
    {
     "data": {
      "image/png": "[encoded data removed]",
      "text/plain": [
       "<Figure size 640x480 with 1 Axes>"
      ]
     },
     "metadata": {},
     "output_type": "display_data"
    }
   ],
   "source": [
    "df[\"CC\"].plot.hist(bins=50)"
   ]
  },
  {
   "cell_type": "code",
   "execution_count": 52,
   "id": "07489cb1-057a-4247-9c0f-ecaae3522b2b",
   "metadata": {},
   "outputs": [
    {
     "data": {
      "text/plain": [
       "<Axes: >"
      ]
     },
     "execution_count": 52,
     "metadata": {},
     "output_type": "execute_result"
    },
    {
     "data": {
      "image/png": "[encoded data removed]",
      "text/plain": [
       "<Figure size 640x480 with 1 Axes>"
      ]
     },
     "metadata": {},
     "output_type": "display_data"
    }
   ],
   "source": [
    "df[\"CC\"].plot.box()"
   ]
  },
  {
   "cell_type": "code",
   "execution_count": 53,
   "id": "0485cf50-c5f3-4a4d-bbd7-01a27b4f4c1c",
   "metadata": {},
   "outputs": [
    {
     "data": {
      "text/plain": [
       "Color\n",
       "White     1056\n",
       "Silver     299\n",
       "Black      248\n",
       "Grey       225\n",
       "Blue       224\n",
       "Red        134\n",
       "Green       38\n",
       "Gold        35\n",
       "Orange      25\n",
       "Yellow      21\n",
       "Name: count, dtype: int64"
      ]
     },
     "execution_count": 53,
     "metadata": {},
     "output_type": "execute_result"
    }
   ],
   "source": [
    "df[\"Color\"].value_counts().head(10)"
   ]
  },
  {
   "cell_type": "code",
   "execution_count": 54,
   "id": "c9a0a6aa-4bdc-49a7-bdc8-6c8a52e66c01",
   "metadata": {},
   "outputs": [],
   "source": [
    "df[\"Color\"] = df[\"Color\"].apply(lambda x: x if x in df['Color'].value_counts().head(6)\\\n",
    "                                .index.tolist() else \"Other\")"
   ]
  },
  {
   "cell_type": "code",
   "execution_count": 55,
   "id": "04ba4eb4-26fe-48dc-add5-740fd719612f",
   "metadata": {},
   "outputs": [
    {
     "data": {
      "text/plain": [
       "Seating Capacity\n",
       "5     1660\n",
       "2      314\n",
       "4      198\n",
       "3      181\n",
       "7       60\n",
       "8       14\n",
       "6        5\n",
       "14       2\n",
       "11       1\n",
       "Name: count, dtype: int64"
      ]
     },
     "execution_count": 55,
     "metadata": {},
     "output_type": "execute_result"
    }
   ],
   "source": [
    "df[\"Seating Capacity\"].value_counts()"
   ]
  },
  {
   "cell_type": "code",
   "execution_count": 56,
   "id": "7f0bddba-da41-4988-8ddd-b9b64fd554f7",
   "metadata": {},
   "outputs": [],
   "source": [
    "df[\"Seating Capacity\"] = pd.cut(df[\"Seating Capacity\"], bins=[2,4,5,7,14])"
   ]
  },
  {
   "cell_type": "code",
   "execution_count": 57,
   "id": "88edf610-2308-4768-a5ab-dc81d9d99edb",
   "metadata": {},
   "outputs": [
    {
     "data": {
      "text/html": [
       "<div>\n",
       "<style scoped>\n",
       "    .dataframe tbody tr th:only-of-type {\n",
       "        vertical-align: middle;\n",
       "    }\n",
       "\n",
       "    .dataframe tbody tr th {\n",
       "        vertical-align: top;\n",
       "    }\n",
       "\n",
       "    .dataframe thead th {\n",
       "        text-align: right;\n",
       "    }\n",
       "</style>\n",
       "<table border=\"1\" class=\"dataframe\">\n",
       "  <thead>\n",
       "    <tr style=\"text-align: right;\">\n",
       "      <th></th>\n",
       "      <th>Price</th>\n",
       "      <th>Brand</th>\n",
       "      <th>Model</th>\n",
       "      <th>Kilometers</th>\n",
       "      <th>Type</th>\n",
       "      <th>Gearbox</th>\n",
       "      <th>Fuel</th>\n",
       "      <th>Status</th>\n",
       "      <th>CC</th>\n",
       "      <th>Color</th>\n",
       "      <th>Seating Capacity</th>\n",
       "      <th>Age</th>\n",
       "    </tr>\n",
       "  </thead>\n",
       "  <tbody>\n",
       "    <tr>\n",
       "      <th>10</th>\n",
       "      <td>15490</td>\n",
       "      <td>Other</td>\n",
       "      <td>Other</td>\n",
       "      <td>231907</td>\n",
       "      <td>Other</td>\n",
       "      <td>Manual</td>\n",
       "      <td>Diesel</td>\n",
       "      <td>Used</td>\n",
       "      <td>2999</td>\n",
       "      <td>White</td>\n",
       "      <td>NaN</td>\n",
       "      <td>(5, 10]</td>\n",
       "    </tr>\n",
       "    <tr>\n",
       "      <th>11</th>\n",
       "      <td>12490</td>\n",
       "      <td>Ford</td>\n",
       "      <td>Other</td>\n",
       "      <td>64109</td>\n",
       "      <td>Hatchback</td>\n",
       "      <td>Manual</td>\n",
       "      <td>Petrol</td>\n",
       "      <td>Used</td>\n",
       "      <td>1596</td>\n",
       "      <td>Black</td>\n",
       "      <td>(4.0, 5.0]</td>\n",
       "      <td>(10, 17]</td>\n",
       "    </tr>\n",
       "    <tr>\n",
       "      <th>21</th>\n",
       "      <td>7000</td>\n",
       "      <td>Mazda</td>\n",
       "      <td>Other</td>\n",
       "      <td>77000</td>\n",
       "      <td>Hatchback</td>\n",
       "      <td>Manual</td>\n",
       "      <td>Petrol</td>\n",
       "      <td>Used</td>\n",
       "      <td>1498</td>\n",
       "      <td>Blue</td>\n",
       "      <td>(4.0, 5.0]</td>\n",
       "      <td>(10, 17]</td>\n",
       "    </tr>\n",
       "    <tr>\n",
       "      <th>27</th>\n",
       "      <td>38980</td>\n",
       "      <td>Nissan</td>\n",
       "      <td>Other</td>\n",
       "      <td>282190</td>\n",
       "      <td>Wagon</td>\n",
       "      <td>Manual</td>\n",
       "      <td>Diesel</td>\n",
       "      <td>Used</td>\n",
       "      <td>4169</td>\n",
       "      <td>Other</td>\n",
       "      <td>(5.0, 7.0]</td>\n",
       "      <td>(17, 26]</td>\n",
       "    </tr>\n",
       "    <tr>\n",
       "      <th>29</th>\n",
       "      <td>18990</td>\n",
       "      <td>Toyota</td>\n",
       "      <td>Other</td>\n",
       "      <td>383514</td>\n",
       "      <td>Wagon</td>\n",
       "      <td>Manual</td>\n",
       "      <td>Diesel</td>\n",
       "      <td>Used</td>\n",
       "      <td>2982</td>\n",
       "      <td>White</td>\n",
       "      <td>(7.0, 14.0]</td>\n",
       "      <td>(17, 26]</td>\n",
       "    </tr>\n",
       "  </tbody>\n",
       "</table>\n",
       "</div>"
      ],
      "text/plain": [
       "    Price   Brand  Model  Kilometers       Type Gearbox    Fuel Status    CC  \\\n",
       "10  15490   Other  Other      231907      Other  Manual  Diesel   Used  2999   \n",
       "11  12490    Ford  Other       64109  Hatchback  Manual  Petrol   Used  1596   \n",
       "21   7000   Mazda  Other       77000  Hatchback  Manual  Petrol   Used  1498   \n",
       "27  38980  Nissan  Other      282190      Wagon  Manual  Diesel   Used  4169   \n",
       "29  18990  Toyota  Other      383514      Wagon  Manual  Diesel   Used  2982   \n",
       "\n",
       "    Color Seating Capacity       Age  \n",
       "10  White              NaN   (5, 10]  \n",
       "11  Black       (4.0, 5.0]  (10, 17]  \n",
       "21   Blue       (4.0, 5.0]  (10, 17]  \n",
       "27  Other       (5.0, 7.0]  (17, 26]  \n",
       "29  White      (7.0, 14.0]  (17, 26]  "
      ]
     },
     "execution_count": 57,
     "metadata": {},
     "output_type": "execute_result"
    }
   ],
   "source": [
    "df.head()"
   ]
  },
  {
   "cell_type": "code",
   "execution_count": 58,
   "id": "6c4c6140-a080-44bf-b5cb-9defc520578a",
   "metadata": {},
   "outputs": [],
   "source": [
    "num_cols = df.describe().columns[1:].tolist()"
   ]
  },
  {
   "cell_type": "code",
   "execution_count": 59,
   "id": "779f528b-9193-488c-b4b4-d18411722b33",
   "metadata": {},
   "outputs": [
    {
     "data": {
      "text/plain": [
       "['Kilometers', 'CC']"
      ]
     },
     "execution_count": 59,
     "metadata": {},
     "output_type": "execute_result"
    }
   ],
   "source": [
    "num_cols"
   ]
  },
  {
   "cell_type": "code",
   "execution_count": 60,
   "id": "f38a5331-4156-43e2-b5ca-f586cf95ceaa",
   "metadata": {},
   "outputs": [],
   "source": [
    "cat_col = [x for x in df.columns if x not in df.describe().columns]"
   ]
  },
  {
   "cell_type": "code",
   "execution_count": 61,
   "id": "60c41e9f-815e-4ce9-bc0c-f355751be5a6",
   "metadata": {},
   "outputs": [
    {
     "data": {
      "text/plain": [
       "['Brand',\n",
       " 'Model',\n",
       " 'Type',\n",
       " 'Gearbox',\n",
       " 'Fuel',\n",
       " 'Status',\n",
       " 'Color',\n",
       " 'Seating Capacity',\n",
       " 'Age']"
      ]
     },
     "execution_count": 61,
     "metadata": {},
     "output_type": "execute_result"
    }
   ],
   "source": [
    "cat_col"
   ]
  },
  {
   "cell_type": "code",
   "execution_count": 62,
   "id": "928ccebf-4be0-4d39-ab58-4ac2e5a7d43f",
   "metadata": {},
   "outputs": [],
   "source": [
    "df.reset_index(drop=True, inplace=True)"
   ]
  },
  {
   "cell_type": "code",
   "execution_count": 63,
   "id": "16d66935-de2f-48e3-a5cb-214add7c7426",
   "metadata": {},
   "outputs": [],
   "source": [
    "ohe = OneHotEncoder(drop=\"first\")"
   ]
  },
  {
   "cell_type": "code",
   "execution_count": 64,
   "id": "a9895071-0587-4c0e-87b4-1a3636a32027",
   "metadata": {},
   "outputs": [],
   "source": [
    "encoded = ohe.fit_transform(df[cat_col])"
   ]
  },
  {
   "cell_type": "code",
   "execution_count": 65,
   "id": "b8fc8a34-9700-467b-b750-f1b9f2c1f6f4",
   "metadata": {},
   "outputs": [
    {
     "data": {
      "text/plain": [
       "<Compressed Sparse Row sparse matrix of dtype 'float64'\n",
       "\twith 16686 stored elements and shape (2435, 39)>"
      ]
     },
     "execution_count": 65,
     "metadata": {},
     "output_type": "execute_result"
    }
   ],
   "source": [
    "encoded"
   ]
  },
  {
   "cell_type": "code",
   "execution_count": 66,
   "id": "48bcee87-7009-4465-8159-6b649166f2c8",
   "metadata": {},
   "outputs": [
    {
     "data": {
      "text/plain": [
       "array(['Brand_Holden', 'Brand_Hyundai', 'Brand_Kia', 'Brand_Mazda',\n",
       "       'Brand_Mitsubishi', 'Brand_Nissan', 'Brand_Other', 'Brand_Toyota',\n",
       "       'Brand_Volkswagen', 'Model_Colorado', 'Model_Commodore',\n",
       "       'Model_Corolla', 'Model_Hilux', 'Model_Navara', 'Model_Other',\n",
       "       'Model_RAV4', 'Model_Ranger', 'Model_Triton', 'Type_Other',\n",
       "       'Type_Sedan', 'Type_Wagon', 'Fuel_Petrol', 'Fuel_Premium Petrol',\n",
       "       'Status_ New', 'Status_ Used', 'Color_Blue', 'Color_Grey',\n",
       "       'Color_Other', 'Color_Red', 'Color_Silver', 'Color_White',\n",
       "       'Seating Capacity_(4.0, 5.0]', 'Seating Capacity_(5.0, 7.0]',\n",
       "       'Seating Capacity_(7.0, 14.0]', 'Seating Capacity_nan',\n",
       "       'Age_(5, 10]', 'Age_(10, 17]', 'Age_(17, 26]', 'Age_(26, 36]'],\n",
       "      dtype=object)"
      ]
     },
     "execution_count": 66,
     "metadata": {},
     "output_type": "execute_result"
    }
   ],
   "source": [
    "ohe.get_feature_names_out()"
   ]
  },
  {
   "cell_type": "code",
   "execution_count": 67,
   "id": "5edc0a63-90fa-4315-8049-61ae5f988ae0",
   "metadata": {},
   "outputs": [],
   "source": [
    "encoded_df = pd.DataFrame(encoded.toarray(), columns=ohe.get_feature_names_out())"
   ]
  },
  {
   "cell_type": "code",
   "execution_count": 68,
   "id": "1215486a-9620-4c5d-bd80-bb40ecae5adc",
   "metadata": {},
   "outputs": [
    {
     "ename": "SyntaxError",
     "evalue": "invalid syntax. Perhaps you forgot a comma? (3740848401.py, line 1)",
     "output_type": "error",
     "traceback": [
      "  \u001b[36mCell\u001b[39m\u001b[36m \u001b[39m\u001b[32mIn[68]\u001b[39m\u001b[32m, line 1\u001b[39m\n\u001b[31m    \u001b[39m\u001b[31mdata = pd.concat([df.drop(cat_col, axis=1), enc oded_df], axis=1)\u001b[39m\n                                                ^\n\u001b[31mSyntaxError\u001b[39m\u001b[31m:\u001b[39m invalid syntax. Perhaps you forgot a comma?\n"
     ]
    }
   ],
   "source": [
    "data = pd.concat([df.drop(cat_col, axis=1), enc oded_df], axis=1)"
   ]
  },
  {
   "cell_type": "code",
   "execution_count": null,
   "id": "bac0c0d6-ebb5-43c5-8c3a-50f7cadce64c",
   "metadata": {},
   "outputs": [],
   "source": []
  },
  {
   "cell_type": "code",
   "execution_count": null,
   "id": "e3c5a6f8-7eb8-4bde-ae63-04f6379d8d8c",
   "metadata": {},
   "outputs": [],
   "source": [
    "scaler = StandardScaler()"
   ]
  },
  {
   "cell_type": "code",
   "execution_count": null,
   "id": "295863a4-0a0a-49bd-8680-5dfca4d77c09",
   "metadata": {},
   "outputs": [],
   "source": [
    "data[num_cols] = scaler.fit_transform(data[num_cols])"
   ]
  },
  {
   "cell_type": "code",
   "execution_count": null,
   "id": "0673d8c5-e2e9-49a1-918a-dc7ecc87e694",
   "metadata": {},
   "outputs": [],
   "source": [
    "data"
   ]
  },
  {
   "cell_type": "code",
   "execution_count": null,
   "id": "4f1b1d3a-e549-49c6-81ff-40433ed500b5",
   "metadata": {},
   "outputs": [],
   "source": [
    "minmax = MinMaxScaler()"
   ]
  },
  {
   "cell_type": "code",
   "execution_count": null,
   "id": "915c398d-7118-4fb2-8134-52247cfd67dc",
   "metadata": {},
   "outputs": [],
   "source": [
    "data[\"Price\"] = minmax.fit_transform(data[[\"Price\"]])"
   ]
  },
  {
   "cell_type": "code",
   "execution_count": null,
   "id": "911fd735-2e23-4108-92bf-76a9e6fa3067",
   "metadata": {},
   "outputs": [],
   "source": [
    "data.head()"
   ]
  },
  {
   "cell_type": "code",
   "execution_count": null,
   "id": "aafd1a2e-9ddb-4fa0-8d1f-0b6375dda0e2",
   "metadata": {},
   "outputs": [],
   "source": [
    "pwt = PowerTransformer(method=\"yeo-johnson\")"
   ]
  },
  {
   "cell_type": "code",
   "execution_count": null,
   "id": "1790d592-3f7c-404c-a9ba-2c76c98f18d0",
   "metadata": {},
   "outputs": [],
   "source": [
    "plt.hist(pwt.fit_transform(df[[\"Kilometers\"]]), bins=100)\n",
    "plt.show()"
   ]
  },
  {
   "cell_type": "code",
   "execution_count": null,
   "id": "15a98524-af89-431b-8781-bcce4c38190a",
   "metadata": {},
   "outputs": [],
   "source": [
    "plt.hist(pwt.fit_transform(df[[\"CC\"]]), bins=30)\n",
    "plt.show()"
   ]
  },
  {
   "cell_type": "code",
   "execution_count": null,
   "id": "6c95d2ee-7f14-4473-ac3b-7f248869c760",
   "metadata": {},
   "outputs": [],
   "source": [
    "data[num_cols] = pwt.fit_transform(df[num_cols])"
   ]
  },
  {
   "cell_type": "code",
   "execution_count": null,
   "id": "1406b376-b369-42c1-be87-1a76cd758fe8",
   "metadata": {},
   "outputs": [],
   "source": [
    "sns.histplot(data, x=\"Kilometers\", kde=True)\n",
    "plt.show()"
   ]
  },
  {
   "cell_type": "code",
   "execution_count": null,
   "id": "ecec3a6d-3907-4d65-9f05-dde7d05445b6",
   "metadata": {},
   "outputs": [],
   "source": [
    "sns.histplot(data, x=\"CC\", kde=True)\n",
    "plt.show()"
   ]
  },
  {
   "cell_type": "code",
   "execution_count": null,
   "id": "9e8733b1-8434-43f1-bd5c-11104d45f7f3",
   "metadata": {},
   "outputs": [],
   "source": [
    "plt.figure(figsize=(2,30))\n",
    "sns.heatmap(data.corrwith(data[\"Price\"]).values.reshape(-1,1), annot=True, fmt=\".2f\",\n",
    "            yticklabels=data.corr()[\"Price\"].index)\n",
    "plt.show()"
   ]
  },
  {
   "cell_type": "code",
   "execution_count": null,
   "id": "b17b2cad-d421-4781-baf5-13f457645102",
   "metadata": {},
   "outputs": [],
   "source": [
    "data.corrwith(df[\"Price\"])"
   ]
  },
  {
   "cell_type": "code",
   "execution_count": null,
   "id": "e324bd64-3d3b-4c02-94a6-151454981e0e",
   "metadata": {},
   "outputs": [],
   "source": [
    "data"
   ]
  },
  {
   "cell_type": "code",
   "execution_count": null,
   "id": "dbb5cbd2-fa85-4364-ab18-25f4188461a9",
   "metadata": {},
   "outputs": [],
   "source": [
    "X = data.drop(\"Price\", axis=1)\n",
    "y = data[\"Price\"]"
   ]
  },
  {
   "cell_type": "code",
   "execution_count": null,
   "id": "c9f290a4-676b-492e-a5bd-d7f844945749",
   "metadata": {},
   "outputs": [],
   "source": [
    "X_tr, X_te, y_tr, y_te = train_test_split(X, y, test_size=0.25, random_state=23)"
   ]
  },
  {
   "cell_type": "code",
   "execution_count": null,
   "id": "3df54dba-319b-4a8f-9e6a-365b2fd101ab",
   "metadata": {},
   "outputs": [],
   "source": [
    "model = LinearRegression()"
   ]
  },
  {
   "cell_type": "code",
   "execution_count": null,
   "id": "70725560-c727-4022-bce0-f56e3395700e",
   "metadata": {},
   "outputs": [],
   "source": [
    "model.fit(X_tr, y_tr)"
   ]
  },
  {
   "cell_type": "code",
   "execution_count": null,
   "id": "8befd7b7-3c71-4441-8430-3ac74d5d921b",
   "metadata": {},
   "outputs": [],
   "source": [
    "model.score(X_tr, y_tr)       #Training Score"
   ]
  },
  {
   "cell_type": "code",
   "execution_count": null,
   "id": "4fd0fb5b-d7dd-413f-8c43-9182b9c54c10",
   "metadata": {},
   "outputs": [],
   "source": [
    "y_pr = model.predict(X_te)"
   ]
  },
  {
   "cell_type": "code",
   "execution_count": null,
   "id": "5edaf5de-6f99-49f9-ad9e-2f6c38a6a4c3",
   "metadata": {},
   "outputs": [],
   "source": [
    "mean_squared_error(y_te, y_pr)"
   ]
  },
  {
   "cell_type": "code",
   "execution_count": null,
   "id": "96c6d870-a08c-4f33-8c62-3182f46482f5",
   "metadata": {},
   "outputs": [],
   "source": [
    "r2_score(y_te, y_pr)             #Testing Score"
   ]
  },
  {
   "cell_type": "code",
   "execution_count": null,
   "id": "99a052a6-a635-427e-a3ef-a2de1ecb5fba",
   "metadata": {},
   "outputs": [],
   "source": [
    "top_corr_cols = data.corr()[\"Price\"].abs().sort_values(ascending=False).head(16)"
   ]
  },
  {
   "cell_type": "code",
   "execution_count": null,
   "id": "f35b8159-9dd7-4b16-9ec0-620858bb8b33",
   "metadata": {},
   "outputs": [],
   "source": [
    "X_tr[top_corr_cols.index[1:]]"
   ]
  },
  {
   "cell_type": "code",
   "execution_count": null,
   "id": "5fed30f7-aed0-4c20-bc3d-fc33dc4d0dbc",
   "metadata": {},
   "outputs": [],
   "source": [
    "model2 = LinearRegression()"
   ]
  },
  {
   "cell_type": "code",
   "execution_count": null,
   "id": "4b1179cf-86c9-449e-93fb-26521543f298",
   "metadata": {},
   "outputs": [],
   "source": [
    "model2.fit(X_tr[top_corr_cols.index[1:]],y_tr)"
   ]
  },
  {
   "cell_type": "code",
   "execution_count": null,
   "id": "fe1b7dbb-0ab2-46a6-bc9a-e8a055c1958e",
   "metadata": {},
   "outputs": [],
   "source": [
    "model2.score(X_tr[top_corr_cols.index[1:]],y_tr)"
   ]
  },
  {
   "cell_type": "code",
   "execution_count": null,
   "id": "3c578ca1-786c-47bc-a06e-052a205feefb",
   "metadata": {},
   "outputs": [],
   "source": [
    "y_pr2 = model2.predict(X_te[top_corr_cols.index[1:]])"
   ]
  },
  {
   "cell_type": "code",
   "execution_count": null,
   "id": "9b343564-c104-46d4-bc37-731a9ce36a3e",
   "metadata": {},
   "outputs": [],
   "source": [
    "r2_score(y_te, y_pr2)"
   ]
  },
  {
   "cell_type": "code",
   "execution_count": null,
   "id": "1a6e894a-77cd-4f17-8676-d4df4ae8847a",
   "metadata": {},
   "outputs": [],
   "source": [
    "lasso_model = Lasso()"
   ]
  },
  {
   "cell_type": "code",
   "execution_count": null,
   "id": "9c703979-d41b-42aa-a0b2-d6fc9f703e09",
   "metadata": {},
   "outputs": [],
   "source": [
    "lasso_model.fit(X_tr, y_tr)"
   ]
  },
  {
   "cell_type": "code",
   "execution_count": null,
   "id": "600f355a-1b15-4d93-a4a7-67c18cfbde8a",
   "metadata": {},
   "outputs": [],
   "source": [
    "lasso_model.score(X_tr, y_tr)"
   ]
  },
  {
   "cell_type": "code",
   "execution_count": null,
   "id": "bc910f79-594d-48f4-91a4-2cdf9f6485e6",
   "metadata": {},
   "outputs": [],
   "source": [
    "lasso_pred = lasso_model.predict(X_te)"
   ]
  },
  {
   "cell_type": "code",
   "execution_count": null,
   "id": "0010cd50-c6f9-4acf-8887-28374ae8b6da",
   "metadata": {},
   "outputs": [],
   "source": [
    "r2_score(y_te, lasso_pred)"
   ]
  },
  {
   "cell_type": "code",
   "execution_count": null,
   "id": "9ca935d9-8276-4136-8d75-cf12b061b0bf",
   "metadata": {},
   "outputs": [],
   "source": [
    "ridge_model = Ridge()"
   ]
  },
  {
   "cell_type": "code",
   "execution_count": null,
   "id": "26c84582-ce25-4c21-bb67-ac259083e44e",
   "metadata": {},
   "outputs": [],
   "source": [
    "ridge_model.fit(X_tr, y_tr)"
   ]
  },
  {
   "cell_type": "code",
   "execution_count": null,
   "id": "301d3d33-b717-4710-b250-a0543e7d7282",
   "metadata": {},
   "outputs": [],
   "source": [
    "ridge_model.score(X_tr, y_tr)"
   ]
  },
  {
   "cell_type": "code",
   "execution_count": null,
   "id": "38a77175-899f-475a-aede-f1126c09f234",
   "metadata": {},
   "outputs": [],
   "source": [
    "ridge_pred = ridge_model.predict(X_te)"
   ]
  },
  {
   "cell_type": "code",
   "execution_count": null,
   "id": "0de8aa63-402e-4956-bcdf-c86696470199",
   "metadata": {},
   "outputs": [],
   "source": [
    "r2  = r2_score(y_te, ridge_pred)"
   ]
  },
  {
   "cell_type": "code",
   "execution_count": null,
   "id": "5c8d1906-e0e7-4901-acbb-4ba9935b968d",
   "metadata": {},
   "outputs": [],
   "source": [
    "n, p = X_te.shape"
   ]
  },
  {
   "cell_type": "code",
   "execution_count": null,
   "id": "bfa94751-92cf-4f18-aba1-7ef4777404d3",
   "metadata": {},
   "outputs": [],
   "source": [
    "adj_r2 = 1- (((1-r2)*(n-1))/(n - p - 1))"
   ]
  },
  {
   "cell_type": "code",
   "execution_count": null,
   "id": "06e89b88-a7de-4db4-8b49-98e8cbb8c6bb",
   "metadata": {},
   "outputs": [],
   "source": [
    "adj_r2"
   ]
  },
  {
   "cell_type": "code",
   "execution_count": null,
   "id": "c3477325-2085-4d75-a0d5-b2b1fa9ff806",
   "metadata": {},
   "outputs": [],
   "source": [
    "r2"
   ]
  },
  {
   "cell_type": "code",
   "execution_count": null,
   "id": "442d80e7-c868-43be-ba14-018ff1888877",
   "metadata": {},
   "outputs": [],
   "source": [
    "X_te.shape"
   ]
  },
  {
   "cell_type": "code",
   "execution_count": null,
   "id": "5f713b21-c102-4e05-a2ac-0195bd91beb1",
   "metadata": {},
   "outputs": [],
   "source": []
  }
 ],
 "metadata": {
  "kernelspec": {
   "display_name": "Python 3 (ipykernel)",
   "language": "python",
   "name": "python3"
  },
  "language_info": {
   "codemirror_mode": {
    "name": "ipython",
    "version": 3
   },
   "file_extension": ".py",
   "mimetype": "text/x-python",
   "name": "python",
   "nbconvert_exporter": "python",
   "pygments_lexer": "ipython3",
   "version": "3.11.9"
  }
 },
 "nbformat": 4,
 "nbformat_minor": 5
}
